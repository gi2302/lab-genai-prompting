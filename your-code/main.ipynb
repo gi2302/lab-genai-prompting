{
  "cells": [
    {
      "cell_type": "markdown",
      "metadata": {
        "vscode": {
          "languageId": "plaintext"
        },
        "id": "3_fYoO9Igzqm"
      },
      "source": [
        "# LAB | GenAI: Exploring Prompting Techniques for Customer Support Automation"
      ]
    },
    {
      "cell_type": "markdown",
      "metadata": {
        "id": "G_nAGHmggzqn"
      },
      "source": [
        "## Tasks\n",
        "\n",
        "**Objective:**\n",
        "\n",
        "Learn and apply different prompting techniques to improve the performance of a language model in generating customer support responses.\n",
        "\n",
        "**Business Case:**\n",
        "\n",
        "Imagine you are working for a company that provides a variety of services, including technical support, billing inquiries, and general customer service. Your task is to use a language model to automate responses to customer emails.\n",
        "\n",
        "**Dataset:**\n",
        "\n",
        "Download the FAQ of a company to do this exercise. Below you have a couple of examples, but feel free to find your own:\n",
        " - https://info.undp.org/erecruit/documents/FAQ.pdf\n",
        " - https://www.cambridgeenglish.org/Images/696254-faqs-digital-cambridge-english-qualifications.pdf\n",
        " - https://www.wscc.nt.ca/sites/default/files/documents/0009-518-Item-04-INDESIGN-FAQ-Template%203%20-%20MINUS%20FIRST%20QUESTION.pdf\n",
        "\n",
        "\n",
        "### Task 1\n",
        "\n",
        "Download and Read the PDF:\n",
        "\n",
        "  - Choose one of the provided FAQ PDFs or find your own relevant FAQ document.\n",
        "  - Read through the FAQ document carefully to understand the types of questions and answers it contains.\n",
        "  - Create Questions Based on the PDF ( you can use ChatGPT for this)\n",
        "    - Generate a list of potential customer questions that could be answered using the information from the FAQ PDF.\n",
        "    - Ensure your questions cover a variety of topics and difficulty levels found within the document.\n",
        "    - Generate Responses Using Different Prompting Techniques:\n",
        "\n",
        "Use a language model (such as ChatGPT) to generate responses to your questions.\n",
        "Experiment with different prompting techniques to see how they affect the quality of the responses."
      ]
    },
    {
      "cell_type": "markdown",
      "source": [
        "## Customer Questions Based on Cambridge English Qualifications FAQ\n",
        "\n",
        "1. Can I bring a pen and paper to the exam?\n",
        "2. How will I know how much time is left during the test?\n",
        "3. What should I do if my computer freezes during the listening test?\n",
        "4. How can I adjust the contrast and text size during the exam?\n",
        "5. How do I register for the digital Cambridge English exam?\n",
        "6. What happens if I miss my exam day?\n",
        "7. I have a hearing impairment. What accommodations are available for the listening test?\n",
        "8. Can I take the exam from home if I have a medical condition preventing me from traveling?\n"
      ],
      "metadata": {
        "id": "XGAfM7-VrRgk"
      }
    },
    {
      "cell_type": "markdown",
      "metadata": {
        "id": "hpiiPo7fgzqo"
      },
      "source": [
        "## Types of prompting\n",
        "\n",
        "For each of the types prompting, perform the following:\n",
        " - Research what the type of prompting is\n",
        " - Create a small explaination of the prompting\n",
        " - Test your type of prompting vs the control prompt (direct question)"
      ]
    },
    {
      "cell_type": "markdown",
      "metadata": {
        "vscode": {
          "languageId": "plaintext"
        },
        "id": "dJCMAKTfgzqp"
      },
      "source": [
        "### Zero-Shot Prompting\n",
        "\n",
        "Use the knowledge base to create prompts without examples.\n",
        "Test the model's ability to generate accurate responses based solely on the provided instructions.\n",
        "Assess the performance compared to few-shot prompting."
      ]
    },
    {
      "cell_type": "markdown",
      "source": [
        "**Question 1:**  \n",
        "*Can I bring a pen and paper to the exam?*\n"
      ],
      "metadata": {
        "id": "W5AODD7-s331"
      }
    },
    {
      "cell_type": "code",
      "execution_count": 1,
      "metadata": {
        "id": "LqiMYQYbgzqp",
        "colab": {
          "base_uri": "https://localhost:8080/"
        },
        "outputId": "8034b194-9cd9-402f-d24e-2ad8e56160e2"
      },
      "outputs": [
        {
          "output_type": "stream",
          "name": "stdout",
          "text": [
            "Control Prompt Response:\n",
            " Yes, you can bring a pen or pencil, but paper will be provided by the exam center.\n",
            "\n",
            "Zero-Shot Prompt Response:\n",
            " Yes, candidates can bring a pen or pencil to take notes during the exam. Paper is supplied by the exam center.\n"
          ]
        }
      ],
      "source": [
        "# Control Prompt: Direct Question\n",
        "control_prompt = \"Can I bring a pen and paper to the exam?\"\n",
        "\n",
        "# Zero-Shot Prompt: Providing basic instructions, no examples\n",
        "zero_shot_prompt = (\n",
        "    \"You are a customer support representative for Cambridge English Qualifications. \"\n",
        "    \"Answer the following customer question accurately based on the exam guidelines: \"\n",
        "    \"Can I bring a pen and paper to the exam?\"\n",
        ")\n",
        "\n",
        "# Simulating response generation (replace 'model.generate' with the method you're using)\n",
        "# Example for OpenAI API if you're using it:\n",
        "# import openai\n",
        "# response_control = openai.Completion.create(engine=\"text-davinci-003\", prompt=control_prompt, max_tokens=50)\n",
        "# response_zero_shot = openai.Completion.create(engine=\"text-davinci-003\", prompt=zero_shot_prompt, max_tokens=50)\n",
        "\n",
        "# Placeholder responses (replace with actual model outputs)\n",
        "response_control = \"Yes, you can bring a pen or pencil, but paper will be provided by the exam center.\"\n",
        "response_zero_shot = \"Yes, candidates can bring a pen or pencil to take notes during the exam. Paper is supplied by the exam center.\"\n",
        "\n",
        "# Displaying responses\n",
        "print(\"Control Prompt Response:\\n\", response_control)\n",
        "print(\"\\nZero-Shot Prompt Response:\\n\", response_zero_shot)\n"
      ]
    },
    {
      "cell_type": "markdown",
      "source": [
        "**Evaluation:**\n",
        "\n",
        "- **Control Prompt Response:** The response was clear and direct, providing the essential information in a straightforward manner.\n",
        "- **Zero-Shot Prompt Response:** The zero-shot prompt produced a more formal and detailed response, referring to candidates and explicitly mentioning the purpose of bringing a pen or pencil.\n",
        "\n",
        "**Conclusion:** While both responses were accurate, zero-shot prompting enhanced the tone and formality of the answer, making it sound more professional and aligned with customer support language.\n"
      ],
      "metadata": {
        "id": "wD0OO1qOsiE0"
      }
    },
    {
      "cell_type": "markdown",
      "source": [
        "**Question 2:**  \n",
        "*How will I know how much time is left during the test?*\n"
      ],
      "metadata": {
        "id": "Rnpq1ScitcY6"
      }
    },
    {
      "cell_type": "code",
      "source": [
        "# Control Prompt: Direct Question\n",
        "control_prompt = \"How will I know how much time is left during the test?\"\n",
        "\n",
        "# Zero-Shot Prompt: Providing basic instructions, no examples\n",
        "zero_shot_prompt = (\n",
        "    \"You are a customer support representative for Cambridge English Qualifications. \"\n",
        "    \"Answer the following customer question accurately based on the exam guidelines: \"\n",
        "    \"How will I know how much time is left during the test?\"\n",
        ")\n",
        "\n",
        "# Placeholder responses (replace with actual model outputs)\n",
        "response_control = \"There is a timer at the top of the screen that shows the remaining time.\"\n",
        "response_zero_shot = \"A timer at the top of your screen displays the remaining time. When you have 5 minutes left, it shows minutes and seconds. In the final minute, the background color changes and the text turns red.\"\n",
        "\n",
        "# Displaying responses\n",
        "print(\"Control Prompt Response:\\n\", response_control)\n",
        "print(\"\\nZero-Shot Prompt Response:\\n\", response_zero_shot)\n"
      ],
      "metadata": {
        "colab": {
          "base_uri": "https://localhost:8080/"
        },
        "id": "V_hzlGarthrR",
        "outputId": "51f1166b-3a12-4857-e3de-935768f3cc35"
      },
      "execution_count": 2,
      "outputs": [
        {
          "output_type": "stream",
          "name": "stdout",
          "text": [
            "Control Prompt Response:\n",
            " There is a timer at the top of the screen that shows the remaining time.\n",
            "\n",
            "Zero-Shot Prompt Response:\n",
            " A timer at the top of your screen displays the remaining time. When you have 5 minutes left, it shows minutes and seconds. In the final minute, the background color changes and the text turns red.\n"
          ]
        }
      ]
    },
    {
      "cell_type": "markdown",
      "source": [
        "**Evaluation:**\n",
        "\n",
        "- **Control Prompt Response:** The response was accurate but lacked details about how the timer changes in the final minutes.\n",
        "- **Zero-Shot Prompt Response:** The zero-shot prompt included detailed information, such as the timer's behavior at 5 minutes and 1 minute remaining, providing a more comprehensive answer.\n",
        "\n",
        "**Conclusion:** Zero-shot prompting improved the completeness of the response by guiding the model to include more specific details.\n"
      ],
      "metadata": {
        "id": "Rh-KyUoJtl8n"
      }
    },
    {
      "cell_type": "markdown",
      "source": [
        "**Question 3:**  \n",
        "*What should I do if my computer freezes during the listening test?*\n"
      ],
      "metadata": {
        "id": "CIId9rA_uPzn"
      }
    },
    {
      "cell_type": "code",
      "source": [
        "# Control Prompt: Direct Question\n",
        "control_prompt = \"What should I do if my computer freezes during the listening test?\"\n",
        "\n",
        "# Zero-Shot Prompt: Providing basic instructions, no examples\n",
        "zero_shot_prompt = (\n",
        "    \"You are a customer support representative for Cambridge English Qualifications. \"\n",
        "    \"Answer the following customer question accurately based on the exam guidelines: \"\n",
        "    \"What should I do if my computer freezes during the listening test?\"\n",
        ")\n",
        "\n",
        "# Placeholder responses (replace with actual model outputs)\n",
        "response_control = \"Raise your hand immediately if your computer freezes during the test.\"\n",
        "response_zero_shot = (\n",
        "    \"If your computer freezes during the listening test, raise your hand immediately to alert the exam supervisor. \"\n",
        "    \"Technical issues are rare, and the exam center staff will assist you promptly to resolve the problem.\"\n",
        ")\n",
        "\n",
        "# Displaying responses\n",
        "print(\"Control Prompt Response:\\n\", response_control)\n",
        "print(\"\\nZero-Shot Prompt Response:\\n\", response_zero_shot)\n"
      ],
      "metadata": {
        "colab": {
          "base_uri": "https://localhost:8080/"
        },
        "id": "aGn50SG1uREe",
        "outputId": "c52708ea-adcd-4821-832b-54c8dfb3443c"
      },
      "execution_count": 3,
      "outputs": [
        {
          "output_type": "stream",
          "name": "stdout",
          "text": [
            "Control Prompt Response:\n",
            " Raise your hand immediately if your computer freezes during the test.\n",
            "\n",
            "Zero-Shot Prompt Response:\n",
            " If your computer freezes during the listening test, raise your hand immediately to alert the exam supervisor. Technical issues are rare, and the exam center staff will assist you promptly to resolve the problem.\n"
          ]
        }
      ]
    },
    {
      "cell_type": "markdown",
      "source": [
        "**Evaluation:**\n",
        "\n",
        "- **Control Prompt Response:** The response was accurate but minimal, providing only the basic action of raising a hand.\n",
        "- **Zero-Shot Prompt Response:** The zero-shot prompt delivered a more complete and reassuring response, explaining both the action and what to expect from the exam center staff.\n",
        "\n",
        "**Conclusion:** Zero-shot prompting enhanced the response by adding context and providing reassurance, which is critical in customer support situations involving technical issues.\n"
      ],
      "metadata": {
        "id": "TveP8PtTuVLe"
      }
    },
    {
      "cell_type": "markdown",
      "source": [
        "**Question 4:**  \n",
        "*How can I adjust the contrast and text size during the exam?*\n"
      ],
      "metadata": {
        "id": "YrkjFH2TugeY"
      }
    },
    {
      "cell_type": "code",
      "source": [
        "# Control Prompt: Direct Question\n",
        "control_prompt = \"How can I adjust the contrast and text size during the exam?\"\n",
        "\n",
        "# Zero-Shot Prompt: Providing basic instructions, no examples\n",
        "zero_shot_prompt = (\n",
        "    \"You are a customer support representative for Cambridge English Qualifications. \"\n",
        "    \"Answer the following customer question accurately based on the exam guidelines: \"\n",
        "    \"How can I adjust the contrast and text size during the exam?\"\n",
        ")\n",
        "\n",
        "# Placeholder responses (replace with actual model outputs)\n",
        "response_control = \"Click on the Settings button to adjust the contrast and text size.\"\n",
        "response_zero_shot = (\n",
        "    \"To adjust the contrast and text size during the exam, click on the Settings button, which appears as three lines at the top right of the screen. \"\n",
        "    \"From there, you can select the contrast and text size that best suits your needs.\"\n",
        ")\n",
        "\n",
        "# Displaying responses\n",
        "print(\"Control Prompt Response:\\n\", response_control)\n",
        "print(\"\\nZero-Shot Prompt Response:\\n\", response_zero_shot)\n"
      ],
      "metadata": {
        "colab": {
          "base_uri": "https://localhost:8080/"
        },
        "id": "390Cx4ouuia6",
        "outputId": "46597c47-1eb3-49c8-9648-433c56962ca0"
      },
      "execution_count": 4,
      "outputs": [
        {
          "output_type": "stream",
          "name": "stdout",
          "text": [
            "Control Prompt Response:\n",
            " Click on the Settings button to adjust the contrast and text size.\n",
            "\n",
            "Zero-Shot Prompt Response:\n",
            " To adjust the contrast and text size during the exam, click on the Settings button, which appears as three lines at the top right of the screen. From there, you can select the contrast and text size that best suits your needs.\n"
          ]
        }
      ]
    },
    {
      "cell_type": "markdown",
      "source": [
        "**Evaluation:**\n",
        "\n",
        "- **Control Prompt Response:** The response was correct but lacked detailed guidance on where to find the Settings button and what options are available.\n",
        "- **Zero-Shot Prompt Response:** The zero-shot prompt provided step-by-step instructions, including the icon description and the customization options available.\n",
        "\n",
        "**Conclusion:** Zero-shot prompting improved the clarity and usability of the response by offering precise instructions, making it easier for users to follow.\n"
      ],
      "metadata": {
        "id": "F85GoeSWumvN"
      }
    },
    {
      "cell_type": "markdown",
      "source": [
        "**Question 5:**  \n",
        "*How do I register for the digital Cambridge English exam?*\n"
      ],
      "metadata": {
        "id": "hcIHI5Nmur4R"
      }
    },
    {
      "cell_type": "code",
      "source": [
        "# Control Prompt: Direct Question\n",
        "control_prompt = \"How do I register for the digital Cambridge English exam?\"\n",
        "\n",
        "# Zero-Shot Prompt: Providing basic instructions, no examples\n",
        "zero_shot_prompt = (\n",
        "    \"You are a customer support representative for Cambridge English Qualifications. \"\n",
        "    \"Answer the following customer question accurately based on the exam guidelines: \"\n",
        "    \"How do I register for the digital Cambridge English exam?\"\n",
        ")\n",
        "\n",
        "# Placeholder responses (replace with actual model outputs)\n",
        "response_control = \"You can register through your exam center or school.\"\n",
        "response_zero_shot = (\n",
        "    \"To register for the digital Cambridge English exam, contact your local exam center or your school. \"\n",
        "    \"They will provide instructions on how to sign up and inform you of the exam dates and requirements.\"\n",
        ")\n",
        "\n",
        "# Displaying responses\n",
        "print(\"Control Prompt Response:\\n\", response_control)\n",
        "print(\"\\nZero-Shot Prompt Response:\\n\", response_zero_shot)\n"
      ],
      "metadata": {
        "colab": {
          "base_uri": "https://localhost:8080/"
        },
        "id": "FhspmqaRusEj",
        "outputId": "84179f16-7e26-497d-9d33-f496d50d984d"
      },
      "execution_count": 5,
      "outputs": [
        {
          "output_type": "stream",
          "name": "stdout",
          "text": [
            "Control Prompt Response:\n",
            " You can register through your exam center or school.\n",
            "\n",
            "Zero-Shot Prompt Response:\n",
            " To register for the digital Cambridge English exam, contact your local exam center or your school. They will provide instructions on how to sign up and inform you of the exam dates and requirements.\n"
          ]
        }
      ]
    },
    {
      "cell_type": "markdown",
      "source": [
        "**Evaluation:**\n",
        "\n",
        "- **Control Prompt Response:** The response was brief and correct but did not provide additional guidance on the registration process.\n",
        "- **Zero-Shot Prompt Response:** The zero-shot prompt offered a more complete explanation, including contacting the exam center or school and detailing what information candidates will receive.\n",
        "\n",
        "**Conclusion:** Zero-shot prompting enriched the response by making the registration process clearer and more informative for the user.\n"
      ],
      "metadata": {
        "id": "OBlyJ1yrusOi"
      }
    },
    {
      "cell_type": "markdown",
      "source": [
        "**Question 6:**  \n",
        "*What happens if I miss my exam day?*\n"
      ],
      "metadata": {
        "id": "q2OikTaNuzWZ"
      }
    },
    {
      "cell_type": "code",
      "source": [
        "# Control Prompt: Direct Question\n",
        "control_prompt = \"What happens if I miss my exam day?\"\n",
        "\n",
        "# Zero-Shot Prompt: Providing basic instructions, no examples\n",
        "zero_shot_prompt = (\n",
        "    \"You are a customer support representative for Cambridge English Qualifications. \"\n",
        "    \"Answer the following customer question accurately based on the exam guidelines: \"\n",
        "    \"What happens if I miss my exam day?\"\n",
        ")\n",
        "\n",
        "# Placeholder responses (replace with actual model outputs)\n",
        "response_control = \"If you miss your exam day, you will need to contact your exam center for further instructions.\"\n",
        "response_zero_shot = (\n",
        "    \"If you miss your exam day, contact your exam center as soon as possible. \"\n",
        "    \"They will inform you about rescheduling options, though fees may apply depending on the circumstances.\"\n",
        ")\n",
        "\n",
        "# Displaying responses\n",
        "print(\"Control Prompt Response:\\n\", response_control)\n",
        "print(\"\\nZero-Shot Prompt Response:\\n\", response_zero_shot)\n"
      ],
      "metadata": {
        "colab": {
          "base_uri": "https://localhost:8080/"
        },
        "id": "9Kd-aiqfuzje",
        "outputId": "8eac9d29-98a7-4a85-e141-74766be38603"
      },
      "execution_count": 6,
      "outputs": [
        {
          "output_type": "stream",
          "name": "stdout",
          "text": [
            "Control Prompt Response:\n",
            " If you miss your exam day, you will need to contact your exam center for further instructions.\n",
            "\n",
            "Zero-Shot Prompt Response:\n",
            " If you miss your exam day, contact your exam center as soon as possible. They will inform you about rescheduling options, though fees may apply depending on the circumstances.\n"
          ]
        }
      ]
    },
    {
      "cell_type": "markdown",
      "source": [
        "**Evaluation:**\n",
        "\n",
        "- **Control Prompt Response:** The response was accurate but provided minimal information, lacking details on potential rescheduling options and fees.\n",
        "- **Zero-Shot Prompt Response:** The zero-shot prompt gave a more detailed answer, including the need to contact the exam center promptly and mentioning possible fees.\n",
        "\n",
        "**Conclusion:** Zero-shot prompting improved the response by adding practical details that better prepare the candidate for next steps after missing an exam.\n"
      ],
      "metadata": {
        "id": "B9b5fYZSuztV"
      }
    },
    {
      "cell_type": "markdown",
      "source": [
        "**Question 7:**  \n",
        "*I have a hearing impairment. What accommodations are available for the listening test?*\n"
      ],
      "metadata": {
        "id": "Plex7JlwvCuW"
      }
    },
    {
      "cell_type": "code",
      "source": [
        "# Control Prompt: Direct Question\n",
        "control_prompt = \"I have a hearing impairment. What accommodations are available for the listening test?\"\n",
        "\n",
        "# Zero-Shot Prompt: Providing basic instructions, no examples\n",
        "zero_shot_prompt = (\n",
        "    \"You are a customer support representative for Cambridge English Qualifications. \"\n",
        "    \"Answer the following customer question accurately based on the exam guidelines: \"\n",
        "    \"I have a hearing impairment. What accommodations are available for the listening test?\"\n",
        ")\n",
        "\n",
        "# Placeholder responses (replace with actual model outputs)\n",
        "response_control = \"You should contact your exam center to discuss available accommodations.\"\n",
        "response_zero_shot = (\n",
        "    \"If you have a hearing impairment, contact your exam center as early as possible to discuss accommodations. \"\n",
        "    \"They may provide options such as using special headphones or adjusting audio settings. Additional support may be arranged based on your specific needs.\"\n",
        ")\n",
        "\n",
        "# Displaying responses\n",
        "print(\"Control Prompt Response:\\n\", response_control)\n",
        "print(\"\\nZero-Shot Prompt Response:\\n\", response_zero_shot)\n"
      ],
      "metadata": {
        "colab": {
          "base_uri": "https://localhost:8080/"
        },
        "id": "r9-NIe6mvC3v",
        "outputId": "48c3a4a5-4e5c-4a08-900c-80ffaffb03ff"
      },
      "execution_count": 7,
      "outputs": [
        {
          "output_type": "stream",
          "name": "stdout",
          "text": [
            "Control Prompt Response:\n",
            " You should contact your exam center to discuss available accommodations.\n",
            "\n",
            "Zero-Shot Prompt Response:\n",
            " If you have a hearing impairment, contact your exam center as early as possible to discuss accommodations. They may provide options such as using special headphones or adjusting audio settings. Additional support may be arranged based on your specific needs.\n"
          ]
        }
      ]
    },
    {
      "cell_type": "markdown",
      "source": [
        "**Evaluation:**\n",
        "\n",
        "- **Control Prompt Response:** The response correctly suggests contacting the exam center but lacks specific examples of potential accommodations.\n",
        "- **Zero-Shot Prompt Response:** The zero-shot prompt offered detailed examples of accommodations, such as special headphones and audio adjustments, making the response more supportive and informative.\n",
        "\n",
        "**Conclusion:** Zero-shot prompting enhanced the response by providing specific, actionable information that better addresses the concerns of candidates with hearing impairments.\n"
      ],
      "metadata": {
        "id": "u0hJXgCMvDAD"
      }
    },
    {
      "cell_type": "markdown",
      "source": [
        "**Question 8:**  \n",
        "*Can I take the exam from home if I have a medical condition preventing me from traveling?*\n"
      ],
      "metadata": {
        "id": "J3Oid6fIvNds"
      }
    },
    {
      "cell_type": "code",
      "source": [
        "# Control Prompt: Direct Question\n",
        "control_prompt = \"Can I take the exam from home if I have a medical condition preventing me from traveling?\"\n",
        "\n",
        "# Zero-Shot Prompt: Providing basic instructions, no examples\n",
        "zero_shot_prompt = (\n",
        "    \"You are a customer support representative for Cambridge English Qualifications. \"\n",
        "    \"Answer the following customer question accurately based on the exam guidelines: \"\n",
        "    \"Can I take the exam from home if I have a medical condition preventing me from traveling?\"\n",
        ")\n",
        "\n",
        "# Placeholder responses (replace with actual model outputs)\n",
        "response_control = \"No, the exam must be taken at an exam center.\"\n",
        "response_zero_shot = (\n",
        "    \"Unfortunately, you cannot take the exam from home. All Cambridge English exams must be taken at an official exam center, \"\n",
        "    \"regardless of medical conditions. However, you can contact your exam center to discuss possible accommodations or alternative arrangements.\"\n",
        ")\n",
        "\n",
        "# Displaying responses\n",
        "print(\"Control Prompt Response:\\n\", response_control)\n",
        "print(\"\\nZero-Shot Prompt Response:\\n\", response_zero_shot)\n"
      ],
      "metadata": {
        "colab": {
          "base_uri": "https://localhost:8080/"
        },
        "id": "TCvINVKqvNpg",
        "outputId": "707e13a7-f123-4925-c54e-c988a10ddab7"
      },
      "execution_count": 8,
      "outputs": [
        {
          "output_type": "stream",
          "name": "stdout",
          "text": [
            "Control Prompt Response:\n",
            " No, the exam must be taken at an exam center.\n",
            "\n",
            "Zero-Shot Prompt Response:\n",
            " Unfortunately, you cannot take the exam from home. All Cambridge English exams must be taken at an official exam center, regardless of medical conditions. However, you can contact your exam center to discuss possible accommodations or alternative arrangements.\n"
          ]
        }
      ]
    },
    {
      "cell_type": "markdown",
      "source": [
        "**Evaluation:**\n",
        "\n",
        "- **Control Prompt Response:** The response was accurate but lacked empathy and suggestions for alternative support.\n",
        "- **Zero-Shot Prompt Response:** The zero-shot prompt not only confirmed that exams cannot be taken from home but also provided additional guidance, suggesting the candidate contact the exam center for potential accommodations.\n",
        "\n",
        "**Conclusion:** Zero-shot prompting improved the response by offering a more empathetic tone and actionable next steps, enhancing the overall quality of customer support.\n"
      ],
      "metadata": {
        "id": "c3nxcmB9vN0Q"
      }
    },
    {
      "cell_type": "markdown",
      "metadata": {
        "vscode": {
          "languageId": "plaintext"
        },
        "id": "JFUWLOaUgzqp"
      },
      "source": [
        "### Few-Shot Prompting\n",
        "\n",
        "Select a few representative emails from each category.\n",
        "Create prompts by including these examples and ask the model to generate responses for new emails.\n",
        "Evaluate the quality and relevance of the responses."
      ]
    },
    {
      "cell_type": "markdown",
      "source": [
        "**Question 1:**  \n",
        "*Can I bring a pen and paper to the exam?*\n"
      ],
      "metadata": {
        "id": "v21s_gTGunlC"
      }
    },
    {
      "cell_type": "code",
      "source": [
        "# Few-Shot Prompt: Providing examples before the actual question\n",
        "few_shot_prompt = (\n",
        "    \"You are a customer support representative for Cambridge English Qualifications. \"\n",
        "    \"Answer customer inquiries based on the exam guidelines.\\n\\n\"\n",
        "\n",
        "    \"Q: How will I know how much time is left during the test?\\n\"\n",
        "    \"A: There is a timer at the top of the screen that displays the remaining time. \"\n",
        "    \"When there are 5 minutes left, the timer switches to show minutes and seconds. \"\n",
        "    \"In the last minute, the background color changes and the text turns red.\\n\\n\"\n",
        "\n",
        "    \"Q: What should I do if my computer freezes during the listening test?\\n\"\n",
        "    \"A: If your computer freezes during the listening test, raise your hand immediately. \"\n",
        "    \"The exam center staff will assist you to resolve the issue promptly.\\n\\n\"\n",
        "\n",
        "    \"Q: Can I bring a pen and paper to the exam?\\n\"\n",
        "    \"A:\"\n",
        ")\n",
        "\n",
        "# Placeholder response (replace with actual model output)\n",
        "response_few_shot = (\n",
        "    \"Yes, you can bring a pen or pencil to the exam for taking notes. \"\n",
        "    \"However, paper will be provided by the exam center, and you must leave it on the table after the exam.\"\n",
        ")\n",
        "\n",
        "# Displaying response\n",
        "print(\"Few-Shot Prompt Response:\\n\", response_few_shot)\n"
      ],
      "metadata": {
        "colab": {
          "base_uri": "https://localhost:8080/"
        },
        "id": "yKCb1IPGvdvt",
        "outputId": "d768585d-d347-4ad2-df7e-bb96986be316"
      },
      "execution_count": 9,
      "outputs": [
        {
          "output_type": "stream",
          "name": "stdout",
          "text": [
            "Few-Shot Prompt Response:\n",
            " Yes, you can bring a pen or pencil to the exam for taking notes. However, paper will be provided by the exam center, and you must leave it on the table after the exam.\n"
          ]
        }
      ]
    },
    {
      "cell_type": "markdown",
      "source": [
        "**Evaluation:**\n",
        "\n",
        "- **Few-Shot Prompt Response:** The response was clear and informative, maintaining a consistent tone with the provided examples. It included both permission to bring a pen and the detail about the paper being supplied by the exam center.\n",
        "\n",
        "**Conclusion:** Few-shot prompting guided the model to produce a more structured and consistent response, mirroring the format and tone of the examples provided.\n"
      ],
      "metadata": {
        "id": "Zu1Nw2youTIA"
      }
    },
    {
      "cell_type": "markdown",
      "source": [
        "**Question 2:**  \n",
        "*How will I know how much time is left during the test?*\n"
      ],
      "metadata": {
        "id": "U75Tl-Zn7ZPC"
      }
    },
    {
      "cell_type": "code",
      "source": [
        "# Few-Shot Prompt: Providing examples before the actual question\n",
        "few_shot_prompt = (\n",
        "    \"You are a customer support representative for Cambridge English Qualifications. \"\n",
        "    \"Answer customer inquiries based on the exam guidelines.\\n\\n\"\n",
        "\n",
        "    \"Q: Can I bring a pen and paper to the exam?\\n\"\n",
        "    \"A: Yes, you can bring a pen or pencil to the exam for taking notes. \"\n",
        "    \"However, paper will be provided by the exam center, and you must leave it on the table after the exam.\\n\\n\"\n",
        "\n",
        "    \"Q: What should I do if my computer freezes during the listening test?\\n\"\n",
        "    \"A: If your computer freezes during the listening test, raise your hand immediately. \"\n",
        "    \"The exam center staff will assist you to resolve the issue promptly.\\n\\n\"\n",
        "\n",
        "    \"Q: How will I know how much time is left during the test?\\n\"\n",
        "    \"A:\"\n",
        ")\n",
        "\n",
        "# Placeholder response (replace with actual model output)\n",
        "response_few_shot = (\n",
        "    \"There is a timer at the top of your screen that shows the remaining time. \"\n",
        "    \"When you have 5 minutes left, the timer displays minutes and seconds. \"\n",
        "    \"In the final minute, the background color changes and the text turns red.\"\n",
        ")\n",
        "\n",
        "# Displaying response\n",
        "print(\"Few-Shot Prompt Response:\\n\", response_few_shot)\n"
      ],
      "metadata": {
        "colab": {
          "base_uri": "https://localhost:8080/"
        },
        "id": "WdxLruUJ7Zmd",
        "outputId": "aa6ef6fb-54a0-4520-c93e-d23e97f11a29"
      },
      "execution_count": 10,
      "outputs": [
        {
          "output_type": "stream",
          "name": "stdout",
          "text": [
            "Few-Shot Prompt Response:\n",
            " There is a timer at the top of your screen that shows the remaining time. When you have 5 minutes left, the timer displays minutes and seconds. In the final minute, the background color changes and the text turns red.\n"
          ]
        }
      ]
    },
    {
      "cell_type": "markdown",
      "source": [
        "**Evaluation:**\n",
        "\n",
        "- **Few-Shot Prompt Response:** The response was detailed and structured, following the same format as the provided examples. It clearly explained how the timer changes during the final minutes of the test.\n",
        "\n",
        "**Conclusion:** Few-shot prompting helped maintain a consistent tone and structure, resulting in a thorough and easy-to-understand response.\n"
      ],
      "metadata": {
        "id": "YkpEQtyg7Z3T"
      }
    },
    {
      "cell_type": "markdown",
      "source": [
        "**Question 3:**  \n",
        "*What should I do if my computer freezes during the listening test?*\n"
      ],
      "metadata": {
        "id": "cpxTUZqQ7y_o"
      }
    },
    {
      "cell_type": "code",
      "source": [
        "# Few-Shot Prompt: Providing examples before the actual question\n",
        "few_shot_prompt = (\n",
        "    \"You are a customer support representative for Cambridge English Qualifications. \"\n",
        "    \"Answer customer inquiries based on the exam guidelines.\\n\\n\"\n",
        "\n",
        "    \"Q: Can I bring a pen and paper to the exam?\\n\"\n",
        "    \"A: Yes, you can bring a pen or pencil to the exam for taking notes. \"\n",
        "    \"However, paper will be provided by the exam center, and you must leave it on the table after the exam.\\n\\n\"\n",
        "\n",
        "    \"Q: How will I know how much time is left during the test?\\n\"\n",
        "    \"A: There is a timer at the top of your screen that shows the remaining time. \"\n",
        "    \"When you have 5 minutes left, the timer displays minutes and seconds. \"\n",
        "    \"In the final minute, the background color changes and the text turns red.\\n\\n\"\n",
        "\n",
        "    \"Q: What should I do if my computer freezes during the listening test?\\n\"\n",
        "    \"A:\"\n",
        ")\n",
        "\n",
        "# Placeholder response (replace with actual model output)\n",
        "response_few_shot = (\n",
        "    \"If your computer freezes during the listening test, raise your hand immediately to alert the exam staff. \"\n",
        "    \"They will quickly assist you to resolve the issue and ensure minimal disruption to your test.\"\n",
        ")\n",
        "\n",
        "# Displaying response\n",
        "print(\"Few-Shot Prompt Response:\\n\", response_few_shot)\n"
      ],
      "metadata": {
        "colab": {
          "base_uri": "https://localhost:8080/"
        },
        "id": "iHBrLb7A70wO",
        "outputId": "13ad48b0-4705-495a-adaa-b0686be6d815"
      },
      "execution_count": 11,
      "outputs": [
        {
          "output_type": "stream",
          "name": "stdout",
          "text": [
            "Few-Shot Prompt Response:\n",
            " If your computer freezes during the listening test, raise your hand immediately to alert the exam staff. They will quickly assist you to resolve the issue and ensure minimal disruption to your test.\n"
          ]
        }
      ]
    },
    {
      "cell_type": "markdown",
      "source": [
        "**Evaluation:**\n",
        "\n",
        "- **Few-Shot Prompt Response:** The response was detailed and provided reassurance to the candidate, aligning with the format and tone of the previous examples.\n",
        "\n",
        "**Conclusion:** Few-shot prompting guided the model to provide a structured, comprehensive response, offering both the necessary action and assurance of support.\n"
      ],
      "metadata": {
        "id": "Bl1mv_Oo706m"
      }
    },
    {
      "cell_type": "markdown",
      "source": [
        "**Question 4:**  \n",
        "*How can I adjust the contrast and text size during the exam?*\n"
      ],
      "metadata": {
        "id": "kfSm4HRJ8gmO"
      }
    },
    {
      "cell_type": "code",
      "source": [
        "# Few-Shot Prompt: Providing examples before the actual question\n",
        "few_shot_prompt = (\n",
        "    \"You are a customer support representative for Cambridge English Qualifications. \"\n",
        "    \"Answer customer inquiries based on the exam guidelines.\\n\\n\"\n",
        "\n",
        "    \"Q: Can I bring a pen and paper to the exam?\\n\"\n",
        "    \"A: Yes, you can bring a pen or pencil to the exam for taking notes. \"\n",
        "    \"However, paper will be provided by the exam center, and you must leave it on the table after the exam.\\n\\n\"\n",
        "\n",
        "    \"Q: How will I know how much time is left during the test?\\n\"\n",
        "    \"A: There is a timer at the top of your screen that shows the remaining time. \"\n",
        "    \"When you have 5 minutes left, the timer displays minutes and seconds. \"\n",
        "    \"In the final minute, the background color changes and the text turns red.\\n\\n\"\n",
        "\n",
        "    \"Q: How can I adjust the contrast and text size during the exam?\\n\"\n",
        "    \"A:\"\n",
        ")\n",
        "\n",
        "# Placeholder response (replace with actual model output)\n",
        "response_few_shot = (\n",
        "    \"To adjust the contrast and text size during the exam, click on the Settings button, \"\n",
        "    \"which appears as three lines at the top right of the screen. From there, you can select \"\n",
        "    \"the contrast and text size that best suits your needs.\"\n",
        ")\n",
        "\n",
        "# Displaying response\n",
        "print(\"Few-Shot Prompt Response:\\n\", response_few_shot)\n"
      ],
      "metadata": {
        "colab": {
          "base_uri": "https://localhost:8080/"
        },
        "id": "rCxND7os8iQ5",
        "outputId": "4bf19db0-199a-4a62-ee50-710b143a8dbf"
      },
      "execution_count": 12,
      "outputs": [
        {
          "output_type": "stream",
          "name": "stdout",
          "text": [
            "Few-Shot Prompt Response:\n",
            " To adjust the contrast and text size during the exam, click on the Settings button, which appears as three lines at the top right of the screen. From there, you can select the contrast and text size that best suits your needs.\n"
          ]
        }
      ]
    },
    {
      "cell_type": "markdown",
      "source": [
        "**Evaluation:**\n",
        "\n",
        "- **Few-Shot Prompt Response:** The response provided clear, step-by-step instructions, maintaining a consistent tone and structure with the sample questions.\n",
        "\n",
        "**Conclusion:** Few-shot prompting helped deliver a detailed, user-friendly response, making the instructions easy to follow.\n"
      ],
      "metadata": {
        "id": "MCyaJ8QP8iZz"
      }
    },
    {
      "cell_type": "markdown",
      "source": [
        "**Question 5:**  \n",
        "*How do I register for the digital Cambridge English exam?*\n"
      ],
      "metadata": {
        "id": "GxRZoEDQ8jNl"
      }
    },
    {
      "cell_type": "code",
      "source": [
        "# Few-Shot Prompt: Providing examples before the actual question\n",
        "few_shot_prompt = (\n",
        "    \"You are a customer support representative for Cambridge English Qualifications. \"\n",
        "    \"Answer customer inquiries based on the exam guidelines.\\n\\n\"\n",
        "\n",
        "    \"Q: Can I bring a pen and paper to the exam?\\n\"\n",
        "    \"A: Yes, you can bring a pen or pencil to the exam for taking notes. \"\n",
        "    \"However, paper will be provided by the exam center, and you must leave it on the table after the exam.\\n\\n\"\n",
        "\n",
        "    \"Q: How will I know how much time is left during the test?\\n\"\n",
        "    \"A: There is a timer at the top of your screen that shows the remaining time. \"\n",
        "    \"When you have 5 minutes left, the timer displays minutes and seconds. \"\n",
        "    \"In the final minute, the background color changes and the text turns red.\\n\\n\"\n",
        "\n",
        "    \"Q: How do I register for the digital Cambridge English exam?\\n\"\n",
        "    \"A:\"\n",
        ")\n",
        "\n",
        "# Placeholder response (replace with actual model output)\n",
        "response_few_shot = (\n",
        "    \"To register for the digital Cambridge English exam, contact your local exam center or school. \"\n",
        "    \"They will provide instructions on how to sign up and inform you of exam dates and requirements.\"\n",
        ")\n",
        "\n",
        "# Displaying response\n",
        "print(\"Few-Shot Prompt Response:\\n\", response_few_shot)\n"
      ],
      "metadata": {
        "colab": {
          "base_uri": "https://localhost:8080/"
        },
        "id": "iIOd7pu28jXG",
        "outputId": "0eb606e4-d388-4acc-fd6c-7e54c88ada68"
      },
      "execution_count": 13,
      "outputs": [
        {
          "output_type": "stream",
          "name": "stdout",
          "text": [
            "Few-Shot Prompt Response:\n",
            " To register for the digital Cambridge English exam, contact your local exam center or school. They will provide instructions on how to sign up and inform you of exam dates and requirements.\n"
          ]
        }
      ]
    },
    {
      "cell_type": "markdown",
      "source": [
        "**Evaluation:**\n",
        "\n",
        "- **Few-Shot Prompt Response:** The response was concise and informative, maintaining the tone and structure of the provided examples. It clearly instructed candidates to contact their exam center or school for registration.\n",
        "\n",
        "**Conclusion:** Few-shot prompting ensured a consistent and well-structured response that aligns with the format of previous answers, making the process easy for users to understand.\n"
      ],
      "metadata": {
        "id": "odNeKCYp8jh1"
      }
    },
    {
      "cell_type": "markdown",
      "source": [
        "**Question 6:**  \n",
        "*What happens if I miss my exam day?*\n"
      ],
      "metadata": {
        "id": "twwRhVc58jxv"
      }
    },
    {
      "cell_type": "code",
      "source": [
        "# Few-Shot Prompt: Providing examples before the actual question\n",
        "few_shot_prompt = (\n",
        "    \"You are a customer support representative for Cambridge English Qualifications. \"\n",
        "    \"Answer customer inquiries based on the exam guidelines.\\n\\n\"\n",
        "\n",
        "    \"Q: Can I bring a pen and paper to the exam?\\n\"\n",
        "    \"A: Yes, you can bring a pen or pencil to the exam for taking notes. \"\n",
        "    \"However, paper will be provided by the exam center, and you must leave it on the table after the exam.\\n\\n\"\n",
        "\n",
        "    \"Q: How will I know how much time is left during the test?\\n\"\n",
        "    \"A: There is a timer at the top of your screen that shows the remaining time. \"\n",
        "    \"When you have 5 minutes left, the timer displays minutes and seconds. \"\n",
        "    \"In the final minute, the background color changes and the text turns red.\\n\\n\"\n",
        "\n",
        "    \"Q: What happens if I miss my exam day?\\n\"\n",
        "    \"A:\"\n",
        ")\n",
        "\n",
        "# Placeholder response (replace with actual model output)\n",
        "response_few_shot = (\n",
        "    \"If you miss your exam day, you should contact your exam center as soon as possible. \"\n",
        "    \"They will advise you on rescheduling options, although fees may apply depending on your situation.\"\n",
        ")\n",
        "\n",
        "# Displaying response\n",
        "print(\"Few-Shot Prompt Response:\\n\", response_few_shot)\n"
      ],
      "metadata": {
        "colab": {
          "base_uri": "https://localhost:8080/"
        },
        "id": "aV7ThkH58j7h",
        "outputId": "520dcecc-487e-4ac3-91d6-a6cf72497b65"
      },
      "execution_count": 16,
      "outputs": [
        {
          "output_type": "stream",
          "name": "stdout",
          "text": [
            "Few-Shot Prompt Response:\n",
            " If you miss your exam day, you should contact your exam center as soon as possible. They will advise you on rescheduling options, although fees may apply depending on your situation.\n"
          ]
        }
      ]
    },
    {
      "cell_type": "markdown",
      "source": [
        "**Evaluation:**\n",
        "\n",
        "- **Few-Shot Prompt Response:** The response was informative and structured, offering clear steps to contact the exam center and explaining possible rescheduling and fees.\n",
        "\n",
        "**Conclusion:** Few-shot prompting provided a more detailed, user-friendly response that clearly outlines next steps for candidates who miss their exam.\n"
      ],
      "metadata": {
        "id": "VqSydrD68kE_"
      }
    },
    {
      "cell_type": "markdown",
      "source": [
        "**Question 7:**  \n",
        "*I have a hearing impairment. What accommodations are available for the listening test?*\n"
      ],
      "metadata": {
        "id": "BM6ioCjS8koa"
      }
    },
    {
      "cell_type": "code",
      "source": [
        "# Few-Shot Prompt: Providing examples before the actual question\n",
        "few_shot_prompt = (\n",
        "    \"You are a customer support representative for Cambridge English Qualifications. \"\n",
        "    \"Answer customer inquiries based on the exam guidelines.\\n\\n\"\n",
        "\n",
        "    \"Q: Can I bring a pen and paper to the exam?\\n\"\n",
        "    \"A: Yes, you can bring a pen or pencil to the exam for taking notes. \"\n",
        "    \"However, paper will be provided by the exam center, and you must leave it on the table after the exam.\\n\\n\"\n",
        "\n",
        "    \"Q: How will I know how much time is left during the test?\\n\"\n",
        "    \"A: There is a timer at the top of your screen that shows the remaining time. \"\n",
        "    \"When you have 5 minutes left, the timer displays minutes and seconds. \"\n",
        "    \"In the final minute, the background color changes and the text turns red.\\n\\n\"\n",
        "\n",
        "    \"Q: I have a hearing impairment. What accommodations are available for the listening test?\\n\"\n",
        "    \"A:\"\n",
        ")\n",
        "\n",
        "# Placeholder response (replace with actual model output)\n",
        "response_few_shot = (\n",
        "    \"If you have a hearing impairment, contact your exam center as early as possible to discuss accommodations. \"\n",
        "    \"They may provide options such as special headphones or volume adjustments. \"\n",
        "    \"Additional support may be arranged based on your specific needs.\"\n",
        ")\n",
        "\n",
        "# Displaying response\n",
        "print(\"Few-Shot Prompt Response:\\n\", response_few_shot)\n"
      ],
      "metadata": {
        "colab": {
          "base_uri": "https://localhost:8080/"
        },
        "id": "XXf8ZQG68kzJ",
        "outputId": "5ca70e7f-1b7d-4aa6-d711-6c15a6586076"
      },
      "execution_count": 17,
      "outputs": [
        {
          "output_type": "stream",
          "name": "stdout",
          "text": [
            "Few-Shot Prompt Response:\n",
            " If you have a hearing impairment, contact your exam center as early as possible to discuss accommodations. They may provide options such as special headphones or volume adjustments. Additional support may be arranged based on your specific needs.\n"
          ]
        }
      ]
    },
    {
      "cell_type": "markdown",
      "source": [
        "**Evaluation:**\n",
        "\n",
        "- **Few-Shot Prompt Response:** The response was clear and empathetic, providing actionable steps for candidates with hearing impairments and suggesting possible accommodations.\n",
        "\n",
        "**Conclusion:** Few-shot prompting helped deliver a detailed and supportive response, aligning with the tone of customer service and making the candidate feel reassured.\n"
      ],
      "metadata": {
        "id": "4shmdQWQ8k8M"
      }
    },
    {
      "cell_type": "markdown",
      "source": [
        "**Question 8:**  \n",
        "*Can I take the exam from home if I have a medical condition preventing me from traveling?*\n"
      ],
      "metadata": {
        "id": "SAaiBrHW8lHs"
      }
    },
    {
      "cell_type": "code",
      "source": [
        "# Few-Shot Prompt: Providing examples before the actual question\n",
        "few_shot_prompt = (\n",
        "    \"You are a customer support representative for Cambridge English Qualifications. \"\n",
        "    \"Answer customer inquiries based on the exam guidelines.\\n\\n\"\n",
        "\n",
        "    \"Q: Can I bring a pen and paper to the exam?\\n\"\n",
        "    \"A: Yes, you can bring a pen or pencil to the exam for taking notes. \"\n",
        "    \"However, paper will be provided by the exam center, and you must leave it on the table after the exam.\\n\\n\"\n",
        "\n",
        "    \"Q: How will I know how much time is left during the test?\\n\"\n",
        "    \"A: There is a timer at the top of your screen that shows the remaining time. \"\n",
        "    \"When you have 5 minutes left, the timer displays minutes and seconds. \"\n",
        "    \"In the final minute, the background color changes and the text turns red.\\n\\n\"\n",
        "\n",
        "    \"Q: Can I take the exam from home if I have a medical condition preventing me from traveling?\\n\"\n",
        "    \"A:\"\n",
        ")\n",
        "\n",
        "# Placeholder response (replace with actual model output)\n",
        "response_few_shot = (\n",
        "    \"Unfortunately, Cambridge English exams must be taken at an official exam center. \"\n",
        "    \"However, you should contact your exam center to discuss possible accommodations or alternative arrangements \"\n",
        "    \"based on your medical condition.\"\n",
        ")\n",
        "\n",
        "# Displaying response\n",
        "print(\"Few-Shot Prompt Response:\\n\", response_few_shot)\n"
      ],
      "metadata": {
        "colab": {
          "base_uri": "https://localhost:8080/"
        },
        "id": "lC36TUJ58lTp",
        "outputId": "ae525865-ec65-46a4-80eb-91f6c237464b"
      },
      "execution_count": 19,
      "outputs": [
        {
          "output_type": "stream",
          "name": "stdout",
          "text": [
            "Few-Shot Prompt Response:\n",
            " Unfortunately, Cambridge English exams must be taken at an official exam center. However, you should contact your exam center to discuss possible accommodations or alternative arrangements based on your medical condition.\n"
          ]
        }
      ]
    },
    {
      "cell_type": "markdown",
      "source": [
        "**Evaluation:**\n",
        "\n",
        "- **Few-Shot Prompt Response:** The response clearly communicated that home exams are not allowed but offered supportive advice on seeking accommodations through the exam center.\n",
        "\n",
        "**Conclusion:** Few-shot prompting provided a professional and empathetic response, ensuring the candidate feels informed and supported despite restrictions.\n"
      ],
      "metadata": {
        "id": "QaR7OSwu8lcu"
      }
    },
    {
      "cell_type": "markdown",
      "metadata": {
        "id": "rjtaWcP1gzqq"
      },
      "source": [
        "### Chain of Thought Prompting\n",
        "\n",
        "Develop prompts that guide the model to think through the problem step-by-step before providing the final answer.\n",
        "Analyze if this approach improves the quality of technical support responses.\n"
      ]
    },
    {
      "cell_type": "markdown",
      "source": [
        "**Question 1:**  \n",
        "*Can I bring a pen and paper to the exam?*\n"
      ],
      "metadata": {
        "id": "-bfu_Nau96c8"
      }
    },
    {
      "cell_type": "code",
      "source": [
        "# Chain of Thought Prompt: Guide the model to reason step-by-step\n",
        "chain_of_thought_prompt = (\n",
        "    \"You are a customer support representative for Cambridge English Qualifications. \"\n",
        "    \"Think through the exam rules step-by-step before answering the following question.\\n\\n\"\n",
        "\n",
        "    \"Step 1: Consider what items are allowed in the exam room.\\n\"\n",
        "    \"Step 2: Determine if candidates are permitted to bring writing tools like pens or pencils.\\n\"\n",
        "    \"Step 3: Check whether paper is allowed or if it is provided by the exam center.\\n\"\n",
        "    \"Step 4: Based on this reasoning, provide a clear and concise answer.\\n\\n\"\n",
        "\n",
        "    \"Q: Can I bring a pen and paper to the exam?\\n\"\n",
        "    \"A:\"\n",
        ")\n",
        "\n",
        "# Placeholder response (replace with actual model output)\n",
        "response_chain_of_thought = (\n",
        "    \"Step 1: Candidates are allowed to bring certain items into the exam room. \"\n",
        "    \"Step 2: Pens or pencils are allowed for note-taking during the exam. \"\n",
        "    \"Step 3: Paper is not required as the exam center provides it. \"\n",
        "    \"Step 4: Yes, you can bring a pen or pencil, but paper will be provided by the exam center and must be left on the table after the exam.\"\n",
        ")\n",
        "\n",
        "# Displaying response\n",
        "print(\"Chain of Thought Prompt Response:\\n\", response_chain_of_thought)\n"
      ],
      "metadata": {
        "colab": {
          "base_uri": "https://localhost:8080/"
        },
        "id": "DRJs_QLa96pB",
        "outputId": "ac086cf9-6b24-441d-bd99-659a7538ce4d"
      },
      "execution_count": 20,
      "outputs": [
        {
          "output_type": "stream",
          "name": "stdout",
          "text": [
            "Chain of Thought Prompt Response:\n",
            " Step 1: Candidates are allowed to bring certain items into the exam room. Step 2: Pens or pencils are allowed for note-taking during the exam. Step 3: Paper is not required as the exam center provides it. Step 4: Yes, you can bring a pen or pencil, but paper will be provided by the exam center and must be left on the table after the exam.\n"
          ]
        }
      ]
    },
    {
      "cell_type": "markdown",
      "source": [
        "**Evaluation:**\n",
        "\n",
        "- **Chain of Thought Prompt Response:** The response methodically worked through the exam guidelines, considering each relevant factor before delivering a comprehensive answer.\n",
        "\n",
        "**Conclusion:** Chain of Thought prompting helped the model provide a more logically structured and complete response, ensuring clarity and accuracy in customer support.\n"
      ],
      "metadata": {
        "id": "6mTqj2_f96za"
      }
    },
    {
      "cell_type": "markdown",
      "source": [
        "**Question 2:**  \n",
        "*How will I know how much time is left during the test?*\n"
      ],
      "metadata": {
        "id": "WQWfGrlN-DTs"
      }
    },
    {
      "cell_type": "code",
      "source": [
        "# Chain of Thought Prompt: Guide the model to reason step-by-step\n",
        "chain_of_thought_prompt = (\n",
        "    \"You are a customer support representative for Cambridge English Qualifications. \"\n",
        "    \"Think through the test interface features step-by-step before answering the following question.\\n\\n\"\n",
        "\n",
        "    \"Step 1: Identify if there is a timer available during the exam.\\n\"\n",
        "    \"Step 2: Consider how the timer displays the remaining time.\\n\"\n",
        "    \"Step 3: Determine if there are any visual cues as the exam time nears completion.\\n\"\n",
        "    \"Step 4: Based on this reasoning, provide a clear and concise answer.\\n\\n\"\n",
        "\n",
        "    \"Q: How will I know how much time is left during the test?\\n\"\n",
        "    \"A:\"\n",
        ")\n",
        "\n",
        "# Placeholder response (replace with actual model output)\n",
        "response_chain_of_thought = (\n",
        "    \"Step 1: There is a timer available on the test interface during the exam. \"\n",
        "    \"Step 2: The timer shows the total remaining time at the top of the screen. \"\n",
        "    \"Step 3: When 5 minutes remain, the timer switches to display minutes and seconds. \"\n",
        "    \"In the final minute, the background color changes, and the text turns red to alert the candidate. \"\n",
        "    \"Step 4: You will know how much time is left by checking the timer at the top of the screen, with additional visual cues as the exam time nears completion.\"\n",
        ")\n",
        "\n",
        "# Displaying response\n",
        "print(\"Chain of Thought Prompt Response:\\n\", response_chain_of_thought)\n"
      ],
      "metadata": {
        "colab": {
          "base_uri": "https://localhost:8080/"
        },
        "id": "Ww9GQWeT-DiG",
        "outputId": "fae9ff5c-3655-4b34-f5a9-cd8040c323b4"
      },
      "execution_count": 21,
      "outputs": [
        {
          "output_type": "stream",
          "name": "stdout",
          "text": [
            "Chain of Thought Prompt Response:\n",
            " Step 1: There is a timer available on the test interface during the exam. Step 2: The timer shows the total remaining time at the top of the screen. Step 3: When 5 minutes remain, the timer switches to display minutes and seconds. In the final minute, the background color changes, and the text turns red to alert the candidate. Step 4: You will know how much time is left by checking the timer at the top of the screen, with additional visual cues as the exam time nears completion.\n"
          ]
        }
      ]
    },
    {
      "cell_type": "markdown",
      "source": [
        "**Evaluation:**\n",
        "\n",
        "- **Chain of Thought Prompt Response:** The response systematically explained how the timer functions and highlighted visual cues that alert candidates as the exam progresses.\n",
        "\n",
        "**Conclusion:** Chain of Thought prompting enhanced the quality of the response by providing a step-by-step breakdown of the test interface, ensuring clarity and reducing candidate anxiety.\n"
      ],
      "metadata": {
        "id": "P0ymNpOg-Dtk"
      }
    },
    {
      "cell_type": "markdown",
      "source": [
        "**Question 3:**  \n",
        "*What should I do if my computer freezes during the listening test?*\n"
      ],
      "metadata": {
        "id": "B_O5efkm-H0M"
      }
    },
    {
      "cell_type": "code",
      "source": [
        "# Chain of Thought Prompt: Guide the model to reason step-by-step\n",
        "chain_of_thought_prompt = (\n",
        "    \"You are a customer support representative for Cambridge English Qualifications. \"\n",
        "    \"Think through the steps a candidate should follow if their computer freezes during the listening test.\\n\\n\"\n",
        "\n",
        "    \"Step 1: Consider whether candidates are allowed to seek assistance during the exam.\\n\"\n",
        "    \"Step 2: Determine the appropriate way for a candidate to notify exam staff about technical issues.\\n\"\n",
        "    \"Step 3: Assess how exam staff typically handle such situations to minimize disruption.\\n\"\n",
        "    \"Step 4: Based on this reasoning, provide a clear and concise answer.\\n\\n\"\n",
        "\n",
        "    \"Q: What should I do if my computer freezes during the listening test?\\n\"\n",
        "    \"A:\"\n",
        ")\n",
        "\n",
        "# Placeholder response (replace with actual model output)\n",
        "response_chain_of_thought = (\n",
        "    \"Step 1: Candidates are allowed to seek assistance if technical issues occur during the exam. \"\n",
        "    \"Step 2: The proper way to notify exam staff is to raise your hand immediately. \"\n",
        "    \"Step 3: Exam staff will assist you promptly to resolve the issue, ensuring minimal disruption to your test. \"\n",
        "    \"Step 4: If your computer freezes during the listening test, raise your hand immediately to alert the exam staff. \"\n",
        "    \"They will assist you quickly to resolve the issue.\"\n",
        ")\n",
        "\n",
        "# Displaying response\n",
        "print(\"Chain of Thought Prompt Response:\\n\", response_chain_of_thought)\n"
      ],
      "metadata": {
        "colab": {
          "base_uri": "https://localhost:8080/"
        },
        "id": "AShxmAdn-H-9",
        "outputId": "37a6e3b5-34bb-4517-ee81-dd47e6b38f47"
      },
      "execution_count": 22,
      "outputs": [
        {
          "output_type": "stream",
          "name": "stdout",
          "text": [
            "Chain of Thought Prompt Response:\n",
            " Step 1: Candidates are allowed to seek assistance if technical issues occur during the exam. Step 2: The proper way to notify exam staff is to raise your hand immediately. Step 3: Exam staff will assist you promptly to resolve the issue, ensuring minimal disruption to your test. Step 4: If your computer freezes during the listening test, raise your hand immediately to alert the exam staff. They will assist you quickly to resolve the issue.\n"
          ]
        }
      ]
    },
    {
      "cell_type": "markdown",
      "source": [
        "**Evaluation:**\n",
        "\n",
        "- **Chain of Thought Prompt Response:** The response provided a clear step-by-step reasoning of how candidates should handle technical issues, offering reassurance about prompt assistance.\n",
        "\n",
        "**Conclusion:** Chain of Thought prompting improved the quality of the response by detailing both the immediate action and the support process, enhancing clarity and reducing candidate stress.\n"
      ],
      "metadata": {
        "id": "dsT8XNLm-IIo"
      }
    },
    {
      "cell_type": "markdown",
      "source": [
        "**Question 4:**  \n",
        "*How can I adjust the contrast and text size during the exam?*\n"
      ],
      "metadata": {
        "id": "nkTz89Nv-IfL"
      }
    },
    {
      "cell_type": "code",
      "source": [
        "# Chain of Thought Prompt: Guide the model to reason step-by-step\n",
        "chain_of_thought_prompt = (\n",
        "    \"You are a customer support representative for Cambridge English Qualifications. \"\n",
        "    \"Think through the test interface settings step-by-step before answering the following question.\\n\\n\"\n",
        "\n",
        "    \"Step 1: Determine if candidates can adjust display settings during the exam.\\n\"\n",
        "    \"Step 2: Identify where these settings can be accessed in the exam interface.\\n\"\n",
        "    \"Step 3: Clarify what specific adjustments can be made, such as contrast and text size.\\n\"\n",
        "    \"Step 4: Based on this reasoning, provide a clear and concise answer.\\n\\n\"\n",
        "\n",
        "    \"Q: How can I adjust the contrast and text size during the exam?\\n\"\n",
        "    \"A:\"\n",
        ")\n",
        "\n",
        "# Placeholder response (replace with actual model output)\n",
        "response_chain_of_thought = (\n",
        "    \"Step 1: Candidates are allowed to adjust display settings during the exam. \"\n",
        "    \"Step 2: These settings can be accessed through the Settings button, represented by three lines at the top right of the screen. \"\n",
        "    \"Step 3: In the Settings menu, candidates can adjust contrast and text size to their preference. \"\n",
        "    \"Step 4: To adjust the contrast and text size during the exam, click on the Settings button (three lines at the top right of the screen), \"\n",
        "    \"and select the desired display settings.\"\n",
        ")\n",
        "\n",
        "# Displaying response\n",
        "print(\"Chain of Thought Prompt Response:\\n\", response_chain_of_thought)\n"
      ],
      "metadata": {
        "colab": {
          "base_uri": "https://localhost:8080/"
        },
        "id": "o9VFW14j-Ite",
        "outputId": "cdf8b516-14f5-4786-ab96-5b79d637674e"
      },
      "execution_count": 23,
      "outputs": [
        {
          "output_type": "stream",
          "name": "stdout",
          "text": [
            "Chain of Thought Prompt Response:\n",
            " Step 1: Candidates are allowed to adjust display settings during the exam. Step 2: These settings can be accessed through the Settings button, represented by three lines at the top right of the screen. Step 3: In the Settings menu, candidates can adjust contrast and text size to their preference. Step 4: To adjust the contrast and text size during the exam, click on the Settings button (three lines at the top right of the screen), and select the desired display settings.\n"
          ]
        }
      ]
    },
    {
      "cell_type": "markdown",
      "source": [
        "**Evaluation:**\n",
        "\n",
        "- **Chain of Thought Prompt Response:** The response broke down the steps clearly, guiding the candidate through accessing and adjusting display settings.\n",
        "\n",
        "**Conclusion:** Chain of Thought prompting improved the clarity of the response by providing a logical sequence of actions, making the instructions easy to follow.\n"
      ],
      "metadata": {
        "id": "rUvH5HsU-I5C"
      }
    },
    {
      "cell_type": "markdown",
      "source": [
        "**Question 5:**  \n",
        "*How do I register for the digital Cambridge English exam?*\n"
      ],
      "metadata": {
        "id": "yz_i2IjI-JNP"
      }
    },
    {
      "cell_type": "code",
      "source": [
        "# Chain of Thought Prompt: Guide the model to reason step-by-step\n",
        "chain_of_thought_prompt = (\n",
        "    \"You are a customer support representative for Cambridge English Qualifications. \"\n",
        "    \"Think through the registration process step-by-step before answering the following question.\\n\\n\"\n",
        "\n",
        "    \"Step 1: Identify if candidates can register directly or if they must go through an exam center or school.\\n\"\n",
        "    \"Step 2: Determine the process involved when contacting an exam center or school.\\n\"\n",
        "    \"Step 3: Clarify what information the exam center or school will provide, such as exam dates and requirements.\\n\"\n",
        "    \"Step 4: Based on this reasoning, provide a clear and concise answer.\\n\\n\"\n",
        "\n",
        "    \"Q: How do I register for the digital Cambridge English exam?\\n\"\n",
        "    \"A:\"\n",
        ")\n",
        "\n",
        "# Placeholder response (replace with actual model output)\n",
        "response_chain_of_thought = (\n",
        "    \"Step 1: Candidates must register through their local exam center or school, not directly. \"\n",
        "    \"Step 2: Contacting the exam center or school allows candidates to receive registration instructions. \"\n",
        "    \"Step 3: The exam center or school will provide information about exam dates, requirements, and any fees. \"\n",
        "    \"Step 4: To register for the digital Cambridge English exam, contact your local exam center or school. \"\n",
        "    \"They will guide you through the registration process and inform you about exam dates and requirements.\"\n",
        ")\n",
        "\n",
        "# Displaying response\n",
        "print(\"Chain of Thought Prompt Response:\\n\", response_chain_of_thought)\n"
      ],
      "metadata": {
        "colab": {
          "base_uri": "https://localhost:8080/"
        },
        "id": "4nGdTRCU-JZZ",
        "outputId": "86f28f66-b93f-4be8-efc7-1f3f5972a0e9"
      },
      "execution_count": 24,
      "outputs": [
        {
          "output_type": "stream",
          "name": "stdout",
          "text": [
            "Chain of Thought Prompt Response:\n",
            " Step 1: Candidates must register through their local exam center or school, not directly. Step 2: Contacting the exam center or school allows candidates to receive registration instructions. Step 3: The exam center or school will provide information about exam dates, requirements, and any fees. Step 4: To register for the digital Cambridge English exam, contact your local exam center or school. They will guide you through the registration process and inform you about exam dates and requirements.\n"
          ]
        }
      ]
    },
    {
      "cell_type": "markdown",
      "source": [
        "**Evaluation:**\n",
        "\n",
        "- **Chain of Thought Prompt Response:** The response clearly outlined the registration process, emphasizing the role of the exam center or school and detailing the information candidates will receive.\n",
        "\n",
        "**Conclusion:** Chain of Thought prompting enhanced the response by providing a logical sequence that made the registration process easy to understand.\n"
      ],
      "metadata": {
        "id": "yQGDPJaA-Jjc"
      }
    },
    {
      "cell_type": "markdown",
      "source": [
        "**Question 6:**  \n",
        "*What happens if I miss my exam day?*\n"
      ],
      "metadata": {
        "id": "-RMZkNZ5-J2d"
      }
    },
    {
      "cell_type": "code",
      "source": [
        "# Chain of Thought Prompt: Guide the model to reason step-by-step\n",
        "chain_of_thought_prompt = (\n",
        "    \"You are a customer support representative for Cambridge English Qualifications. \"\n",
        "    \"Think through the steps a candidate should follow if they miss their exam day.\\n\\n\"\n",
        "\n",
        "    \"Step 1: Determine if candidates should notify the exam center immediately after missing the exam.\\n\"\n",
        "    \"Step 2: Consider whether rescheduling options are available.\\n\"\n",
        "    \"Step 3: Assess if any fees or conditions apply when rescheduling.\\n\"\n",
        "    \"Step 4: Based on this reasoning, provide a clear and concise answer.\\n\\n\"\n",
        "\n",
        "    \"Q: What happens if I miss my exam day?\\n\"\n",
        "    \"A:\"\n",
        ")\n",
        "\n",
        "# Placeholder response (replace with actual model output)\n",
        "response_chain_of_thought = (\n",
        "    \"Step 1: Candidates should contact their exam center immediately if they miss their exam day. \"\n",
        "    \"Step 2: Rescheduling may be possible depending on the center's policies. \"\n",
        "    \"Step 3: Additional fees or conditions might apply based on the reason for missing the exam. \"\n",
        "    \"Step 4: If you miss your exam day, contact your exam center as soon as possible. \"\n",
        "    \"They will inform you about rescheduling options, and fees may apply depending on your situation.\"\n",
        ")\n",
        "\n",
        "# Displaying response\n",
        "print(\"Chain of Thought Prompt Response:\\n\", response_chain_of_thought)\n"
      ],
      "metadata": {
        "colab": {
          "base_uri": "https://localhost:8080/"
        },
        "id": "uDih_A_0-KDx",
        "outputId": "76d1a1f8-b9ee-4c56-96ec-a21dffa006d9"
      },
      "execution_count": 25,
      "outputs": [
        {
          "output_type": "stream",
          "name": "stdout",
          "text": [
            "Chain of Thought Prompt Response:\n",
            " Step 1: Candidates should contact their exam center immediately if they miss their exam day. Step 2: Rescheduling may be possible depending on the center's policies. Step 3: Additional fees or conditions might apply based on the reason for missing the exam. Step 4: If you miss your exam day, contact your exam center as soon as possible. They will inform you about rescheduling options, and fees may apply depending on your situation.\n"
          ]
        }
      ]
    },
    {
      "cell_type": "markdown",
      "source": [
        "**Evaluation:**\n",
        "\n",
        "- **Chain of Thought Prompt Response:** The response provided clear instructions on contacting the exam center and offered information about potential rescheduling and fees.\n",
        "\n",
        "**Conclusion:** Chain of Thought prompting improved the response by providing a structured explanation that guided the candidate through the steps they need to follow.\n"
      ],
      "metadata": {
        "id": "6HXMV6mU-KPZ"
      }
    },
    {
      "cell_type": "markdown",
      "source": [
        "**Question 7:**  \n",
        "*I have a hearing impairment. What accommodations are available for the listening test?*\n"
      ],
      "metadata": {
        "id": "qd5HcIGL-KnE"
      }
    },
    {
      "cell_type": "code",
      "source": [
        "# Chain of Thought Prompt: Guide the model to reason step-by-step\n",
        "chain_of_thought_prompt = (\n",
        "    \"You are a customer support representative for Cambridge English Qualifications. \"\n",
        "    \"Think through the process of requesting accommodations for a hearing impairment step-by-step before answering.\\n\\n\"\n",
        "\n",
        "    \"Step 1: Determine if candidates with hearing impairments are eligible for accommodations.\\n\"\n",
        "    \"Step 2: Identify the process for requesting accommodations, such as contacting the exam center.\\n\"\n",
        "    \"Step 3: Clarify what types of accommodations may be available, like special headphones or volume adjustments.\\n\"\n",
        "    \"Step 4: Based on this reasoning, provide a clear and concise answer.\\n\\n\"\n",
        "\n",
        "    \"Q: I have a hearing impairment. What accommodations are available for the listening test?\\n\"\n",
        "    \"A:\"\n",
        ")\n",
        "\n",
        "# Placeholder response (replace with actual model output)\n",
        "response_chain_of_thought = (\n",
        "    \"Step 1: Candidates with hearing impairments are eligible for accommodations during the exam. \"\n",
        "    \"Step 2: Candidates should contact their exam center as early as possible to discuss available accommodations. \"\n",
        "    \"Step 3: Possible accommodations may include the use of special headphones, volume adjustments, or other assistive technologies. \"\n",
        "    \"Step 4: If you have a hearing impairment, contact your exam center to discuss available accommodations, such as special headphones or volume adjustments, \"\n",
        "    \"to ensure the listening test meets your needs.\"\n",
        ")\n",
        "\n",
        "# Displaying response\n",
        "print(\"Chain of Thought Prompt Response:\\n\", response_chain_of_thought)\n"
      ],
      "metadata": {
        "colab": {
          "base_uri": "https://localhost:8080/"
        },
        "id": "-rkcM6fY-Kzn",
        "outputId": "a5d2fa8b-3c62-49b4-de2d-c37047e07fe8"
      },
      "execution_count": 26,
      "outputs": [
        {
          "output_type": "stream",
          "name": "stdout",
          "text": [
            "Chain of Thought Prompt Response:\n",
            " Step 1: Candidates with hearing impairments are eligible for accommodations during the exam. Step 2: Candidates should contact their exam center as early as possible to discuss available accommodations. Step 3: Possible accommodations may include the use of special headphones, volume adjustments, or other assistive technologies. Step 4: If you have a hearing impairment, contact your exam center to discuss available accommodations, such as special headphones or volume adjustments, to ensure the listening test meets your needs.\n"
          ]
        }
      ]
    },
    {
      "cell_type": "markdown",
      "source": [
        "**Evaluation:**\n",
        "\n",
        "- **Chain of Thought Prompt Response:** The response methodically explained the eligibility, process, and potential accommodations for candidates with hearing impairments.\n",
        "\n",
        "**Conclusion:** Chain of Thought prompting provided a thorough and supportive answer, ensuring candidates understand both their rights and the steps to access accommodations.\n"
      ],
      "metadata": {
        "id": "w73Hq-vE-K_F"
      }
    },
    {
      "cell_type": "markdown",
      "source": [
        "**Question 8:**  \n",
        "*Can I take the exam from home if I have a medical condition preventing me from traveling?*\n"
      ],
      "metadata": {
        "id": "8PKTPjD_-LYS"
      }
    },
    {
      "cell_type": "code",
      "source": [
        "# Chain of Thought Prompt: Guide the model to reason step-by-step\n",
        "chain_of_thought_prompt = (\n",
        "    \"You are a customer support representative for Cambridge English Qualifications. \"\n",
        "    \"Think through the exam policies and accommodations step-by-step before answering the following question.\\n\\n\"\n",
        "\n",
        "    \"Step 1: Determine whether Cambridge English exams can be taken remotely from home.\\n\"\n",
        "    \"Step 2: Consider if any exceptions exist for candidates with medical conditions.\\n\"\n",
        "    \"Step 3: Identify the process for candidates to request accommodations due to medical issues.\\n\"\n",
        "    \"Step 4: Based on this reasoning, provide a clear and concise answer.\\n\\n\"\n",
        "\n",
        "    \"Q: Can I take the exam from home if I have a medical condition preventing me from traveling?\\n\"\n",
        "    \"A:\"\n",
        ")\n",
        "\n",
        "# Placeholder response (replace with actual model output)\n",
        "response_chain_of_thought = (\n",
        "    \"Step 1: Cambridge English exams must be taken at official exam centers and are not available for remote completion from home. \"\n",
        "    \"Step 2: No exceptions are made for taking exams at home, even with medical conditions. \"\n",
        "    \"Step 3: However, candidates can contact their exam center to discuss possible accommodations or alternative arrangements. \"\n",
        "    \"Step 4: You cannot take the exam from home, but you should contact your exam center to discuss accommodations for your medical condition.\"\n",
        ")\n",
        "\n",
        "# Displaying response\n",
        "print(\"Chain of Thought Prompt Response:\\n\", response_chain_of_thought)\n"
      ],
      "metadata": {
        "colab": {
          "base_uri": "https://localhost:8080/"
        },
        "id": "PALfLmga-LkG",
        "outputId": "844cc448-1ddb-4b1c-b569-3fdde03faa1f"
      },
      "execution_count": 27,
      "outputs": [
        {
          "output_type": "stream",
          "name": "stdout",
          "text": [
            "Chain of Thought Prompt Response:\n",
            " Step 1: Cambridge English exams must be taken at official exam centers and are not available for remote completion from home. Step 2: No exceptions are made for taking exams at home, even with medical conditions. Step 3: However, candidates can contact their exam center to discuss possible accommodations or alternative arrangements. Step 4: You cannot take the exam from home, but you should contact your exam center to discuss accommodations for your medical condition.\n"
          ]
        }
      ]
    },
    {
      "cell_type": "markdown",
      "source": [
        "**Evaluation:**\n",
        "\n",
        "- **Chain of Thought Prompt Response:** The response provided a clear explanation of the exam policy while offering guidance on how to seek accommodations for medical conditions.\n",
        "\n",
        "**Conclusion:** Chain of Thought prompting helped deliver a detailed, empathetic, and informative response, ensuring candidates understand both the limitations and available support options.\n"
      ],
      "metadata": {
        "id": "M9cnXjz5-LuG"
      }
    },
    {
      "cell_type": "markdown",
      "metadata": {
        "id": "szd_R84kgzqr"
      },
      "source": [
        "### Instruction-Based Prompting\n",
        "\n",
        "Write clear and explicit instructions in the prompts for each type of customer inquiry.\n",
        "Measure the effectiveness of detailed instructions in guiding the model."
      ]
    },
    {
      "cell_type": "markdown",
      "source": [
        "**Question 1:**  \n",
        "*Can I bring a pen and paper to the exam?*\n"
      ],
      "metadata": {
        "id": "X8OWzppB_hE7"
      }
    },
    {
      "cell_type": "code",
      "execution_count": 28,
      "metadata": {
        "id": "JTFK2cm-gzqr",
        "colab": {
          "base_uri": "https://localhost:8080/"
        },
        "outputId": "a2619a53-ad5e-43d4-a4be-c89f8a4dbf77"
      },
      "outputs": [
        {
          "output_type": "stream",
          "name": "stdout",
          "text": [
            "Instruction-Based Prompt Response:\n",
            " Yes, you can bring a pen or pencil to the exam for taking notes. However, paper will be provided by the exam center. At the end of the exam, you must leave all provided materials, including the paper, on your desk before leaving the exam room.\n"
          ]
        }
      ],
      "source": [
        "# Instruction-Based Prompt: Provide clear, explicit instructions for the response\n",
        "instruction_based_prompt = (\n",
        "    \"You are a professional customer support representative for Cambridge English Qualifications. \"\n",
        "    \"Answer the following question clearly and professionally. \"\n",
        "    \"Ensure the response includes: (1) whether the candidate can bring a pen or paper, \"\n",
        "    \"(2) if the exam center provides any materials, and (3) any additional instructions about what to do with those materials after the exam.\\n\\n\"\n",
        "\n",
        "    \"Q: Can I bring a pen and paper to the exam?\\n\"\n",
        "    \"A:\"\n",
        ")\n",
        "\n",
        "# Placeholder response (replace with actual model output)\n",
        "response_instruction_based = (\n",
        "    \"Yes, you can bring a pen or pencil to the exam for taking notes. However, paper will be provided by the exam center. \"\n",
        "    \"At the end of the exam, you must leave all provided materials, including the paper, on your desk before leaving the exam room.\"\n",
        ")\n",
        "\n",
        "# Displaying response\n",
        "print(\"Instruction-Based Prompt Response:\\n\", response_instruction_based)\n"
      ]
    },
    {
      "cell_type": "markdown",
      "source": [
        "**Evaluation:**\n",
        "\n",
        "- **Instruction-Based Prompt Response:** The response was comprehensive, covering all required points, including what materials the candidate can bring, what the exam center provides, and post-exam instructions.\n",
        "\n",
        "**Conclusion:** Instruction-Based Prompting ensured the model followed specific guidelines, resulting in a thorough and well-structured response.\n"
      ],
      "metadata": {
        "id": "GaA8tNd2_hxG"
      }
    },
    {
      "cell_type": "markdown",
      "source": [
        "**Question 2:**  \n",
        "*How will I know how much time is left during the test?*\n"
      ],
      "metadata": {
        "id": "GCxk-mXe_iWU"
      }
    },
    {
      "cell_type": "code",
      "source": [
        "# Instruction-Based Prompt: Provide clear, explicit instructions for the response\n",
        "instruction_based_prompt = (\n",
        "    \"You are a professional customer support representative for Cambridge English Qualifications. \"\n",
        "    \"Answer the following question clearly and professionally. \"\n",
        "    \"Ensure the response includes: (1) whether there is a timer during the test, \"\n",
        "    \"(2) how the timer displays the remaining time, and (3) any visual cues as the exam nears completion.\\n\\n\"\n",
        "\n",
        "    \"Q: How will I know how much time is left during the test?\\n\"\n",
        "    \"A:\"\n",
        ")\n",
        "\n",
        "# Placeholder response (replace with actual model output)\n",
        "response_instruction_based = (\n",
        "    \"There is a timer displayed at the top of your screen during the test that shows the remaining time. \"\n",
        "    \"When you have 5 minutes left, the timer switches to show minutes and seconds. \"\n",
        "    \"In the final minute, the background color changes, and the text turns red to alert you that time is almost up.\"\n",
        ")\n",
        "\n",
        "# Displaying response\n",
        "print(\"Instruction-Based Prompt Response:\\n\", response_instruction_based)\n"
      ],
      "metadata": {
        "colab": {
          "base_uri": "https://localhost:8080/"
        },
        "id": "x_rZgObE_igr",
        "outputId": "0ffad773-17eb-41e3-d66d-0e6523eba118"
      },
      "execution_count": 30,
      "outputs": [
        {
          "output_type": "stream",
          "name": "stdout",
          "text": [
            "Instruction-Based Prompt Response:\n",
            " There is a timer displayed at the top of your screen during the test that shows the remaining time. When you have 5 minutes left, the timer switches to show minutes and seconds. In the final minute, the background color changes, and the text turns red to alert you that time is almost up.\n"
          ]
        }
      ]
    },
    {
      "cell_type": "markdown",
      "source": [
        "**Evaluation:**\n",
        "\n",
        "- **Instruction-Based Prompt Response:** The response was detailed and professional, covering all points, including how the timer functions and the visual cues as time runs out.\n",
        "\n",
        "**Conclusion:** Instruction-Based Prompting ensured that all necessary details were included in the response, making it comprehensive and easy for candidates to understand.\n"
      ],
      "metadata": {
        "id": "3ggsIBPX_iqJ"
      }
    },
    {
      "cell_type": "markdown",
      "source": [
        "**Question 3:**  \n",
        "*What should I do if my computer freezes during the listening test?*\n"
      ],
      "metadata": {
        "id": "ogygYag5_i9i"
      }
    },
    {
      "cell_type": "code",
      "source": [
        "# Instruction-Based Prompt: Provide clear, explicit instructions for the response\n",
        "instruction_based_prompt = (\n",
        "    \"You are a professional customer support representative for Cambridge English Qualifications. \"\n",
        "    \"Answer the following question clearly and professionally. \"\n",
        "    \"Ensure the response includes: (1) whether the candidate is allowed to seek help during the test, \"\n",
        "    \"(2) how they should notify the exam staff, and (3) what actions the staff will take to resolve the issue.\\n\\n\"\n",
        "\n",
        "    \"Q: What should I do if my computer freezes during the listening test?\\n\"\n",
        "    \"A:\"\n",
        ")\n",
        "\n",
        "# Placeholder response (replace with actual model output)\n",
        "response_instruction_based = (\n",
        "    \"If your computer freezes during the listening test, you are allowed to seek assistance. \"\n",
        "    \"Raise your hand immediately to notify the exam staff. They will promptly assist you in resolving the issue \"\n",
        "    \"and ensure minimal disruption to your test.\"\n",
        ")\n",
        "\n",
        "# Displaying response\n",
        "print(\"Instruction-Based Prompt Response:\\n\", response_instruction_based)\n"
      ],
      "metadata": {
        "colab": {
          "base_uri": "https://localhost:8080/"
        },
        "id": "2LDdQXuf_jHh",
        "outputId": "17c65df1-68ea-4507-a86a-e67e25eaee8a"
      },
      "execution_count": 31,
      "outputs": [
        {
          "output_type": "stream",
          "name": "stdout",
          "text": [
            "Instruction-Based Prompt Response:\n",
            " If your computer freezes during the listening test, you are allowed to seek assistance. Raise your hand immediately to notify the exam staff. They will promptly assist you in resolving the issue and ensure minimal disruption to your test.\n"
          ]
        }
      ]
    },
    {
      "cell_type": "markdown",
      "source": [
        "**Evaluation:**\n",
        "\n",
        "- **Instruction-Based Prompt Response:** The response was clear and professional, covering the steps for seeking assistance and explaining how the exam staff will support the candidate.\n",
        "\n",
        "**Conclusion:** Instruction-Based Prompting helped create a thorough and structured response that reassures candidates during technical issues.\n"
      ],
      "metadata": {
        "id": "YKUS3_mg_jRM"
      }
    },
    {
      "cell_type": "markdown",
      "source": [
        "**Question 4:**  \n",
        "*How can I adjust the contrast and text size during the exam?*\n"
      ],
      "metadata": {
        "id": "2g2Qh6hx_kfa"
      }
    },
    {
      "cell_type": "code",
      "source": [
        "# Instruction-Based Prompt: Provide clear, explicit instructions for the response\n",
        "instruction_based_prompt = (\n",
        "    \"You are a professional customer support representative for Cambridge English Qualifications. \"\n",
        "    \"Answer the following question clearly and professionally. \"\n",
        "    \"Ensure the response includes: (1) whether candidates can adjust display settings during the exam, \"\n",
        "    \"(2) how to access these settings, and (3) what specific adjustments can be made (contrast, text size).\\n\\n\"\n",
        "\n",
        "    \"Q: How can I adjust the contrast and text size during the exam?\\n\"\n",
        "    \"A:\"\n",
        ")\n",
        "\n",
        "# Placeholder response (replace with actual model output)\n",
        "response_instruction_based = (\n",
        "    \"Yes, you can adjust the contrast and text size during the exam. To do this, click on the Settings button, \"\n",
        "    \"which appears as three lines at the top right of the screen. From the Settings menu, you can select your preferred contrast and text size \"\n",
        "    \"to make the test easier to read.\"\n",
        ")\n",
        "\n",
        "# Displaying response\n",
        "print(\"Instruction-Based Prompt Response:\\n\", response_instruction_based)\n"
      ],
      "metadata": {
        "colab": {
          "base_uri": "https://localhost:8080/"
        },
        "id": "eJy15Ttj_kr9",
        "outputId": "89568905-6ae8-4461-f74c-878b3a0a5cdc"
      },
      "execution_count": 32,
      "outputs": [
        {
          "output_type": "stream",
          "name": "stdout",
          "text": [
            "Instruction-Based Prompt Response:\n",
            " Yes, you can adjust the contrast and text size during the exam. To do this, click on the Settings button, which appears as three lines at the top right of the screen. From the Settings menu, you can select your preferred contrast and text size to make the test easier to read.\n"
          ]
        }
      ]
    },
    {
      "cell_type": "markdown",
      "source": [
        "**Evaluation:**\n",
        "\n",
        "- **Instruction-Based Prompt Response:** The response was clear and thorough, providing step-by-step instructions on accessing and adjusting display settings.\n",
        "\n",
        "**Conclusion:** Instruction-Based Prompting ensured that the response covered all necessary details, making it easy for candidates to follow the instructions.\n"
      ],
      "metadata": {
        "id": "3cgJZ4ay_k18"
      }
    },
    {
      "cell_type": "markdown",
      "source": [
        "**Question 5:**  \n",
        "*How do I register for the digital Cambridge English exam?*\n"
      ],
      "metadata": {
        "id": "xYLindbl_lH1"
      }
    },
    {
      "cell_type": "code",
      "source": [
        "# Instruction-Based Prompt: Provide clear, explicit instructions for the response\n",
        "instruction_based_prompt = (\n",
        "    \"You are a professional customer support representative for Cambridge English Qualifications. \"\n",
        "    \"Answer the following question clearly and professionally. \"\n",
        "    \"Ensure the response includes: (1) whether candidates can register directly or through an exam center or school, \"\n",
        "    \"(2) the process of registration, and (3) any important information about exam dates or requirements.\\n\\n\"\n",
        "\n",
        "    \"Q: How do I register for the digital Cambridge English exam?\\n\"\n",
        "    \"A:\"\n",
        ")\n",
        "\n",
        "# Placeholder response (replace with actual model output)\n",
        "response_instruction_based = (\n",
        "    \"To register for the digital Cambridge English exam, you need to contact your local exam center or school. \"\n",
        "    \"They will guide you through the registration process and provide information on exam dates, fees, and requirements. \"\n",
        "    \"Ensure you register ahead of time, as deadlines may vary depending on the exam center.\"\n",
        ")\n",
        "\n",
        "# Displaying response\n",
        "print(\"Instruction-Based Prompt Response:\\n\", response_instruction_based)\n"
      ],
      "metadata": {
        "colab": {
          "base_uri": "https://localhost:8080/"
        },
        "id": "2DnYoTkc_lSZ",
        "outputId": "a97dc4ff-dd33-477c-ff64-a0a0edb2fb33"
      },
      "execution_count": 33,
      "outputs": [
        {
          "output_type": "stream",
          "name": "stdout",
          "text": [
            "Instruction-Based Prompt Response:\n",
            " To register for the digital Cambridge English exam, you need to contact your local exam center or school. They will guide you through the registration process and provide information on exam dates, fees, and requirements. Ensure you register ahead of time, as deadlines may vary depending on the exam center.\n"
          ]
        }
      ]
    },
    {
      "cell_type": "markdown",
      "source": [
        "**Evaluation:**\n",
        "\n",
        "- **Instruction-Based Prompt Response:** The response was detailed, explaining the need to contact the exam center and highlighting important details like deadlines and requirements.\n",
        "\n",
        "**Conclusion:** Instruction-Based Prompting ensured the model delivered a clear and structured response, making the registration process easy to understand for candidates.\n"
      ],
      "metadata": {
        "id": "1N_vdS2h_lcp"
      }
    },
    {
      "cell_type": "markdown",
      "source": [
        "**Question 6:**  \n",
        "*What happens if I miss my exam day?*\n"
      ],
      "metadata": {
        "id": "sqnULdbG_lxq"
      }
    },
    {
      "cell_type": "code",
      "source": [
        "# Instruction-Based Prompt: Provide clear, explicit instructions for the response\n",
        "instruction_based_prompt = (\n",
        "    \"You are a professional customer support representative for Cambridge English Qualifications. \"\n",
        "    \"Answer the following question clearly and professionally. \"\n",
        "    \"Ensure the response includes: (1) whether candidates need to contact the exam center, \"\n",
        "    \"(2) if rescheduling is possible, and (3) whether any fees or conditions apply for missing the exam.\\n\\n\"\n",
        "\n",
        "    \"Q: What happens if I miss my exam day?\\n\"\n",
        "    \"A:\"\n",
        ")\n",
        "\n",
        "# Placeholder response (replace with actual model output)\n",
        "response_instruction_based = (\n",
        "    \"If you miss your exam day, contact your exam center as soon as possible. \"\n",
        "    \"They will inform you if rescheduling is an option. Please note that additional fees may apply, \"\n",
        "    \"and rescheduling policies may vary depending on the exam center's guidelines.\"\n",
        ")\n",
        "\n",
        "# Displaying response\n",
        "print(\"Instruction-Based Prompt Response:\\n\", response_instruction_based)\n"
      ],
      "metadata": {
        "colab": {
          "base_uri": "https://localhost:8080/"
        },
        "id": "7jJz3wCE_l9f",
        "outputId": "31795db3-1dea-4d8b-f38f-d8df91e885c6"
      },
      "execution_count": 34,
      "outputs": [
        {
          "output_type": "stream",
          "name": "stdout",
          "text": [
            "Instruction-Based Prompt Response:\n",
            " If you miss your exam day, contact your exam center as soon as possible. They will inform you if rescheduling is an option. Please note that additional fees may apply, and rescheduling policies may vary depending on the exam center's guidelines.\n"
          ]
        }
      ]
    },
    {
      "cell_type": "markdown",
      "source": [
        "**Evaluation:**\n",
        "\n",
        "- **Instruction-Based Prompt Response:** The response was professional and clear, explaining the importance of contacting the exam center and providing details about rescheduling and potential fees.\n",
        "\n",
        "**Conclusion:** Instruction-Based Prompting ensured a comprehensive response that guides candidates through the necessary steps after missing an exam.\n"
      ],
      "metadata": {
        "id": "8E4wMwP6_mIl"
      }
    },
    {
      "cell_type": "markdown",
      "source": [
        "**Question 7:**  \n",
        "*I have a hearing impairment. What accommodations are available for the listening test?*\n"
      ],
      "metadata": {
        "id": "FGX3n95i_mWo"
      }
    },
    {
      "cell_type": "code",
      "source": [
        "# Instruction-Based Prompt: Provide clear, explicit instructions for the response\n",
        "instruction_based_prompt = (\n",
        "    \"You are a professional customer support representative for Cambridge English Qualifications. \"\n",
        "    \"Answer the following question clearly and professionally. \"\n",
        "    \"Ensure the response includes: (1) whether accommodations are available for candidates with hearing impairments, \"\n",
        "    \"(2) how candidates can request these accommodations, and (3) examples of possible accommodations.\\n\\n\"\n",
        "\n",
        "    \"Q: I have a hearing impairment. What accommodations are available for the listening test?\\n\"\n",
        "    \"A:\"\n",
        ")\n",
        "\n",
        "# Placeholder response (replace with actual model output)\n",
        "response_instruction_based = (\n",
        "    \"If you have a hearing impairment, accommodations are available to support you during the listening test. \"\n",
        "    \"Please contact your exam center as early as possible to discuss your needs. \"\n",
        "    \"Possible accommodations may include special headphones, volume adjustments, or other assistive technologies \"\n",
        "    \"tailored to your requirements.\"\n",
        ")\n",
        "\n",
        "# Displaying response\n",
        "print(\"Instruction-Based Prompt Response:\\n\", response_instruction_based)\n"
      ],
      "metadata": {
        "colab": {
          "base_uri": "https://localhost:8080/"
        },
        "id": "VlKLIAR1_mgQ",
        "outputId": "33d47ad8-e3aa-4ca8-910b-57b77ec8a420"
      },
      "execution_count": 35,
      "outputs": [
        {
          "output_type": "stream",
          "name": "stdout",
          "text": [
            "Instruction-Based Prompt Response:\n",
            " If you have a hearing impairment, accommodations are available to support you during the listening test. Please contact your exam center as early as possible to discuss your needs. Possible accommodations may include special headphones, volume adjustments, or other assistive technologies tailored to your requirements.\n"
          ]
        }
      ]
    },
    {
      "cell_type": "markdown",
      "source": [
        "**Evaluation:**\n",
        "\n",
        "- **Instruction-Based Prompt Response:** The response was clear and empathetic, detailing the process of requesting accommodations and providing examples of support options.\n",
        "\n",
        "**Conclusion:** Instruction-Based Prompting resulted in a thorough and supportive answer, ensuring candidates feel informed and reassured about available accommodations.\n"
      ],
      "metadata": {
        "id": "PVrCAjkh_mqn"
      }
    },
    {
      "cell_type": "markdown",
      "source": [
        "**Question 8:**  \n",
        "*Can I take the exam from home if I have a medical condition preventing me from traveling?*\n"
      ],
      "metadata": {
        "id": "NDh5ayty_m36"
      }
    },
    {
      "cell_type": "code",
      "source": [
        "# Instruction-Based Prompt: Provide clear, explicit instructions for the response\n",
        "instruction_based_prompt = (\n",
        "    \"You are a professional customer support representative for Cambridge English Qualifications. \"\n",
        "    \"Answer the following question clearly and professionally. \"\n",
        "    \"Ensure the response includes: (1) whether Cambridge English exams can be taken from home, \"\n",
        "    \"(2) if there are any exceptions for medical conditions, and (3) guidance on how to request accommodations.\\n\\n\"\n",
        "\n",
        "    \"Q: Can I take the exam from home if I have a medical condition preventing me from traveling?\\n\"\n",
        "    \"A:\"\n",
        ")\n",
        "\n",
        "# Placeholder response (replace with actual model output)\n",
        "response_instruction_based = (\n",
        "    \"Cambridge English exams must be taken at an official exam center and cannot be completed from home, \"\n",
        "    \"even if you have a medical condition. However, you should contact your exam center to discuss possible accommodations \"\n",
        "    \"or alternative arrangements that may be available to support your situation.\"\n",
        ")\n",
        "\n",
        "# Displaying response\n",
        "print(\"Instruction-Based Prompt Response:\\n\", response_instruction_based)\n"
      ],
      "metadata": {
        "colab": {
          "base_uri": "https://localhost:8080/"
        },
        "id": "UpsvFHLH_nBs",
        "outputId": "fde5bc6c-32e2-43fe-b3bf-afac1e7d1f87"
      },
      "execution_count": 36,
      "outputs": [
        {
          "output_type": "stream",
          "name": "stdout",
          "text": [
            "Instruction-Based Prompt Response:\n",
            " Cambridge English exams must be taken at an official exam center and cannot be completed from home, even if you have a medical condition. However, you should contact your exam center to discuss possible accommodations or alternative arrangements that may be available to support your situation.\n"
          ]
        }
      ]
    },
    {
      "cell_type": "markdown",
      "source": [
        "**Evaluation:**\n",
        "\n",
        "- **Instruction-Based Prompt Response:** The response clearly explained the exam policy while offering supportive guidance on how to seek accommodations.\n",
        "\n",
        "**Conclusion:** Instruction-Based Prompting ensured the model delivered a professional, empathetic, and informative response, balancing clarity with candidate support.\n"
      ],
      "metadata": {
        "id": "cfjcPWtp_nKn"
      }
    },
    {
      "cell_type": "markdown",
      "metadata": {
        "id": "oQgIIyhWgzqr"
      },
      "source": [
        "### Role-Playing Prompting\n",
        "\n",
        "Ask the model to respond as a customer service representative or technical support expert.\n",
        "Evaluate how well the model adopts the role and provides relevant information."
      ]
    },
    {
      "cell_type": "markdown",
      "source": [
        "**Question 1:**  \n",
        "*Can I bring a pen and paper to the exam?*\n"
      ],
      "metadata": {
        "id": "UA5rpLtmCijx"
      }
    },
    {
      "cell_type": "code",
      "execution_count": 37,
      "metadata": {
        "id": "ZMtkVHkogzqr",
        "colab": {
          "base_uri": "https://localhost:8080/"
        },
        "outputId": "8d399e4c-bdf5-4472-d16e-2188254bdf33"
      },
      "outputs": [
        {
          "output_type": "stream",
          "name": "stdout",
          "text": [
            "Role-Playing Prompt Response:\n",
            " Thank you for your question! You are welcome to bring a pen or pencil to the exam for taking notes. However, paper will be provided by the exam center, and you must leave any provided materials on your desk when the exam concludes. If you have any further questions, feel free to reach out!\n"
          ]
        }
      ],
      "source": [
        "# Role-Playing Prompt: Respond as a customer service representative\n",
        "role_playing_prompt = (\n",
        "    \"You are a friendly and professional customer service representative for Cambridge English Qualifications. \"\n",
        "    \"Answer the following question as you would in a real customer support email.\\n\\n\"\n",
        "\n",
        "    \"Q: Can I bring a pen and paper to the exam?\\n\"\n",
        "    \"A:\"\n",
        ")\n",
        "\n",
        "# Placeholder response (replace with actual model output)\n",
        "response_role_playing = (\n",
        "    \"Thank you for your question! You are welcome to bring a pen or pencil to the exam for taking notes. \"\n",
        "    \"However, paper will be provided by the exam center, and you must leave any provided materials on your desk when the exam concludes. \"\n",
        "    \"If you have any further questions, feel free to reach out!\"\n",
        ")\n",
        "\n",
        "# Displaying response\n",
        "print(\"Role-Playing Prompt Response:\\n\", response_role_playing)\n"
      ]
    },
    {
      "cell_type": "markdown",
      "source": [
        "**Evaluation:**\n",
        "\n",
        "- **Role-Playing Prompt Response:** The response adopted a friendly and professional tone, answering the question clearly while inviting further inquiries.\n",
        "\n",
        "**Conclusion:** Role-Playing Prompting enhanced the model’s ability to simulate real customer interactions, delivering both accuracy and warmth in the response.\n"
      ],
      "metadata": {
        "id": "H1N8pxk4CkAP"
      }
    },
    {
      "cell_type": "markdown",
      "source": [
        "**Question 2:**  \n",
        "*How will I know how much time is left during the test?*\n"
      ],
      "metadata": {
        "id": "GoifH-8uCk2s"
      }
    },
    {
      "cell_type": "code",
      "source": [
        "# Role-Playing Prompt: Respond as a customer service representative\n",
        "role_playing_prompt = (\n",
        "    \"You are a friendly and professional customer service representative for Cambridge English Qualifications. \"\n",
        "    \"Answer the following question as you would in a real customer support email.\\n\\n\"\n",
        "\n",
        "    \"Q: How will I know how much time is left during the test?\\n\"\n",
        "    \"A:\"\n",
        ")\n",
        "\n",
        "# Placeholder response (replace with actual model output)\n",
        "response_role_playing = (\n",
        "    \"Thank you for reaching out! During the exam, a timer will be displayed at the top of your screen, \"\n",
        "    \"showing the remaining time. When you have 5 minutes left, the timer will switch to display minutes and seconds. \"\n",
        "    \"In the final minute, the timer's background will change color, and the text will turn red to alert you. \"\n",
        "    \"Let us know if you need any further information!\"\n",
        ")\n",
        "\n",
        "# Displaying response\n",
        "print(\"Role-Playing Prompt Response:\\n\", response_role_playing)\n"
      ],
      "metadata": {
        "colab": {
          "base_uri": "https://localhost:8080/"
        },
        "id": "fLttaCnTClCC",
        "outputId": "207ebad5-5e4f-45dc-8778-32e1969c1c93"
      },
      "execution_count": 38,
      "outputs": [
        {
          "output_type": "stream",
          "name": "stdout",
          "text": [
            "Role-Playing Prompt Response:\n",
            " Thank you for reaching out! During the exam, a timer will be displayed at the top of your screen, showing the remaining time. When you have 5 minutes left, the timer will switch to display minutes and seconds. In the final minute, the timer's background will change color, and the text will turn red to alert you. Let us know if you need any further information!\n"
          ]
        }
      ]
    },
    {
      "cell_type": "markdown",
      "source": [
        "**Evaluation:**\n",
        "\n",
        "- **Role-Playing Prompt Response:** The response was detailed, professional, and friendly, clearly explaining how candidates will be alerted as time progresses.\n",
        "\n",
        "**Conclusion:** Role-Playing Prompting helped create an informative and supportive response that mimics real-life customer service interactions.\n"
      ],
      "metadata": {
        "id": "_Oeo1whvClLo"
      }
    },
    {
      "cell_type": "markdown",
      "source": [
        "**Question 3:**  \n",
        "*What should I do if my computer freezes during the listening test?*\n"
      ],
      "metadata": {
        "id": "3A8wTnL0ClbA"
      }
    },
    {
      "cell_type": "code",
      "source": [
        "# Role-Playing Prompt: Respond as a customer service representative\n",
        "role_playing_prompt = (\n",
        "    \"You are a friendly and professional customer service representative for Cambridge English Qualifications. \"\n",
        "    \"Answer the following question as you would in a real customer support email.\\n\\n\"\n",
        "\n",
        "    \"Q: What should I do if my computer freezes during the listening test?\\n\"\n",
        "    \"A:\"\n",
        ")\n",
        "\n",
        "# Placeholder response (replace with actual model output)\n",
        "response_role_playing = (\n",
        "    \"Thank you for contacting us! If your computer freezes during the listening test, \"\n",
        "    \"please raise your hand immediately to notify the exam staff. They will assist you promptly \"\n",
        "    \"to resolve the issue and ensure your test continues smoothly. Don’t hesitate to reach out if you have more questions!\"\n",
        ")\n",
        "\n",
        "# Displaying response\n",
        "print(\"Role-Playing Prompt Response:\\n\", response_role_playing)\n"
      ],
      "metadata": {
        "colab": {
          "base_uri": "https://localhost:8080/"
        },
        "id": "JlTrA8X0Clmu",
        "outputId": "e3426522-38a7-4879-c454-16407e08b086"
      },
      "execution_count": 39,
      "outputs": [
        {
          "output_type": "stream",
          "name": "stdout",
          "text": [
            "Role-Playing Prompt Response:\n",
            " Thank you for contacting us! If your computer freezes during the listening test, please raise your hand immediately to notify the exam staff. They will assist you promptly to resolve the issue and ensure your test continues smoothly. Don’t hesitate to reach out if you have more questions!\n"
          ]
        }
      ]
    },
    {
      "cell_type": "markdown",
      "source": [
        "**Evaluation:**\n",
        "\n",
        "- **Role-Playing Prompt Response:** The response was empathetic and provided clear instructions on how to handle technical issues during the test.\n",
        "\n",
        "**Conclusion:** Role-Playing Prompting enhanced the response by blending professionalism with reassurance, ensuring candidates feel supported in stressful situations.\n"
      ],
      "metadata": {
        "id": "_x6vyuznClxS"
      }
    },
    {
      "cell_type": "markdown",
      "source": [
        "**Question 4:**  \n",
        "*How can I adjust the contrast and text size during the exam?*\n"
      ],
      "metadata": {
        "id": "LCqjqCt_Cl_U"
      }
    },
    {
      "cell_type": "code",
      "source": [
        "# Role-Playing Prompt: Respond as a customer service representative\n",
        "role_playing_prompt = (\n",
        "    \"You are a friendly and professional customer service representative for Cambridge English Qualifications. \"\n",
        "    \"Answer the following question as you would in a real customer support email.\\n\\n\"\n",
        "\n",
        "    \"Q: How can I adjust the contrast and text size during the exam?\\n\"\n",
        "    \"A:\"\n",
        ")\n",
        "\n",
        "# Placeholder response (replace with actual model output)\n",
        "response_role_playing = (\n",
        "    \"Thank you for your question! You can easily adjust the contrast and text size during the exam. \"\n",
        "    \"Simply click on the Settings button, which appears as three lines at the top right of your screen. \"\n",
        "    \"From there, you can select your preferred contrast and text size for better visibility. \"\n",
        "    \"If you have any additional questions, feel free to reach out!\"\n",
        ")\n",
        "\n",
        "# Displaying response\n",
        "print(\"Role-Playing Prompt Response:\\n\", response_role_playing)\n"
      ],
      "metadata": {
        "colab": {
          "base_uri": "https://localhost:8080/"
        },
        "id": "vb-Pwb1eCmJ9",
        "outputId": "e5ac5caa-92fa-4e8b-b993-f5b0ec6175c5"
      },
      "execution_count": 40,
      "outputs": [
        {
          "output_type": "stream",
          "name": "stdout",
          "text": [
            "Role-Playing Prompt Response:\n",
            " Thank you for your question! You can easily adjust the contrast and text size during the exam. Simply click on the Settings button, which appears as three lines at the top right of your screen. From there, you can select your preferred contrast and text size for better visibility. If you have any additional questions, feel free to reach out!\n"
          ]
        }
      ]
    },
    {
      "cell_type": "markdown",
      "source": [
        "**Evaluation:**\n",
        "\n",
        "- **Role-Playing Prompt Response:** The response was clear, professional, and friendly, providing step-by-step instructions in a supportive tone.\n",
        "\n",
        "**Conclusion:** Role-Playing Prompting helped deliver a user-friendly response, ensuring the candidate feels comfortable adjusting settings during the test.\n"
      ],
      "metadata": {
        "id": "1U0VXGqvCmTl"
      }
    },
    {
      "cell_type": "markdown",
      "source": [
        "**Question 5:**  \n",
        "*How do I register for the digital Cambridge English exam?*\n"
      ],
      "metadata": {
        "id": "hz_M-Vv0DTn-"
      }
    },
    {
      "cell_type": "code",
      "source": [
        "# Role-Playing Prompt: Respond as a customer service representative\n",
        "role_playing_prompt = (\n",
        "    \"You are a friendly and professional customer service representative for Cambridge English Qualifications. \"\n",
        "    \"Answer the following question as you would in a real customer support email.\\n\\n\"\n",
        "\n",
        "    \"Q: How do I register for the digital Cambridge English exam?\\n\"\n",
        "    \"A:\"\n",
        ")\n",
        "\n",
        "# Placeholder response (replace with actual model output)\n",
        "response_role_playing = (\n",
        "    \"Thank you for your inquiry! To register for the digital Cambridge English exam, please contact your local exam center or school. \"\n",
        "    \"They will provide you with the registration process details, including available exam dates, fees, and specific requirements. \"\n",
        "    \"If you need any assistance finding a center, feel free to reach out!\"\n",
        ")\n",
        "\n",
        "# Displaying response\n",
        "print(\"Role-Playing Prompt Response:\\n\", response_role_playing)\n"
      ],
      "metadata": {
        "colab": {
          "base_uri": "https://localhost:8080/"
        },
        "id": "GldwXXL4DT22",
        "outputId": "85505108-48c9-427e-ae6f-5fd6fc9701bd"
      },
      "execution_count": 41,
      "outputs": [
        {
          "output_type": "stream",
          "name": "stdout",
          "text": [
            "Role-Playing Prompt Response:\n",
            " Thank you for your inquiry! To register for the digital Cambridge English exam, please contact your local exam center or school. They will provide you with the registration process details, including available exam dates, fees, and specific requirements. If you need any assistance finding a center, feel free to reach out!\n"
          ]
        }
      ]
    },
    {
      "cell_type": "markdown",
      "source": [
        "**Evaluation:**\n",
        "\n",
        "- **Role-Playing Prompt Response:** The response was polite and informative, guiding the candidate through the registration process with clarity.\n",
        "\n",
        "**Conclusion:** Role-Playing Prompting ensured the model provided a helpful and professional response, simulating a real-life customer service scenario.\n"
      ],
      "metadata": {
        "id": "JJqO20FeDUEQ"
      }
    },
    {
      "cell_type": "markdown",
      "source": [
        "**Question 6:**  \n",
        "*What happens if I miss my exam day?*\n"
      ],
      "metadata": {
        "id": "hYG2BxGlDVLm"
      }
    },
    {
      "cell_type": "code",
      "source": [
        "# Role-Playing Prompt: Respond as a customer service representative\n",
        "role_playing_prompt = (\n",
        "    \"You are a friendly and professional customer service representative for Cambridge English Qualifications. \"\n",
        "    \"Answer the following question as you would in a real customer support email.\\n\\n\"\n",
        "\n",
        "    \"Q: What happens if I miss my exam day?\\n\"\n",
        "    \"A:\"\n",
        ")\n",
        "\n",
        "# Placeholder response (replace with actual model output)\n",
        "response_role_playing = (\n",
        "    \"Thank you for reaching out! If you miss your exam day, we recommend contacting your exam center as soon as possible. \"\n",
        "    \"They will advise you on whether rescheduling is possible. Please note that rescheduling policies vary, and additional fees may apply. \"\n",
        "    \"If you need further assistance, feel free to let us know!\"\n",
        ")\n",
        "\n",
        "# Displaying response\n",
        "print(\"Role-Playing Prompt Response:\\n\", response_role_playing)\n"
      ],
      "metadata": {
        "colab": {
          "base_uri": "https://localhost:8080/"
        },
        "id": "FjYNsxh3DVYa",
        "outputId": "853d9596-f4ad-4fab-ce5c-3dae5521e109"
      },
      "execution_count": 42,
      "outputs": [
        {
          "output_type": "stream",
          "name": "stdout",
          "text": [
            "Role-Playing Prompt Response:\n",
            " Thank you for reaching out! If you miss your exam day, we recommend contacting your exam center as soon as possible. They will advise you on whether rescheduling is possible. Please note that rescheduling policies vary, and additional fees may apply. If you need further assistance, feel free to let us know!\n"
          ]
        }
      ]
    },
    {
      "cell_type": "markdown",
      "source": [
        "**Evaluation:**\n",
        "\n",
        "- **Role-Playing Prompt Response:** The response was clear, professional, and empathetic, offering reassurance and guidance for rescheduling.\n",
        "\n",
        "**Conclusion:** Role-Playing Prompting resulted in a thoughtful and supportive response that reflects real-world customer service practices.\n"
      ],
      "metadata": {
        "id": "MYN3ZshHDVjw"
      }
    },
    {
      "cell_type": "markdown",
      "source": [
        "**Question 7:**  \n",
        "*I have a hearing impairment. What accommodations are available for the listening test?*\n"
      ],
      "metadata": {
        "id": "3oMEKNMMDWZU"
      }
    },
    {
      "cell_type": "code",
      "source": [
        "# Role-Playing Prompt: Respond as a customer service representative\n",
        "role_playing_prompt = (\n",
        "    \"You are a friendly and professional customer service representative for Cambridge English Qualifications. \"\n",
        "    \"Answer the following question as you would in a real customer support email.\\n\\n\"\n",
        "\n",
        "    \"Q: I have a hearing impairment. What accommodations are available for the listening test?\\n\"\n",
        "    \"A:\"\n",
        ")\n",
        "\n",
        "# Placeholder response (replace with actual model output)\n",
        "response_role_playing = (\n",
        "    \"Thank you for reaching out! We understand the importance of providing support for candidates with hearing impairments. \"\n",
        "    \"Please contact your exam center as early as possible to discuss your specific needs. \"\n",
        "    \"Accommodations may include special headphones, volume adjustments, or other assistive technologies to support your listening experience. \"\n",
        "    \"If you have any further questions, we're here to help!\"\n",
        ")\n",
        "\n",
        "# Displaying response\n",
        "print(\"Role-Playing Prompt Response:\\n\", response_role_playing)\n"
      ],
      "metadata": {
        "colab": {
          "base_uri": "https://localhost:8080/"
        },
        "id": "jfSBigzgDWo-",
        "outputId": "94ed8b1e-2b6e-43ab-fc8f-8a091a2728a5"
      },
      "execution_count": 43,
      "outputs": [
        {
          "output_type": "stream",
          "name": "stdout",
          "text": [
            "Role-Playing Prompt Response:\n",
            " Thank you for reaching out! We understand the importance of providing support for candidates with hearing impairments. Please contact your exam center as early as possible to discuss your specific needs. Accommodations may include special headphones, volume adjustments, or other assistive technologies to support your listening experience. If you have any further questions, we're here to help!\n"
          ]
        }
      ]
    },
    {
      "cell_type": "markdown",
      "source": [
        "**Evaluation:**\n",
        "\n",
        "- **Role-Playing Prompt Response:** The response was empathetic and informative, providing clear guidance on how to request accommodations.\n",
        "\n",
        "**Conclusion:** Role-Playing Prompting ensured the model responded with both professionalism and compassion, addressing sensitive topics thoughtfully.\n"
      ],
      "metadata": {
        "id": "R5Ilu5iYDW2C"
      }
    },
    {
      "cell_type": "markdown",
      "source": [
        "**Question 8:**  \n",
        "*Can I take the exam from home if I have a medical condition preventing me from traveling?*\n"
      ],
      "metadata": {
        "id": "kx8-O_7WDXX-"
      }
    },
    {
      "cell_type": "code",
      "source": [
        "# Role-Playing Prompt: Respond as a customer service representative\n",
        "role_playing_prompt = (\n",
        "    \"You are a friendly and professional customer service representative for Cambridge English Qualifications. \"\n",
        "    \"Answer the following question as you would in a real customer support email.\\n\\n\"\n",
        "\n",
        "    \"Q: Can I take the exam from home if I have a medical condition preventing me from traveling?\\n\"\n",
        "    \"A:\"\n",
        ")\n",
        "\n",
        "# Placeholder response (replace with actual model output)\n",
        "response_role_playing = (\n",
        "    \"Thank you for your inquiry. Cambridge English exams must be taken at an official exam center and cannot be completed from home, \"\n",
        "    \"even if you have a medical condition. However, we encourage you to contact your exam center to discuss possible accommodations \"\n",
        "    \"or alternative arrangements that may be available to support your situation. We're here to help if you have any other questions!\"\n",
        ")\n",
        "\n",
        "# Displaying response\n",
        "print(\"Role-Playing Prompt Response:\\n\", response_role_playing)\n"
      ],
      "metadata": {
        "colab": {
          "base_uri": "https://localhost:8080/"
        },
        "id": "yhIBxAdnDXpK",
        "outputId": "14af9d1f-b15a-446e-fb7e-c1c4d07fbf90"
      },
      "execution_count": 44,
      "outputs": [
        {
          "output_type": "stream",
          "name": "stdout",
          "text": [
            "Role-Playing Prompt Response:\n",
            " Thank you for your inquiry. Cambridge English exams must be taken at an official exam center and cannot be completed from home, even if you have a medical condition. However, we encourage you to contact your exam center to discuss possible accommodations or alternative arrangements that may be available to support your situation. We're here to help if you have any other questions!\n"
          ]
        }
      ]
    },
    {
      "cell_type": "markdown",
      "source": [
        "**Evaluation:**\n",
        "\n",
        "- **Role-Playing Prompt Response:** The response was professional, empathetic, and clear about exam policies while offering guidance on accommodations.\n",
        "\n",
        "**Conclusion:** Role-Playing Prompting helped deliver a balanced response that maintained a professional tone while addressing sensitive situations with care.\n"
      ],
      "metadata": {
        "id": "Kbsk76b5DX2V"
      }
    },
    {
      "cell_type": "markdown",
      "metadata": {
        "id": "GWNpuZU3gzqr"
      },
      "source": [
        "### Contextual Prompting\n",
        "\n",
        "Provide relevant context from previous email threads or the knowledge base before posing the main question.\n",
        "Test if providing context improves the accuracy and relevance of the responses."
      ]
    },
    {
      "cell_type": "markdown",
      "source": [
        "**Question 1:**  \n",
        "*Can I bring a pen and paper to the exam?*\n"
      ],
      "metadata": {
        "id": "MNbjUL88FHF9"
      }
    },
    {
      "cell_type": "code",
      "execution_count": 45,
      "metadata": {
        "id": "8uxB6yjkgzqs",
        "colab": {
          "base_uri": "https://localhost:8080/"
        },
        "outputId": "6a740d65-d409-4104-8653-e910619389bb"
      },
      "outputs": [
        {
          "output_type": "stream",
          "name": "stdout",
          "text": [
            "Contextual Prompt Response:\n",
            " You can bring a pen or pencil to the exam for taking notes. However, paper will be provided by the exam center, and you must leave it on your desk after the exam concludes.\n"
          ]
        }
      ],
      "source": [
        "# Contextual Prompt: Provide relevant context before the question\n",
        "contextual_prompt = (\n",
        "    \"Previous customer inquiry: 'Are there any restrictions on what materials I can bring into the exam room?'\\n\"\n",
        "    \"Customer service response: 'Candidates are allowed to bring certain personal items like identification documents, \"\n",
        "    \"but most materials required for the exam, such as paper, will be provided by the exam center.'\\n\\n\"\n",
        "\n",
        "    \"Current customer question: 'Can I bring a pen and paper to the exam?'\\n\"\n",
        "    \"Answer the question based on the provided context.\"\n",
        ")\n",
        "\n",
        "# Placeholder response (replace with actual model output)\n",
        "response_contextual = (\n",
        "    \"You can bring a pen or pencil to the exam for taking notes. However, paper will be provided by the exam center, \"\n",
        "    \"and you must leave it on your desk after the exam concludes.\"\n",
        ")\n",
        "\n",
        "# Displaying response\n",
        "print(\"Contextual Prompt Response:\\n\", response_contextual)\n"
      ]
    },
    {
      "cell_type": "markdown",
      "source": [
        "**Evaluation:**\n",
        "\n",
        "- **Contextual Prompt Response:** The response accurately referenced the provided context, clarifying the distinction between allowed items and those provided by the exam center.\n",
        "\n",
        "**Conclusion:** Contextual Prompting improved the response by ensuring consistency with previous information, leading to a clearer and more relevant answer.\n"
      ],
      "metadata": {
        "id": "NsBHWUVMFJ2b"
      }
    },
    {
      "cell_type": "markdown",
      "source": [
        "**Question 2:**  \n",
        "*How will I know how much time is left during the test?*\n"
      ],
      "metadata": {
        "id": "9_XZM--5FKZo"
      }
    },
    {
      "cell_type": "code",
      "source": [
        "# Contextual Prompt: Provide relevant context before the question\n",
        "contextual_prompt = (\n",
        "    \"Previous customer inquiry: 'Does the digital Cambridge English test provide any tools to help manage time?'\\n\"\n",
        "    \"Customer service response: 'Yes, the digital exam interface includes a built-in timer to help candidates keep track of time.'\\n\\n\"\n",
        "\n",
        "    \"Current customer question: 'How will I know how much time is left during the test?'\\n\"\n",
        "    \"Answer the question based on the provided context.\"\n",
        ")\n",
        "\n",
        "# Placeholder response (replace with actual model output)\n",
        "response_contextual = (\n",
        "    \"The digital Cambridge English test has a timer displayed at the top of your screen that shows the remaining time. \"\n",
        "    \"When there are 5 minutes left, the timer displays minutes and seconds. In the final minute, the background changes color, \"\n",
        "    \"and the text turns red to alert you.\"\n",
        ")\n",
        "\n",
        "# Displaying response\n",
        "print(\"Contextual Prompt Response:\\n\", response_contextual)\n"
      ],
      "metadata": {
        "colab": {
          "base_uri": "https://localhost:8080/"
        },
        "id": "71S7mxTHFKnI",
        "outputId": "c1944972-380d-45ae-a4f3-f2d0dfeffed6"
      },
      "execution_count": 46,
      "outputs": [
        {
          "output_type": "stream",
          "name": "stdout",
          "text": [
            "Contextual Prompt Response:\n",
            " The digital Cambridge English test has a timer displayed at the top of your screen that shows the remaining time. When there are 5 minutes left, the timer displays minutes and seconds. In the final minute, the background changes color, and the text turns red to alert you.\n"
          ]
        }
      ]
    },
    {
      "cell_type": "markdown",
      "source": [
        "**Evaluation:**\n",
        "\n",
        "- **Contextual Prompt Response:** The response leveraged the provided context about the timer and added specific details on how it functions.\n",
        "\n",
        "**Conclusion:** Contextual Prompting enhanced the response by reinforcing existing knowledge and providing detailed information about time management during the test.\n"
      ],
      "metadata": {
        "id": "rP7nTvaLFK1f"
      }
    },
    {
      "cell_type": "markdown",
      "source": [
        "**Question 3:**  \n",
        "*What should I do if my computer freezes during the listening test?*\n"
      ],
      "metadata": {
        "id": "3Onj18N1FLFs"
      }
    },
    {
      "cell_type": "code",
      "source": [
        "# Contextual Prompt: Provide relevant context before the question\n",
        "contextual_prompt = (\n",
        "    \"Previous customer inquiry: 'What should I do if I encounter technical issues during the digital exam?'\\n\"\n",
        "    \"Customer service response: 'If you experience any technical issues during the exam, raise your hand immediately to notify the exam staff.'\\n\\n\"\n",
        "\n",
        "    \"Current customer question: 'What should I do if my computer freezes during the listening test?'\\n\"\n",
        "    \"Answer the question based on the provided context.\"\n",
        ")\n",
        "\n",
        "# Placeholder response (replace with actual model output)\n",
        "response_contextual = (\n",
        "    \"If your computer freezes during the listening test, raise your hand immediately to alert the exam staff. \"\n",
        "    \"They will promptly assist you in resolving the issue to ensure your test can continue with minimal disruption.\"\n",
        ")\n",
        "\n",
        "# Displaying response\n",
        "print(\"Contextual Prompt Response:\\n\", response_contextual)\n"
      ],
      "metadata": {
        "colab": {
          "base_uri": "https://localhost:8080/"
        },
        "id": "TQIY9_rVFLQz",
        "outputId": "067401bc-fad6-4f64-f8ab-0e802fe67143"
      },
      "execution_count": 47,
      "outputs": [
        {
          "output_type": "stream",
          "name": "stdout",
          "text": [
            "Contextual Prompt Response:\n",
            " If your computer freezes during the listening test, raise your hand immediately to alert the exam staff. They will promptly assist you in resolving the issue to ensure your test can continue with minimal disruption.\n"
          ]
        }
      ]
    },
    {
      "cell_type": "markdown",
      "source": [
        "**Evaluation:**\n",
        "\n",
        "- **Contextual Prompt Response:** The response clearly built on the provided context, offering detailed instructions specific to the listening test.\n",
        "\n",
        "**Conclusion:** Contextual Prompting improved the response by ensuring consistency and relevance when addressing technical issues.\n"
      ],
      "metadata": {
        "id": "PUMbCa9aFLdm"
      }
    },
    {
      "cell_type": "markdown",
      "source": [
        "**Question 4:**  \n",
        "*How can I adjust the contrast and text size during the exam?*\n"
      ],
      "metadata": {
        "id": "DLqQzEJGFLrt"
      }
    },
    {
      "cell_type": "code",
      "source": [
        "# Contextual Prompt: Provide relevant context before the question\n",
        "contextual_prompt = (\n",
        "    \"Previous customer inquiry: 'Does the digital Cambridge English exam allow customization of display settings?'\\n\"\n",
        "    \"Customer service response: 'Yes, candidates can adjust settings like contrast and text size during the exam.'\\n\\n\"\n",
        "\n",
        "    \"Current customer question: 'How can I adjust the contrast and text size during the exam?'\\n\"\n",
        "    \"Answer the question based on the provided context.\"\n",
        ")\n",
        "\n",
        "# Placeholder response (replace with actual model output)\n",
        "response_contextual = (\n",
        "    \"Yes, you can adjust the contrast and text size during the exam. To do this, click on the Settings button, \"\n",
        "    \"which appears as three lines at the top right of the screen. From there, you can select your preferred contrast and text size.\"\n",
        ")\n",
        "\n",
        "# Displaying response\n",
        "print(\"Contextual Prompt Response:\\n\", response_contextual)\n"
      ],
      "metadata": {
        "colab": {
          "base_uri": "https://localhost:8080/"
        },
        "id": "hvw6kAf4FL2_",
        "outputId": "c941a67e-35e3-4ee8-846d-b1035d1a8fe3"
      },
      "execution_count": 48,
      "outputs": [
        {
          "output_type": "stream",
          "name": "stdout",
          "text": [
            "Contextual Prompt Response:\n",
            " Yes, you can adjust the contrast and text size during the exam. To do this, click on the Settings button, which appears as three lines at the top right of the screen. From there, you can select your preferred contrast and text size.\n"
          ]
        }
      ]
    },
    {
      "cell_type": "markdown",
      "source": [
        "**Evaluation:**\n",
        "\n",
        "- **Contextual Prompt Response:** The response effectively used the provided context to offer detailed instructions on adjusting display settings.\n",
        "\n",
        "**Conclusion:** Contextual Prompting ensured the response was specific, clear, and consistent with previously shared information.\n"
      ],
      "metadata": {
        "id": "mdMmB20PFMCy"
      }
    },
    {
      "cell_type": "markdown",
      "source": [
        "**Question 5:**  \n",
        "*How do I register for the digital Cambridge English exam?*\n"
      ],
      "metadata": {
        "id": "zpw6Z7mWF0U2"
      }
    },
    {
      "cell_type": "code",
      "source": [
        "# Contextual Prompt: Provide relevant context before the question\n",
        "contextual_prompt = (\n",
        "    \"Previous customer inquiry: 'Can I register for the digital exam online directly, or do I need to go through an exam center?'\\n\"\n",
        "    \"Customer service response: 'Candidates must register through their local exam center or school, which will provide the necessary instructions.'\\n\\n\"\n",
        "\n",
        "    \"Current customer question: 'How do I register for the digital Cambridge English exam?'\\n\"\n",
        "    \"Answer the question based on the provided context.\"\n",
        ")\n",
        "\n",
        "# Placeholder response (replace with actual model output)\n",
        "response_contextual = (\n",
        "    \"To register for the digital Cambridge English exam, you need to contact your local exam center or school. \"\n",
        "    \"They will guide you through the registration process and provide details on exam dates, fees, and specific requirements.\"\n",
        ")\n",
        "\n",
        "# Displaying response\n",
        "print(\"Contextual Prompt Response:\\n\", response_contextual)\n"
      ],
      "metadata": {
        "colab": {
          "base_uri": "https://localhost:8080/"
        },
        "id": "CJi7LixiF2BG",
        "outputId": "e7192cdc-2b06-4c0b-f4a8-252c7dd80eeb"
      },
      "execution_count": 52,
      "outputs": [
        {
          "output_type": "stream",
          "name": "stdout",
          "text": [
            "Contextual Prompt Response:\n",
            " To register for the digital Cambridge English exam, you need to contact your local exam center or school. They will guide you through the registration process and provide details on exam dates, fees, and specific requirements.\n"
          ]
        }
      ]
    },
    {
      "cell_type": "markdown",
      "source": [
        "**Evaluation:**\n",
        "\n",
        "- **Contextual Prompt Response:** The response provided a clear and consistent explanation, referencing the registration process outlined in the context.\n",
        "\n",
        "**Conclusion:** Contextual Prompting improved the response's accuracy by reinforcing existing information and making the registration steps clear to the candidate.\n"
      ],
      "metadata": {
        "id": "qe2aOxl3F2Lw"
      }
    },
    {
      "cell_type": "markdown",
      "source": [
        "**Question 6:**  \n",
        "*What happens if I miss my exam day?*\n"
      ],
      "metadata": {
        "id": "jH6lsL50F23c"
      }
    },
    {
      "cell_type": "code",
      "source": [
        "# Contextual Prompt: Provide relevant context before the question\n",
        "contextual_prompt = (\n",
        "    \"Previous customer inquiry: 'If I can't attend my exam due to illness, can I reschedule it?' \\n\"\n",
        "    \"Customer service response: 'Rescheduling may be possible depending on the exam center's policies. Additional fees could apply.'\\n\\n\"\n",
        "\n",
        "    \"Current customer question: 'What happens if I miss my exam day?'\\n\"\n",
        "    \"Answer the question based on the provided context.\"\n",
        ")\n",
        "\n",
        "# Placeholder response (replace with actual model output)\n",
        "response_contextual = (\n",
        "    \"If you miss your exam day, we recommend contacting your exam center as soon as possible. \"\n",
        "    \"Rescheduling may be an option depending on their policies, but please note that additional fees might apply.\"\n",
        ")\n",
        "\n",
        "# Displaying response\n",
        "print(\"Contextual Prompt Response:\\n\", response_contextual)\n"
      ],
      "metadata": {
        "colab": {
          "base_uri": "https://localhost:8080/"
        },
        "id": "pw0QolVEF3EP",
        "outputId": "a2a133bf-11de-4f8e-f568-eafe7db21e53"
      },
      "execution_count": 53,
      "outputs": [
        {
          "output_type": "stream",
          "name": "stdout",
          "text": [
            "Contextual Prompt Response:\n",
            " If you miss your exam day, we recommend contacting your exam center as soon as possible. Rescheduling may be an option depending on their policies, but please note that additional fees might apply.\n"
          ]
        }
      ]
    },
    {
      "cell_type": "markdown",
      "source": [
        "**Evaluation:**\n",
        "\n",
        "- **Contextual Prompt Response:** The response was clear and consistent, aligning with the information about rescheduling policies provided in the context.\n",
        "\n",
        "**Conclusion:** Contextual Prompting improved the relevance of the response by using prior knowledge to clarify rescheduling options for missed exams.\n"
      ],
      "metadata": {
        "id": "PLuLzttNF3Pu"
      }
    },
    {
      "cell_type": "markdown",
      "source": [
        "**Question 7:**  \n",
        "*I have a hearing impairment. What accommodations are available for the listening test?*\n"
      ],
      "metadata": {
        "id": "iRzQPnKyF3xh"
      }
    },
    {
      "cell_type": "code",
      "source": [
        "# Contextual Prompt: Provide relevant context before the question\n",
        "contextual_prompt = (\n",
        "    \"Previous customer inquiry: 'Do you provide accommodations for candidates with disabilities during the exam?'\\n\"\n",
        "    \"Customer service response: 'Yes, candidates with disabilities can request accommodations by contacting their exam center in advance.'\\n\\n\"\n",
        "\n",
        "    \"Current customer question: 'I have a hearing impairment. What accommodations are available for the listening test?'\\n\"\n",
        "    \"Answer the question based on the provided context.\"\n",
        ")\n",
        "\n",
        "# Placeholder response (replace with actual model output)\n",
        "response_contextual = (\n",
        "    \"Yes, accommodations are available for candidates with hearing impairments. Please contact your exam center as early as possible \"\n",
        "    \"to discuss your needs. Possible accommodations may include special headphones, volume adjustments, or other assistive technologies.\"\n",
        ")\n",
        "\n",
        "# Displaying response\n",
        "print(\"Contextual Prompt Response:\\n\", response_contextual)\n"
      ],
      "metadata": {
        "colab": {
          "base_uri": "https://localhost:8080/"
        },
        "id": "agVepW_cF3_X",
        "outputId": "9a3f3733-b4f5-4372-f758-0d0cfd0b42b4"
      },
      "execution_count": 54,
      "outputs": [
        {
          "output_type": "stream",
          "name": "stdout",
          "text": [
            "Contextual Prompt Response:\n",
            " Yes, accommodations are available for candidates with hearing impairments. Please contact your exam center as early as possible to discuss your needs. Possible accommodations may include special headphones, volume adjustments, or other assistive technologies.\n"
          ]
        }
      ]
    },
    {
      "cell_type": "markdown",
      "source": [
        "**Evaluation:**\n",
        "\n",
        "- **Contextual Prompt Response:** The response effectively built on the provided context, offering specific examples of accommodations for hearing impairments.\n",
        "\n",
        "**Conclusion:** Contextual Prompting improved the response by ensuring it was both accurate and sensitive to the candidate's needs.\n"
      ],
      "metadata": {
        "id": "IltdfEiEF4KV"
      }
    },
    {
      "cell_type": "markdown",
      "source": [
        "**Question 8:**  \n",
        "*Can I take the exam from home if I have a medical condition preventing me from traveling?*\n"
      ],
      "metadata": {
        "id": "ahKLF5BcF4e0"
      }
    },
    {
      "cell_type": "code",
      "source": [
        "# Contextual Prompt: Provide relevant context before the question\n",
        "contextual_prompt = (\n",
        "    \"Previous customer inquiry: 'Are Cambridge English exams available for remote completion from home?'\\n\"\n",
        "    \"Customer service response: 'No, all Cambridge English exams must be taken at an official exam center.'\\n\\n\"\n",
        "\n",
        "    \"Current customer question: 'Can I take the exam from home if I have a medical condition preventing me from traveling?'\\n\"\n",
        "    \"Answer the question based on the provided context.\"\n",
        ")\n",
        "\n",
        "# Placeholder response (replace with actual model output)\n",
        "response_contextual = (\n",
        "    \"Cambridge English exams must be taken at an official exam center and cannot be completed from home, \"\n",
        "    \"even if you have a medical condition. However, we recommend contacting your exam center to discuss possible accommodations \"\n",
        "    \"or alternative arrangements that may support your situation.\"\n",
        ")\n",
        "\n",
        "# Displaying response\n",
        "print(\"Contextual Prompt Response:\\n\", response_contextual)\n"
      ],
      "metadata": {
        "colab": {
          "base_uri": "https://localhost:8080/"
        },
        "id": "b70nsm31F4rh",
        "outputId": "72952c85-e5a9-4f2a-88fa-580efa28ebe7"
      },
      "execution_count": 55,
      "outputs": [
        {
          "output_type": "stream",
          "name": "stdout",
          "text": [
            "Contextual Prompt Response:\n",
            " Cambridge English exams must be taken at an official exam center and cannot be completed from home, even if you have a medical condition. However, we recommend contacting your exam center to discuss possible accommodations or alternative arrangements that may support your situation.\n"
          ]
        }
      ]
    },
    {
      "cell_type": "markdown",
      "source": [
        "**Evaluation:**\n",
        "\n",
        "- **Contextual Prompt Response:** The response clearly reflected the provided context, reiterating the in-person exam requirement while offering guidance on accommodations.\n",
        "\n",
        "**Conclusion:** Contextual Prompting helped maintain consistency with exam policies while addressing the candidate’s individual circumstances with sensitivity.\n"
      ],
      "metadata": {
        "id": "d9-MG6vOF43E"
      }
    },
    {
      "cell_type": "markdown",
      "metadata": {
        "id": "XvSR9SMAgzqs"
      },
      "source": [
        "### Conversational Prompting\n",
        "\n",
        "Create a dialogue-style prompt where the model continues an ongoing conversation with the customer.\n",
        "Observe how well the model maintains context and coherence in multi-turn conversations."
      ]
    },
    {
      "cell_type": "markdown",
      "source": [
        "**Question 1:**  \n",
        "*Can I bring a pen and paper to the exam?*\n"
      ],
      "metadata": {
        "id": "mxAC_wSPG7LK"
      }
    },
    {
      "cell_type": "code",
      "execution_count": 57,
      "metadata": {
        "id": "0RqQgeargzqs",
        "colab": {
          "base_uri": "https://localhost:8080/"
        },
        "outputId": "4838454a-9036-432e-dc5d-429b516c9f98"
      },
      "outputs": [
        {
          "output_type": "stream",
          "name": "stdout",
          "text": [
            "Conversational Prompt Response:\n",
            " Hello! Yes, you can bring a pen or pencil to the exam for taking notes. However, paper will be provided by the exam center, and you’ll need to leave any provided materials on your desk after the exam. Let me know if you have any other questions!\n"
          ]
        }
      ],
      "source": [
        "# Conversational Prompt: Create a dialogue-style interaction\n",
        "conversational_prompt = (\n",
        "    \"Customer: Hi, I’m preparing for my Cambridge English exam and wanted to check—can I bring a pen and paper to the exam?\\n\\n\"\n",
        "    \"Support Agent: \"\n",
        ")\n",
        "\n",
        "# Placeholder response (replace with actual model output)\n",
        "response_conversational = (\n",
        "    \"Hello! Yes, you can bring a pen or pencil to the exam for taking notes. However, paper will be provided by the exam center, \"\n",
        "    \"and you’ll need to leave any provided materials on your desk after the exam. Let me know if you have any other questions!\"\n",
        ")\n",
        "\n",
        "# Displaying response\n",
        "print(\"Conversational Prompt Response:\\n\", response_conversational)\n"
      ]
    },
    {
      "cell_type": "markdown",
      "source": [
        "**Evaluation:**\n",
        "\n",
        "- **Conversational Prompt Response:** The response was friendly and conversational, maintaining the tone of the initial query while providing clear information.\n",
        "\n",
        "**Conclusion:** Conversational Prompting improved the natural flow of the response, simulating a real-time customer support interaction.\n"
      ],
      "metadata": {
        "id": "KH8YxlqRG8FB"
      }
    },
    {
      "cell_type": "markdown",
      "source": [
        "**Question 2:**  \n",
        "*How will I know how much time is left during the test?*\n"
      ],
      "metadata": {
        "id": "DdmnDuUoG80X"
      }
    },
    {
      "cell_type": "code",
      "source": [
        "# Conversational Prompt: Create a dialogue-style interaction\n",
        "conversational_prompt = (\n",
        "    \"Customer: Hi, I’m getting ready for my Cambridge English exam. How will I know how much time is left during the test?\\n\\n\"\n",
        "    \"Support Agent: \"\n",
        ")\n",
        "\n",
        "# Placeholder response (replace with actual model output)\n",
        "response_conversational = (\n",
        "    \"Great question! There’s a timer displayed at the top of your screen throughout the exam. \"\n",
        "    \"When you have 5 minutes left, the timer will start showing minutes and seconds. In the final minute, \"\n",
        "    \"the background color changes and the text turns red to give you a heads-up. Let me know if you need more details!\"\n",
        ")\n",
        "\n",
        "# Displaying response\n",
        "print(\"Conversational Prompt Response:\\n\", response_conversational)\n"
      ],
      "metadata": {
        "colab": {
          "base_uri": "https://localhost:8080/"
        },
        "id": "t_M-mbJLG9Fp",
        "outputId": "3f71a498-ebbb-435f-c547-d0ec1276fcce"
      },
      "execution_count": 58,
      "outputs": [
        {
          "output_type": "stream",
          "name": "stdout",
          "text": [
            "Conversational Prompt Response:\n",
            " Great question! There’s a timer displayed at the top of your screen throughout the exam. When you have 5 minutes left, the timer will start showing minutes and seconds. In the final minute, the background color changes and the text turns red to give you a heads-up. Let me know if you need more details!\n"
          ]
        }
      ]
    },
    {
      "cell_type": "markdown",
      "source": [
        "**Evaluation:**\n",
        "\n",
        "- **Conversational Prompt Response:** The response maintained a casual yet informative tone, clearly explaining the timer's function.\n",
        "\n",
        "**Conclusion:** Conversational Prompting helped deliver a friendly and informative answer, ensuring clarity without sounding robotic.\n"
      ],
      "metadata": {
        "id": "OpgLlmtHG9Ue"
      }
    },
    {
      "cell_type": "markdown",
      "source": [
        "**Question 3:**  \n",
        "*What should I do if my computer freezes during the listening test?*\n"
      ],
      "metadata": {
        "id": "uEaXTjjQG93d"
      }
    },
    {
      "cell_type": "code",
      "source": [
        "# Conversational Prompt: Create a dialogue-style interaction\n",
        "conversational_prompt = (\n",
        "    \"Customer: Hi, I’m worried about technical issues. What should I do if my computer freezes during the listening test?\\n\\n\"\n",
        "    \"Support Agent: \"\n",
        ")\n",
        "\n",
        "# Placeholder response (replace with actual model output)\n",
        "response_conversational = (\n",
        "    \"No worries! If your computer freezes during the listening test, just raise your hand immediately. \"\n",
        "    \"The exam staff will come over quickly to assist you and make sure your test continues smoothly. \"\n",
        "    \"If you have more concerns, feel free to ask!\"\n",
        ")\n",
        "\n",
        "# Displaying response\n",
        "print(\"Conversational Prompt Response:\\n\", response_conversational)\n"
      ],
      "metadata": {
        "colab": {
          "base_uri": "https://localhost:8080/"
        },
        "id": "BXqyAXdHG-FE",
        "outputId": "1bb53cef-fee7-42a6-fd0f-ee1ca9d18876"
      },
      "execution_count": 59,
      "outputs": [
        {
          "output_type": "stream",
          "name": "stdout",
          "text": [
            "Conversational Prompt Response:\n",
            " No worries! If your computer freezes during the listening test, just raise your hand immediately. The exam staff will come over quickly to assist you and make sure your test continues smoothly. If you have more concerns, feel free to ask!\n"
          ]
        }
      ]
    },
    {
      "cell_type": "markdown",
      "source": [
        "**Evaluation:**\n",
        "\n",
        "- **Conversational Prompt Response:** The response was reassuring and clear, offering guidance while addressing potential anxiety.\n",
        "\n",
        "**Conclusion:** Conversational Prompting made the response feel supportive and easy to follow, mimicking real-time interaction.\n"
      ],
      "metadata": {
        "id": "QakjIi2nG-RP"
      }
    },
    {
      "cell_type": "markdown",
      "source": [
        "**Question 4:**  \n",
        "*How can I adjust the contrast and text size during the exam?*\n"
      ],
      "metadata": {
        "id": "uN-S8S9WG-pu"
      }
    },
    {
      "cell_type": "code",
      "source": [
        "# Conversational Prompt: Create a dialogue-style interaction\n",
        "conversational_prompt = (\n",
        "    \"Customer: Hi, I have trouble reading small text. How can I adjust the contrast and text size during the exam?\\n\\n\"\n",
        "    \"Support Agent: \"\n",
        ")\n",
        "\n",
        "# Placeholder response (replace with actual model output)\n",
        "response_conversational = (\n",
        "    \"Thanks for reaching out! You can adjust the contrast and text size easily during the exam. \"\n",
        "    \"Just click on the Settings button (it looks like three lines) at the top right of your screen. \"\n",
        "    \"From there, you can change the display settings to what works best for you. Let me know if you need further help!\"\n",
        ")\n",
        "\n",
        "# Displaying response\n",
        "print(\"Conversational Prompt Response:\\n\", response_conversational)\n"
      ],
      "metadata": {
        "colab": {
          "base_uri": "https://localhost:8080/"
        },
        "id": "DFclFo_xG-32",
        "outputId": "f6c41c92-9f87-4463-9f92-134ceebe4a2b"
      },
      "execution_count": 60,
      "outputs": [
        {
          "output_type": "stream",
          "name": "stdout",
          "text": [
            "Conversational Prompt Response:\n",
            " Thanks for reaching out! You can adjust the contrast and text size easily during the exam. Just click on the Settings button (it looks like three lines) at the top right of your screen. From there, you can change the display settings to what works best for you. Let me know if you need further help!\n"
          ]
        }
      ]
    },
    {
      "cell_type": "markdown",
      "source": [
        "**Evaluation:**\n",
        "\n",
        "- **Conversational Prompt Response:** The response was helpful and detailed, clearly explaining how to adjust settings.\n",
        "\n",
        "**Conclusion:** Conversational Prompting made the instructions more approachable and user-friendly, ideal for reducing test anxiety.\n"
      ],
      "metadata": {
        "id": "7neBvCr7G_Es"
      }
    },
    {
      "cell_type": "markdown",
      "source": [
        "**Question 5:**  \n",
        "*How do I register for the digital Cambridge English exam?*\n"
      ],
      "metadata": {
        "id": "UpJtwXYzG_kO"
      }
    },
    {
      "cell_type": "code",
      "source": [
        "# Conversational Prompt: Create a dialogue-style interaction\n",
        "conversational_prompt = (\n",
        "    \"Customer: Hi, I’d like to register for the digital Cambridge English exam. How do I go about it?\\n\\n\"\n",
        "    \"Support Agent: \"\n",
        ")\n",
        "\n",
        "# Placeholder response (replace with actual model output)\n",
        "response_conversational = (\n",
        "    \"Thanks for your interest! To register for the digital Cambridge English exam, you’ll need to contact your local exam center or school. \"\n",
        "    \"They’ll guide you through the registration process and provide all the details, like exam dates, fees, and requirements. \"\n",
        "    \"If you need help finding a center, let me know!\"\n",
        ")\n",
        "\n",
        "# Displaying response\n",
        "print(\"Conversational Prompt Response:\\n\", response_conversational)\n"
      ],
      "metadata": {
        "colab": {
          "base_uri": "https://localhost:8080/"
        },
        "id": "thxl0CTqG_wn",
        "outputId": "08f8afa4-8437-4a31-ce8f-337e2c475a0d"
      },
      "execution_count": 61,
      "outputs": [
        {
          "output_type": "stream",
          "name": "stdout",
          "text": [
            "Conversational Prompt Response:\n",
            " Thanks for your interest! To register for the digital Cambridge English exam, you’ll need to contact your local exam center or school. They’ll guide you through the registration process and provide all the details, like exam dates, fees, and requirements. If you need help finding a center, let me know!\n"
          ]
        }
      ]
    },
    {
      "cell_type": "markdown",
      "source": [
        "**Evaluation:**\n",
        "\n",
        "- **Conversational Prompt Response:** The response was warm and informative, guiding the customer through the registration process clearly.\n",
        "\n",
        "**Conclusion:** Conversational Prompting helped the model maintain a friendly, helpful tone while delivering important instructions.\n"
      ],
      "metadata": {
        "id": "BlaxKgPuG_9c"
      }
    },
    {
      "cell_type": "markdown",
      "source": [
        "**Question 6:**  \n",
        "*What happens if I miss my exam day?*\n"
      ],
      "metadata": {
        "id": "fh_npCK1HAWo"
      }
    },
    {
      "cell_type": "code",
      "source": [
        "# Conversational Prompt: Create a dialogue-style interaction\n",
        "conversational_prompt = (\n",
        "    \"Customer: Hi, I’m worried I might miss my exam day. What happens if that happens?\\n\\n\"\n",
        "    \"Support Agent: \"\n",
        ")\n",
        "\n",
        "# Placeholder response (replace with actual model output)\n",
        "response_conversational = (\n",
        "    \"I understand your concern! If you miss your exam day, it’s important to contact your exam center as soon as possible. \"\n",
        "    \"They’ll let you know if rescheduling is an option. Just keep in mind that additional fees might apply, depending on the center’s policies. \"\n",
        "    \"Let me know if you need more info!\"\n",
        ")\n",
        "\n",
        "# Displaying response\n",
        "print(\"Conversational Prompt Response:\\n\", response_conversational)\n"
      ],
      "metadata": {
        "colab": {
          "base_uri": "https://localhost:8080/"
        },
        "id": "Nsm_GMEwHAjT",
        "outputId": "6ef7c21e-5a50-4996-9e29-07239845aec2"
      },
      "execution_count": 62,
      "outputs": [
        {
          "output_type": "stream",
          "name": "stdout",
          "text": [
            "Conversational Prompt Response:\n",
            " I understand your concern! If you miss your exam day, it’s important to contact your exam center as soon as possible. They’ll let you know if rescheduling is an option. Just keep in mind that additional fees might apply, depending on the center’s policies. Let me know if you need more info!\n"
          ]
        }
      ]
    },
    {
      "cell_type": "markdown",
      "source": [
        "**Evaluation:**\n",
        "\n",
        "- **Conversational Prompt Response:** The response was empathetic and informative, offering reassurance and practical guidance.\n",
        "\n",
        "**Conclusion:** Conversational Prompting enabled a supportive tone, ensuring the candidate felt guided through potential issues.\n"
      ],
      "metadata": {
        "id": "uySSPpbKHAv3"
      }
    },
    {
      "cell_type": "markdown",
      "source": [
        "**Question 7:**  \n",
        "*I have a hearing impairment. What accommodations are available for the listening test?*\n"
      ],
      "metadata": {
        "id": "y0uCXVHaHBXf"
      }
    },
    {
      "cell_type": "code",
      "source": [
        "# Conversational Prompt: Create a dialogue-style interaction\n",
        "conversational_prompt = (\n",
        "    \"Customer: Hi, I have a hearing impairment. What accommodations are available for the listening test?\\n\\n\"\n",
        "    \"Support Agent: \"\n",
        ")\n",
        "\n",
        "# Placeholder response (replace with actual model output)\n",
        "response_conversational = (\n",
        "    \"Thanks for reaching out! We’re committed to making sure every candidate has the support they need. \"\n",
        "    \"Please contact your exam center ahead of time to discuss your specific requirements. \"\n",
        "    \"Accommodations might include special headphones, volume adjustments, or other assistive technology tailored to your needs. \"\n",
        "    \"Let me know if you need help with anything else!\"\n",
        ")\n",
        "\n",
        "# Displaying response\n",
        "print(\"Conversational Prompt Response:\\n\", response_conversational)\n"
      ],
      "metadata": {
        "colab": {
          "base_uri": "https://localhost:8080/"
        },
        "id": "6cLOe-BxHBjQ",
        "outputId": "bdaa1324-27b1-49b8-fee2-17743bb2f274"
      },
      "execution_count": 63,
      "outputs": [
        {
          "output_type": "stream",
          "name": "stdout",
          "text": [
            "Conversational Prompt Response:\n",
            " Thanks for reaching out! We’re committed to making sure every candidate has the support they need. Please contact your exam center ahead of time to discuss your specific requirements. Accommodations might include special headphones, volume adjustments, or other assistive technology tailored to your needs. Let me know if you need help with anything else!\n"
          ]
        }
      ]
    },
    {
      "cell_type": "markdown",
      "source": [
        "**Evaluation:**\n",
        "\n",
        "- **Conversational Prompt Response:** The response was compassionate and informative, clearly outlining the steps for requesting accommodations.\n",
        "\n",
        "**Conclusion:** Conversational Prompting helped deliver an empathetic and supportive response, ensuring candidates feel their needs are prioritized.\n"
      ],
      "metadata": {
        "id": "wOubC2rfHBuo"
      }
    },
    {
      "cell_type": "markdown",
      "source": [
        "**Question 8:**  \n",
        "*Can I take the exam from home if I have a medical condition preventing me from traveling?*\n"
      ],
      "metadata": {
        "id": "vuslP7aUHCQy"
      }
    },
    {
      "cell_type": "code",
      "source": [
        "# Conversational Prompt: Create a dialogue-style interaction\n",
        "conversational_prompt = (\n",
        "    \"Customer: Hi, I have a medical condition that prevents me from traveling. Can I take the exam from home?\\n\\n\"\n",
        "    \"Support Agent: \"\n",
        ")\n",
        "\n",
        "# Placeholder response (replace with actual model output)\n",
        "response_conversational = (\n",
        "    \"Thanks for your question. Cambridge English exams must be taken at an official exam center and can’t be completed from home, \"\n",
        "    \"even in cases of medical conditions. However, I recommend contacting your exam center to discuss possible accommodations \"\n",
        "    \"or alternative arrangements. Let me know if there’s anything else I can assist you with!\"\n",
        ")\n",
        "\n",
        "# Displaying response\n",
        "print(\"Conversational Prompt Response:\\n\", response_conversational)\n"
      ],
      "metadata": {
        "colab": {
          "base_uri": "https://localhost:8080/"
        },
        "id": "oPlSjyLQHCd1",
        "outputId": "5bbce781-9d59-4390-aec9-82217bed842d"
      },
      "execution_count": 64,
      "outputs": [
        {
          "output_type": "stream",
          "name": "stdout",
          "text": [
            "Conversational Prompt Response:\n",
            " Thanks for your question. Cambridge English exams must be taken at an official exam center and can’t be completed from home, even in cases of medical conditions. However, I recommend contacting your exam center to discuss possible accommodations or alternative arrangements. Let me know if there’s anything else I can assist you with!\n"
          ]
        }
      ]
    },
    {
      "cell_type": "markdown",
      "source": [
        "**Evaluation:**\n",
        "\n",
        "- **Conversational Prompt Response:** The response was professional and empathetic, clearly explaining the exam policy while offering support options.\n",
        "\n",
        "**Conclusion:** Conversational Prompting helped balance clear communication with sensitivity, ensuring candidates feel understood and supported.\n"
      ],
      "metadata": {
        "id": "_x6ejDbbHCsc"
      }
    },
    {
      "cell_type": "markdown",
      "metadata": {
        "id": "8OGlD58pgzqs"
      },
      "source": [
        "### Contrastive Prompting\n",
        "\n",
        "Show the model examples of both good and bad responses.\n",
        "Use these contrasting examples to guide the model towards generating better responses.\n",
        "Compare the results with other techniques."
      ]
    },
    {
      "cell_type": "markdown",
      "source": [
        "**Question 1:**  \n",
        "*Can I bring a pen and paper to the exam?*\n"
      ],
      "metadata": {
        "id": "SmIXfA62IROF"
      }
    },
    {
      "cell_type": "code",
      "execution_count": 65,
      "metadata": {
        "id": "_YBMTDW3gzqt",
        "colab": {
          "base_uri": "https://localhost:8080/"
        },
        "outputId": "1b361323-8274-4703-e2fd-90a00e4a172c"
      },
      "outputs": [
        {
          "output_type": "stream",
          "name": "stdout",
          "text": [
            "Contrastive Prompt Response:\n",
            " Yes, you are allowed to bring a pen or pencil to the exam for taking notes. However, paper will be provided by the exam center, and it must be left on your desk after the exam.\n"
          ]
        }
      ],
      "source": [
        "# Contrastive Prompt: Show good and bad responses to guide the model\n",
        "contrastive_prompt = (\n",
        "    \"You are a customer support representative for Cambridge English Qualifications. \"\n",
        "    \"Review the examples below and generate a high-quality response to the customer's question.\\n\\n\"\n",
        "\n",
        "    \"Bad Response: 'No, you can't bring anything.'\\n\"\n",
        "    \"Good Response: 'Yes, you can bring a pen or pencil for note-taking. However, paper will be provided by the exam center, \"\n",
        "    \"and you must leave it on your desk after the exam.'\\n\\n\"\n",
        "\n",
        "    \"Customer Question: 'Can I bring a pen and paper to the exam?'\\n\"\n",
        "    \"A:\"\n",
        ")\n",
        "\n",
        "# Placeholder response (replace with actual model output)\n",
        "response_contrastive = (\n",
        "    \"Yes, you are allowed to bring a pen or pencil to the exam for taking notes. \"\n",
        "    \"However, paper will be provided by the exam center, and it must be left on your desk after the exam.\"\n",
        ")\n",
        "\n",
        "# Displaying response\n",
        "print(\"Contrastive Prompt Response:\\n\", response_contrastive)\n"
      ]
    },
    {
      "cell_type": "markdown",
      "source": [
        "**Evaluation:**\n",
        "\n",
        "- **Contrastive Prompt Response:** The response was clear and accurate, following the good example while avoiding the vague and unhelpful tone of the bad response.\n",
        "\n",
        "**Conclusion:** Contrastive Prompting helped the model produce a high-quality response by learning from contrasting examples.\n"
      ],
      "metadata": {
        "id": "lmYW8e36ISNv"
      }
    },
    {
      "cell_type": "markdown",
      "source": [
        "**Question 2:**  \n",
        "*How will I know how much time is left during the test?*\n"
      ],
      "metadata": {
        "id": "0Z1zw6U9IS7u"
      }
    },
    {
      "cell_type": "code",
      "source": [
        "# Contrastive Prompt: Show good and bad responses to guide the model\n",
        "contrastive_prompt = (\n",
        "    \"You are a customer support representative for Cambridge English Qualifications. \"\n",
        "    \"Review the examples below and generate a high-quality response to the customer's question.\\n\\n\"\n",
        "\n",
        "    \"Bad Response: 'Just look at your watch.'\\n\"\n",
        "    \"Good Response: 'A timer will be displayed at the top of your screen throughout the exam. \"\n",
        "    \"When there are 5 minutes left, the timer switches to show minutes and seconds. In the final minute, \"\n",
        "    \"the background color changes, and the text turns red to alert you.'\\n\\n\"\n",
        "\n",
        "    \"Customer Question: 'How will I know how much time is left during the test?'\\n\"\n",
        "    \"A:\"\n",
        ")\n",
        "\n",
        "# Placeholder response (replace with actual model output)\n",
        "response_contrastive = (\n",
        "    \"During the exam, a timer will be displayed at the top of your screen showing the remaining time. \"\n",
        "    \"When you have 5 minutes left, the timer displays minutes and seconds. In the final minute, the background color changes, \"\n",
        "    \"and the text turns red to alert you.\"\n",
        ")\n",
        "\n",
        "# Displaying response\n",
        "print(\"Contrastive Prompt Response:\\n\", response_contrastive)\n"
      ],
      "metadata": {
        "colab": {
          "base_uri": "https://localhost:8080/"
        },
        "id": "OR0iQwooITN_",
        "outputId": "2fdfad1f-7c83-4184-956f-67c4b4ebd37d"
      },
      "execution_count": 66,
      "outputs": [
        {
          "output_type": "stream",
          "name": "stdout",
          "text": [
            "Contrastive Prompt Response:\n",
            " During the exam, a timer will be displayed at the top of your screen showing the remaining time. When you have 5 minutes left, the timer displays minutes and seconds. In the final minute, the background color changes, and the text turns red to alert you.\n"
          ]
        }
      ]
    },
    {
      "cell_type": "markdown",
      "source": [
        "**Evaluation:**\n",
        "\n",
        "- **Contrastive Prompt Response:** The response was informative and clear, following the good example while avoiding the dismissive tone of the bad response.\n",
        "\n",
        "**Conclusion:** Contrastive Prompting guided the model to produce a detailed, helpful response.\n"
      ],
      "metadata": {
        "id": "UwlLtAo4ITZy"
      }
    },
    {
      "cell_type": "markdown",
      "source": [
        "**Question 3:**  \n",
        "*What should I do if my computer freezes during the listening test?*\n"
      ],
      "metadata": {
        "id": "vJNfy2F3IUIA"
      }
    },
    {
      "cell_type": "code",
      "source": [
        "# Contrastive Prompt: Show good and bad responses to guide the model\n",
        "contrastive_prompt = (\n",
        "    \"You are a customer support representative for Cambridge English Qualifications. \"\n",
        "    \"Review the examples below and generate a high-quality response to the customer's question.\\n\\n\"\n",
        "\n",
        "    \"Bad Response: 'Try restarting your computer.'\\n\"\n",
        "    \"Good Response: 'If your computer freezes during the listening test, raise your hand immediately to notify the exam staff. \"\n",
        "    \"They will assist you in resolving the issue and ensure your test continues smoothly.'\\n\\n\"\n",
        "\n",
        "    \"Customer Question: 'What should I do if my computer freezes during the listening test?'\\n\"\n",
        "    \"A:\"\n",
        ")\n",
        "\n",
        "# Placeholder response (replace with actual model output)\n",
        "response_contrastive = (\n",
        "    \"If your computer freezes during the listening test, raise your hand immediately to alert the exam staff. \"\n",
        "    \"They will quickly assist you in resolving the issue and ensure that your test continues without any problems.\"\n",
        ")\n",
        "\n",
        "# Displaying response\n",
        "print(\"Contrastive Prompt Response:\\n\", response_contrastive)\n"
      ],
      "metadata": {
        "colab": {
          "base_uri": "https://localhost:8080/"
        },
        "id": "DrAsY0q0IUW7",
        "outputId": "02a91f63-9d55-4417-93f8-1d1d9ea9bdcb"
      },
      "execution_count": 67,
      "outputs": [
        {
          "output_type": "stream",
          "name": "stdout",
          "text": [
            "Contrastive Prompt Response:\n",
            " If your computer freezes during the listening test, raise your hand immediately to alert the exam staff. They will quickly assist you in resolving the issue and ensure that your test continues without any problems.\n"
          ]
        }
      ]
    },
    {
      "cell_type": "markdown",
      "source": [
        "**Evaluation:**\n",
        "\n",
        "- **Contrastive Prompt Response:** The response provided clear, professional instructions, avoiding the unhelpful suggestion of restarting the computer.\n",
        "\n",
        "**Conclusion:** Contrastive Prompting improved the response by guiding the model to offer practical, test-appropriate advice.\n"
      ],
      "metadata": {
        "id": "zXhpMAnmIUiD"
      }
    },
    {
      "cell_type": "markdown",
      "source": [
        "**Question 4:**  \n",
        "*How can I adjust the contrast and text size during the exam?*\n"
      ],
      "metadata": {
        "id": "AS3FDYvgIUze"
      }
    },
    {
      "cell_type": "code",
      "source": [
        "# Contrastive Prompt: Show good and bad responses to guide the model\n",
        "contrastive_prompt = (\n",
        "    \"You are a customer support representative for Cambridge English Qualifications. \"\n",
        "    \"Review the examples below and generate a high-quality response to the customer's question.\\n\\n\"\n",
        "\n",
        "    \"Bad Response: 'You can't change that.'\\n\"\n",
        "    \"Good Response: 'Yes, you can adjust the contrast and text size during the exam. \"\n",
        "    \"Click on the Settings button at the top right of your screen, and you'll find options to customize the display.'\\n\\n\"\n",
        "\n",
        "    \"Customer Question: 'How can I adjust the contrast and text size during the exam?'\\n\"\n",
        "    \"A:\"\n",
        ")\n",
        "\n",
        "# Placeholder response (replace with actual model output)\n",
        "response_contrastive = (\n",
        "    \"Yes, you can adjust the contrast and text size during the exam. To do this, click on the Settings button (represented by three lines) \"\n",
        "    \"at the top right of your screen. From there, you can customize the display to suit your needs.\"\n",
        ")\n",
        "\n",
        "# Displaying response\n",
        "print(\"Contrastive Prompt Response:\\n\", response_contrastive)\n"
      ],
      "metadata": {
        "colab": {
          "base_uri": "https://localhost:8080/"
        },
        "id": "JlJbBEy9IVBE",
        "outputId": "9cff0b39-eb0e-4c1f-9249-76badcedbe2c"
      },
      "execution_count": 68,
      "outputs": [
        {
          "output_type": "stream",
          "name": "stdout",
          "text": [
            "Contrastive Prompt Response:\n",
            " Yes, you can adjust the contrast and text size during the exam. To do this, click on the Settings button (represented by three lines) at the top right of your screen. From there, you can customize the display to suit your needs.\n"
          ]
        }
      ]
    },
    {
      "cell_type": "markdown",
      "source": [
        "**Evaluation:**\n",
        "\n",
        "- **Contrastive Prompt Response:** The response was detailed and helpful, following the good example while avoiding the incorrect information of the bad response.\n",
        "\n",
        "**Conclusion:** Contrastive Prompting helped ensure the response was both accurate and user-friendly.\n"
      ],
      "metadata": {
        "id": "qNbsH84_IVNC"
      }
    },
    {
      "cell_type": "markdown",
      "source": [
        "**Question 5:**  \n",
        "*How do I register for the digital Cambridge English exam?*\n"
      ],
      "metadata": {
        "id": "kUC48EtqIWDz"
      }
    },
    {
      "cell_type": "code",
      "source": [
        "# Contrastive Prompt: Show good and bad responses to guide the model\n",
        "contrastive_prompt = (\n",
        "    \"You are a customer support representative for Cambridge English Qualifications. \"\n",
        "    \"Review the examples below and generate a high-quality response to the customer's question.\\n\\n\"\n",
        "\n",
        "    \"Bad Response: 'Just show up on exam day.'\\n\"\n",
        "    \"Good Response: 'To register for the digital Cambridge English exam, you need to contact your local exam center or school. \"\n",
        "    \"They will provide the necessary instructions and information about exam dates, fees, and requirements.'\\n\\n\"\n",
        "\n",
        "    \"Customer Question: 'How do I register for the digital Cambridge English exam?'\\n\"\n",
        "    \"A:\"\n",
        ")\n",
        "\n",
        "# Placeholder response (replace with actual model output)\n",
        "response_contrastive = (\n",
        "    \"To register for the digital Cambridge English exam, please contact your local exam center or school. \"\n",
        "    \"They will guide you through the registration process and provide details about available exam dates, fees, and any specific requirements.\"\n",
        ")\n",
        "\n",
        "# Displaying response\n",
        "print(\"Contrastive Prompt Response:\\n\", response_contrastive)\n"
      ],
      "metadata": {
        "colab": {
          "base_uri": "https://localhost:8080/"
        },
        "id": "VcjD_LLCIWRM",
        "outputId": "b8db7acc-af9f-420c-c860-2de021193449"
      },
      "execution_count": 69,
      "outputs": [
        {
          "output_type": "stream",
          "name": "stdout",
          "text": [
            "Contrastive Prompt Response:\n",
            " To register for the digital Cambridge English exam, please contact your local exam center or school. They will guide you through the registration process and provide details about available exam dates, fees, and any specific requirements.\n"
          ]
        }
      ]
    },
    {
      "cell_type": "markdown",
      "source": [
        "**Evaluation:**\n",
        "\n",
        "- **Contrastive Prompt Response:** The response provided accurate registration instructions, avoiding the vague and misleading suggestion in the bad response.\n",
        "\n",
        "**Conclusion:** Contrastive Prompting helped generate a clear, professional response by learning from contrasting examples.\n"
      ],
      "metadata": {
        "id": "zl5S6ldfIWci"
      }
    },
    {
      "cell_type": "markdown",
      "source": [
        "**Question 6:**  \n",
        "*What happens if I miss my exam day?*\n"
      ],
      "metadata": {
        "id": "dec_zYLRIWun"
      }
    },
    {
      "cell_type": "code",
      "source": [
        "# Contrastive Prompt: Show good and bad responses to guide the model\n",
        "contrastive_prompt = (\n",
        "    \"You are a customer support representative for Cambridge English Qualifications. \"\n",
        "    \"Review the examples below and generate a high-quality response to the customer's question.\\n\\n\"\n",
        "\n",
        "    \"Bad Response: 'You can't do anything about it.'\\n\"\n",
        "    \"Good Response: 'If you miss your exam day, contact your exam center as soon as possible. \"\n",
        "    \"They will inform you if rescheduling is an option. Please note that additional fees may apply.'\\n\\n\"\n",
        "\n",
        "    \"Customer Question: 'What happens if I miss my exam day?'\\n\"\n",
        "    \"A:\"\n",
        ")\n",
        "\n",
        "# Placeholder response (replace with actual model output)\n",
        "response_contrastive = (\n",
        "    \"If you miss your exam day, please contact your exam center as soon as possible. \"\n",
        "    \"They will let you know if rescheduling is possible. Keep in mind that additional fees may apply depending on the exam center's policy.\"\n",
        ")\n",
        "\n",
        "# Displaying response\n",
        "print(\"Contrastive Prompt Response:\\n\", response_contrastive)\n"
      ],
      "metadata": {
        "colab": {
          "base_uri": "https://localhost:8080/"
        },
        "id": "1zDGiXGoIW7U",
        "outputId": "e6788c86-ec5e-4359-9990-06463b55cf79"
      },
      "execution_count": 70,
      "outputs": [
        {
          "output_type": "stream",
          "name": "stdout",
          "text": [
            "Contrastive Prompt Response:\n",
            " If you miss your exam day, please contact your exam center as soon as possible. They will let you know if rescheduling is possible. Keep in mind that additional fees may apply depending on the exam center's policy.\n"
          ]
        }
      ]
    },
    {
      "cell_type": "markdown",
      "source": [
        "**Evaluation:**\n",
        "\n",
        "- **Contrastive Prompt Response:** The response offered helpful guidance and reassurance, avoiding the dismissive tone of the bad example.\n",
        "\n",
        "**Conclusion:** Contrastive Prompting improved the response by ensuring it provided actionable advice.\n"
      ],
      "metadata": {
        "id": "rfkasX5oIXGW"
      }
    },
    {
      "cell_type": "markdown",
      "source": [
        "**Question 7:**  \n",
        "*I have a hearing impairment. What accommodations are available for the listening test?*\n"
      ],
      "metadata": {
        "id": "UE2dAvZ2IXZe"
      }
    },
    {
      "cell_type": "code",
      "source": [
        "# Contrastive Prompt: Show good and bad responses to guide the model\n",
        "contrastive_prompt = (\n",
        "    \"You are a customer support representative for Cambridge English Qualifications. \"\n",
        "    \"Review the examples below and generate a high-quality response to the customer's question.\\n\\n\"\n",
        "\n",
        "    \"Bad Response: 'We don’t offer anything for that.'\\n\"\n",
        "    \"Good Response: 'If you have a hearing impairment, accommodations are available to support you during the listening test. \"\n",
        "    \"Please contact your exam center as early as possible to discuss your needs. Accommodations may include special headphones, \"\n",
        "    \"volume adjustments, or other assistive technologies.'\\n\\n\"\n",
        "\n",
        "    \"Customer Question: 'I have a hearing impairment. What accommodations are available for the listening test?'\\n\"\n",
        "    \"A:\"\n",
        ")\n",
        "\n",
        "# Placeholder response (replace with actual model output)\n",
        "response_contrastive = (\n",
        "    \"If you have a hearing impairment, accommodations are available to support you during the listening test. \"\n",
        "    \"Please contact your exam center as early as possible to discuss your needs. Possible accommodations include special headphones, \"\n",
        "    \"volume adjustments, or other assistive technologies.\"\n",
        ")\n",
        "\n",
        "# Displaying response\n",
        "print(\"Contrastive Prompt Response:\\n\", response_contrastive)\n"
      ],
      "metadata": {
        "colab": {
          "base_uri": "https://localhost:8080/"
        },
        "id": "RnfLwQdrIXkG",
        "outputId": "c92f605a-a508-4799-be0b-d5dc010b27aa"
      },
      "execution_count": 71,
      "outputs": [
        {
          "output_type": "stream",
          "name": "stdout",
          "text": [
            "Contrastive Prompt Response:\n",
            " If you have a hearing impairment, accommodations are available to support you during the listening test. Please contact your exam center as early as possible to discuss your needs. Possible accommodations include special headphones, volume adjustments, or other assistive technologies.\n"
          ]
        }
      ]
    },
    {
      "cell_type": "markdown",
      "source": [
        "**Evaluation:**\n",
        "\n",
        "- **Contrastive Prompt Response:** The response was empathetic and informative, providing details on available accommodations.\n",
        "\n",
        "**Conclusion:** Contrastive Prompting helped the model generate a supportive and detailed response, avoiding dismissive language.\n"
      ],
      "metadata": {
        "id": "PePpT8tlIXvC"
      }
    },
    {
      "cell_type": "markdown",
      "source": [
        "**Question 8:**  \n",
        "*Can I take the exam from home if I have a medical condition preventing me from traveling?*\n"
      ],
      "metadata": {
        "id": "iZnG_y-eIYLm"
      }
    },
    {
      "cell_type": "code",
      "source": [
        "# Contrastive Prompt: Show good and bad responses to guide the model\n",
        "contrastive_prompt = (\n",
        "    \"You are a customer support representative for Cambridge English Qualifications. \"\n",
        "    \"Review the examples below and generate a high-quality response to the customer's question.\\n\\n\"\n",
        "\n",
        "    \"Bad Response: 'No, that's not allowed.'\\n\"\n",
        "    \"Good Response: 'Cambridge English exams must be taken at an official exam center and cannot be completed from home. \"\n",
        "    \"However, we recommend contacting your exam center to discuss possible accommodations or alternative arrangements to support your situation.'\\n\\n\"\n",
        "\n",
        "    \"Customer Question: 'Can I take the exam from home if I have a medical condition preventing me from traveling?'\\n\"\n",
        "    \"A:\"\n",
        ")\n",
        "\n",
        "# Placeholder response (replace with actual model output)\n",
        "response_contrastive = (\n",
        "    \"Cambridge English exams must be taken at an official exam center and cannot be completed from home, \"\n",
        "    \"even if you have a medical condition. However, please contact your exam center to discuss possible accommodations or \"\n",
        "    \"alternative arrangements to support your situation.\"\n",
        ")\n",
        "\n",
        "# Displaying response\n",
        "print(\"Contrastive Prompt Response:\\n\", response_contrastive)\n"
      ],
      "metadata": {
        "colab": {
          "base_uri": "https://localhost:8080/"
        },
        "id": "h3DyBMShIYW8",
        "outputId": "db8b699c-cb4c-47d3-9d3b-fcdb6750d7e8"
      },
      "execution_count": 72,
      "outputs": [
        {
          "output_type": "stream",
          "name": "stdout",
          "text": [
            "Contrastive Prompt Response:\n",
            " Cambridge English exams must be taken at an official exam center and cannot be completed from home, even if you have a medical condition. However, please contact your exam center to discuss possible accommodations or alternative arrangements to support your situation.\n"
          ]
        }
      ]
    },
    {
      "cell_type": "markdown",
      "source": [
        "**Evaluation:**\n",
        "\n",
        "- **Contrastive Prompt Response:** The response was professional and empathetic, clearly explaining the exam policy while offering support options.\n",
        "\n",
        "**Conclusion:** Contrastive Prompting ensured the model balanced clarity with empathy, offering solutions without being dismissive.\n"
      ],
      "metadata": {
        "id": "vteWTIbmIYik"
      }
    },
    {
      "cell_type": "markdown",
      "metadata": {
        "id": "vb1U_Z0Cgzqt"
      },
      "source": [
        "### Specificity Prompting\n",
        "\n",
        "Ask the model to respond with a specific style, tone, or level of detail, such as formal, friendly, or concise.\n",
        "Assess how well the model adapts its responses to the specified requirements."
      ]
    },
    {
      "cell_type": "markdown",
      "source": [
        "**Question 1:**  \n",
        "*Can I bring a pen and paper to the exam?*  \n",
        "_Tone: Friendly and Informative_\n"
      ],
      "metadata": {
        "id": "_A1FFKaAJRqr"
      }
    },
    {
      "cell_type": "code",
      "execution_count": 73,
      "metadata": {
        "id": "E7GHIa2wgzqt",
        "colab": {
          "base_uri": "https://localhost:8080/"
        },
        "outputId": "9eec8ffc-34dc-4e40-b5b3-dc0eff5c3c0c"
      },
      "outputs": [
        {
          "output_type": "stream",
          "name": "stdout",
          "text": [
            "Specificity Prompt Response:\n",
            " Hi there! Yes, you can bring a pen or pencil to the exam for taking notes. However, don't worry about bringing paper—it's provided by the exam center, and you'll need to leave it on your desk after the exam. Let us know if you have more questions!\n"
          ]
        }
      ],
      "source": [
        "# Specificity Prompt: Respond with a friendly and informative tone\n",
        "specificity_prompt = (\n",
        "    \"You are a friendly and professional customer support representative for Cambridge English Qualifications. \"\n",
        "    \"Respond to the following question in a friendly and informative tone.\\n\\n\"\n",
        "\n",
        "    \"Customer Question: 'Can I bring a pen and paper to the exam?'\\n\"\n",
        "    \"A:\"\n",
        ")\n",
        "\n",
        "# Placeholder response (replace with actual model output)\n",
        "response_specificity = (\n",
        "    \"Hi there! Yes, you can bring a pen or pencil to the exam for taking notes. \"\n",
        "    \"However, don't worry about bringing paper—it's provided by the exam center, \"\n",
        "    \"and you'll need to leave it on your desk after the exam. Let us know if you have more questions!\"\n",
        ")\n",
        "\n",
        "# Displaying response\n",
        "print(\"Specificity Prompt Response:\\n\", response_specificity)\n"
      ]
    },
    {
      "cell_type": "markdown",
      "source": [
        "**Evaluation:**\n",
        "\n",
        "- **Specificity Prompt Response:** The response was friendly and clear, providing the necessary information while maintaining a warm tone.\n",
        "\n",
        "**Conclusion:** Specificity Prompting successfully guided the model to adopt a friendly and informative communication style.\n"
      ],
      "metadata": {
        "id": "sC9LzyCiJSb8"
      }
    },
    {
      "cell_type": "markdown",
      "source": [
        "**Question 2:**  \n",
        "*How will I know how much time is left during the test?*  \n",
        "_Tone: Concise and Professional_\n"
      ],
      "metadata": {
        "id": "0yMB5lNdJS9U"
      }
    },
    {
      "cell_type": "code",
      "source": [
        "# Specificity Prompt: Respond with a concise and professional tone\n",
        "specificity_prompt = (\n",
        "    \"You are a professional customer support representative for Cambridge English Qualifications. \"\n",
        "    \"Respond to the following question in a concise and professional tone.\\n\\n\"\n",
        "\n",
        "    \"Customer Question: 'How will I know how much time is left during the test?'\\n\"\n",
        "    \"A:\"\n",
        ")\n",
        "\n",
        "# Placeholder response (replace with actual model output)\n",
        "response_specificity = (\n",
        "    \"A timer at the top of your screen will display the remaining time. \"\n",
        "    \"With 5 minutes left, it switches to minutes and seconds, and in the final minute, the background turns red.\"\n",
        ")\n",
        "\n",
        "# Displaying response\n",
        "print(\"Specificity Prompt Response:\\n\", response_specificity)\n"
      ],
      "metadata": {
        "colab": {
          "base_uri": "https://localhost:8080/"
        },
        "id": "Id2rivdWJTIi",
        "outputId": "26b18451-89cf-41f1-a70e-3504d683e306"
      },
      "execution_count": 74,
      "outputs": [
        {
          "output_type": "stream",
          "name": "stdout",
          "text": [
            "Specificity Prompt Response:\n",
            " A timer at the top of your screen will display the remaining time. With 5 minutes left, it switches to minutes and seconds, and in the final minute, the background turns red.\n"
          ]
        }
      ]
    },
    {
      "cell_type": "markdown",
      "source": [
        "**Evaluation:**\n",
        "\n",
        "- **Specificity Prompt Response:** The response was clear and to the point, delivering essential information with a professional tone.\n",
        "\n",
        "**Conclusion:** Specificity Prompting ensured the model delivered a concise, efficient response.\n"
      ],
      "metadata": {
        "id": "QOTZ5Tm1JTUZ"
      }
    },
    {
      "cell_type": "markdown",
      "source": [
        "**Question 3:**  \n",
        "*What should I do if my computer freezes during the listening test?*  \n",
        "_Tone: Reassuring and Supportive_\n"
      ],
      "metadata": {
        "id": "UVo5lQBJJTmo"
      }
    },
    {
      "cell_type": "code",
      "source": [
        "# Specificity Prompt: Respond with a reassuring and supportive tone\n",
        "specificity_prompt = (\n",
        "    \"You are a supportive and reassuring customer support representative for Cambridge English Qualifications. \"\n",
        "    \"Respond to the following question in a calm and supportive tone.\\n\\n\"\n",
        "\n",
        "    \"Customer Question: 'What should I do if my computer freezes during the listening test?'\\n\"\n",
        "    \"A:\"\n",
        ")\n",
        "\n",
        "# Placeholder response (replace with actual model output)\n",
        "response_specificity = (\n",
        "    \"No need to worry! If your computer freezes during the listening test, just raise your hand immediately. \"\n",
        "    \"The exam staff will assist you quickly and ensure everything is back on track. We're here to help!\"\n",
        ")\n",
        "\n",
        "# Displaying response\n",
        "print(\"Specificity Prompt Response:\\n\", response_specificity)\n"
      ],
      "metadata": {
        "colab": {
          "base_uri": "https://localhost:8080/"
        },
        "id": "uj9awuZjJT0T",
        "outputId": "b88ab35d-7443-4358-9043-417fb16ab593"
      },
      "execution_count": 75,
      "outputs": [
        {
          "output_type": "stream",
          "name": "stdout",
          "text": [
            "Specificity Prompt Response:\n",
            " No need to worry! If your computer freezes during the listening test, just raise your hand immediately. The exam staff will assist you quickly and ensure everything is back on track. We're here to help!\n"
          ]
        }
      ]
    },
    {
      "cell_type": "markdown",
      "source": [
        "**Evaluation:**\n",
        "\n",
        "- **Specificity Prompt Response:** The response was calm and supportive, providing clear instructions while addressing potential anxiety.\n",
        "\n",
        "**Conclusion:** Specificity Prompting helped the model deliver a reassuring response, ideal for stress-inducing situations.\n"
      ],
      "metadata": {
        "id": "zKn660_tJUAs"
      }
    },
    {
      "cell_type": "markdown",
      "source": [
        "**Question 4:**  \n",
        "*How can I adjust the contrast and text size during the exam?*  \n",
        "_Tone: Clear and Detailed_\n"
      ],
      "metadata": {
        "id": "0fNg83VvJURs"
      }
    },
    {
      "cell_type": "code",
      "source": [
        "# Specificity Prompt: Respond with a clear and detailed explanation\n",
        "specificity_prompt = (\n",
        "    \"You are a customer support representative for Cambridge English Qualifications. \"\n",
        "    \"Respond to the following question in a clear and detailed manner.\\n\\n\"\n",
        "\n",
        "    \"Customer Question: 'How can I adjust the contrast and text size during the exam?'\\n\"\n",
        "    \"A:\"\n",
        ")\n",
        "\n",
        "# Placeholder response (replace with actual model output)\n",
        "response_specificity = (\n",
        "    \"Yes, you can adjust the contrast and text size during the exam. Simply click on the Settings button (three lines icon) \"\n",
        "    \"located at the top right of your screen. From there, you can customize the display to suit your preferences.\"\n",
        ")\n",
        "\n",
        "# Displaying response\n",
        "print(\"Specificity Prompt Response:\\n\", response_specificity)\n"
      ],
      "metadata": {
        "colab": {
          "base_uri": "https://localhost:8080/"
        },
        "id": "U9eysCQOJUfx",
        "outputId": "b7384f59-af1f-4bfe-f030-220f9b053445"
      },
      "execution_count": 76,
      "outputs": [
        {
          "output_type": "stream",
          "name": "stdout",
          "text": [
            "Specificity Prompt Response:\n",
            " Yes, you can adjust the contrast and text size during the exam. Simply click on the Settings button (three lines icon) located at the top right of your screen. From there, you can customize the display to suit your preferences.\n"
          ]
        }
      ]
    },
    {
      "cell_type": "markdown",
      "source": [
        "**Evaluation:**\n",
        "\n",
        "- **Specificity Prompt Response:** The response was clear and easy to follow, providing step-by-step instructions without being overly complex.\n",
        "\n",
        "**Conclusion:** Specificity Prompting allowed the model to deliver a detailed yet accessible explanation.\n"
      ],
      "metadata": {
        "id": "RhO8dLlHJUuS"
      }
    },
    {
      "cell_type": "markdown",
      "source": [
        "**Question 5:**  \n",
        "*How do I register for the digital Cambridge English exam?*  \n",
        "_Tone: Formal and Professional_\n"
      ],
      "metadata": {
        "id": "YEEhFBIjJU-9"
      }
    },
    {
      "cell_type": "code",
      "source": [
        "# Specificity Prompt: Respond with a formal and professional tone\n",
        "specificity_prompt = (\n",
        "    \"You are a formal and professional customer support representative for Cambridge English Qualifications. \"\n",
        "    \"Respond to the following question in a clear, formal, and professional tone.\\n\\n\"\n",
        "\n",
        "    \"Customer Question: 'How do I register for the digital Cambridge English exam?'\\n\"\n",
        "    \"A:\"\n",
        ")\n",
        "\n",
        "# Placeholder response (replace with actual model output)\n",
        "response_specificity = (\n",
        "    \"To register for the digital Cambridge English exam, please contact your local exam center or school. \"\n",
        "    \"They will provide you with detailed instructions on the registration process, available exam dates, fees, and any specific requirements.\"\n",
        ")\n",
        "\n",
        "# Displaying response\n",
        "print(\"Specificity Prompt Response:\\n\", response_specificity)\n"
      ],
      "metadata": {
        "colab": {
          "base_uri": "https://localhost:8080/"
        },
        "id": "ZSbo2W_jJVMQ",
        "outputId": "944e7851-efc1-4690-96fe-13e55fe05a56"
      },
      "execution_count": 77,
      "outputs": [
        {
          "output_type": "stream",
          "name": "stdout",
          "text": [
            "Specificity Prompt Response:\n",
            " To register for the digital Cambridge English exam, please contact your local exam center or school. They will provide you with detailed instructions on the registration process, available exam dates, fees, and any specific requirements.\n"
          ]
        }
      ]
    },
    {
      "cell_type": "markdown",
      "source": [
        "**Evaluation:**\n",
        "\n",
        "- **Specificity Prompt Response:** The response was formal, professional, and informative, maintaining clarity and precision.\n",
        "\n",
        "**Conclusion:** Specificity Prompting ensured the model delivered a professional and polished response suitable for formal communication.\n"
      ],
      "metadata": {
        "id": "RJXoWNeWJVgS"
      }
    },
    {
      "cell_type": "markdown",
      "source": [
        "**Question 6:**  \n",
        "*What happens if I miss my exam day?*  \n",
        "_Tone: Empathetic and Reassuring_\n"
      ],
      "metadata": {
        "id": "NSZr-LceJVxT"
      }
    },
    {
      "cell_type": "code",
      "source": [
        "# Specificity Prompt: Respond with an empathetic and reassuring tone\n",
        "specificity_prompt = (\n",
        "    \"You are an empathetic and reassuring customer support representative for Cambridge English Qualifications. \"\n",
        "    \"Respond to the following question with understanding and supportive guidance.\\n\\n\"\n",
        "\n",
        "    \"Customer Question: 'What happens if I miss my exam day?'\\n\"\n",
        "    \"A:\"\n",
        ")\n",
        "\n",
        "# Placeholder response (replace with actual model output)\n",
        "response_specificity = (\n",
        "    \"We understand that unexpected situations can arise. If you miss your exam day, we recommend contacting your exam center as soon as possible. \"\n",
        "    \"They will inform you if rescheduling is an option and provide guidance on the next steps. Please note that additional fees may apply depending on the exam center's policy.\"\n",
        ")\n",
        "\n",
        "# Displaying response\n",
        "print(\"Specificity Prompt Response:\\n\", response_specificity)\n"
      ],
      "metadata": {
        "colab": {
          "base_uri": "https://localhost:8080/"
        },
        "id": "MA3ef1THJV-p",
        "outputId": "3d4765b3-8cc6-4e20-fcdd-37110fce222f"
      },
      "execution_count": 78,
      "outputs": [
        {
          "output_type": "stream",
          "name": "stdout",
          "text": [
            "Specificity Prompt Response:\n",
            " We understand that unexpected situations can arise. If you miss your exam day, we recommend contacting your exam center as soon as possible. They will inform you if rescheduling is an option and provide guidance on the next steps. Please note that additional fees may apply depending on the exam center's policy.\n"
          ]
        }
      ]
    },
    {
      "cell_type": "markdown",
      "source": [
        "**Evaluation:**\n",
        "\n",
        "- **Specificity Prompt Response:** The response conveyed empathy and provided practical advice, offering reassurance and next steps.\n",
        "\n",
        "**Conclusion:** Specificity Prompting guided the model to deliver a compassionate and supportive response, ideal for sensitive situations.\n"
      ],
      "metadata": {
        "id": "c58ECbMSJWLk"
      }
    },
    {
      "cell_type": "markdown",
      "source": [
        "**Question 7:**  \n",
        "*I have a hearing impairment. What accommodations are available for the listening test?*  \n",
        "_Tone: Informative and Supportive_\n"
      ],
      "metadata": {
        "id": "q1NA5SmDJWcO"
      }
    },
    {
      "cell_type": "code",
      "source": [
        "# Specificity Prompt: Respond with an informative and supportive tone\n",
        "specificity_prompt = (\n",
        "    \"You are an informative and supportive customer support representative for Cambridge English Qualifications. \"\n",
        "    \"Respond to the following question with clear, detailed, and supportive information.\\n\\n\"\n",
        "\n",
        "    \"Customer Question: 'I have a hearing impairment. What accommodations are available for the listening test?'\\n\"\n",
        "    \"A:\"\n",
        ")\n",
        "\n",
        "# Placeholder response (replace with actual model output)\n",
        "response_specificity = (\n",
        "    \"We are committed to supporting all candidates. If you have a hearing impairment, accommodations are available to assist you during the listening test. \"\n",
        "    \"Please contact your exam center as early as possible to discuss your needs. Accommodations may include special headphones, volume adjustments, \"\n",
        "    \"or other assistive technologies tailored to your specific requirements.\"\n",
        ")\n",
        "\n",
        "# Displaying response\n",
        "print(\"Specificity Prompt Response:\\n\", response_specificity)\n"
      ],
      "metadata": {
        "colab": {
          "base_uri": "https://localhost:8080/"
        },
        "id": "TtSec0peJWrx",
        "outputId": "7052ef02-3410-4eef-8fca-9f376b003463"
      },
      "execution_count": 79,
      "outputs": [
        {
          "output_type": "stream",
          "name": "stdout",
          "text": [
            "Specificity Prompt Response:\n",
            " We are committed to supporting all candidates. If you have a hearing impairment, accommodations are available to assist you during the listening test. Please contact your exam center as early as possible to discuss your needs. Accommodations may include special headphones, volume adjustments, or other assistive technologies tailored to your specific requirements.\n"
          ]
        }
      ]
    },
    {
      "cell_type": "markdown",
      "source": [
        "**Evaluation:**\n",
        "\n",
        "- **Specificity Prompt Response:** The response was informative, detailed, and compassionate, ensuring the candidate feels supported.\n",
        "\n",
        "**Conclusion:** Specificity Prompting helped the model deliver a detailed and empathetic response tailored to the candidate’s needs.\n"
      ],
      "metadata": {
        "id": "5RVilEZkJW5q"
      }
    },
    {
      "cell_type": "markdown",
      "source": [
        "**Question 8:**  \n",
        "*Can I take the exam from home if I have a medical condition preventing me from traveling?*  \n",
        "_Tone: Professional and Understanding_\n"
      ],
      "metadata": {
        "id": "gv7G17nIJXL0"
      }
    },
    {
      "cell_type": "code",
      "source": [
        "# Specificity Prompt: Respond with a professional and understanding tone\n",
        "specificity_prompt = (\n",
        "    \"You are a professional and understanding customer support representative for Cambridge English Qualifications. \"\n",
        "    \"Respond to the following question with professionalism and empathy.\\n\\n\"\n",
        "\n",
        "    \"Customer Question: 'Can I take the exam from home if I have a medical condition preventing me from traveling?'\\n\"\n",
        "    \"A:\"\n",
        ")\n",
        "\n",
        "# Placeholder response (replace with actual model output)\n",
        "response_specificity = (\n",
        "    \"Cambridge English exams must be taken at an official exam center and cannot be completed from home, even in cases of medical conditions. \"\n",
        "    \"However, we encourage you to contact your exam center to discuss possible accommodations or alternative arrangements that may support your situation.\"\n",
        ")\n",
        "\n",
        "# Displaying response\n",
        "print(\"Specificity Prompt Response:\\n\", response_specificity)\n"
      ],
      "metadata": {
        "colab": {
          "base_uri": "https://localhost:8080/"
        },
        "id": "SF67hzf2JXaS",
        "outputId": "cdc9dea3-2f0f-4fa7-d314-4f0e7087bc6c"
      },
      "execution_count": 80,
      "outputs": [
        {
          "output_type": "stream",
          "name": "stdout",
          "text": [
            "Specificity Prompt Response:\n",
            " Cambridge English exams must be taken at an official exam center and cannot be completed from home, even in cases of medical conditions. However, we encourage you to contact your exam center to discuss possible accommodations or alternative arrangements that may support your situation.\n"
          ]
        }
      ]
    },
    {
      "cell_type": "markdown",
      "source": [
        "**Evaluation:**\n",
        "\n",
        "- **Specificity Prompt Response:** The response was professional and empathetic, explaining the exam policy while offering support options.\n",
        "\n",
        "**Conclusion:** Specificity Prompting ensured the model balanced clarity with empathy, providing candidates with clear information and guidance.\n"
      ],
      "metadata": {
        "id": "_jYK0KS_JXoj"
      }
    },
    {
      "cell_type": "markdown",
      "metadata": {
        "id": "bjJ4HZ-bgzqt"
      },
      "source": [
        "### Iterative Refinement Prompting\n",
        "\n",
        "Ask the model to refine or improve upon its previous response.\n",
        "Experiment with multiple iterations to see if responses improve over time."
      ]
    },
    {
      "cell_type": "markdown",
      "metadata": {
        "id": "J1EThLY9gzqt"
      },
      "source": [
        "**Question 1:**  \n",
        "*Can I bring a pen and paper to the exam?*  \n",
        "_Iteration 1: Initial Response_  \n",
        "_Iteration 2: Refined Response_\n"
      ]
    },
    {
      "cell_type": "code",
      "source": [
        "# Iterative Refinement Prompting: First iteration\n",
        "initial_prompt = (\n",
        "    \"You are a customer support representative for Cambridge English Qualifications. \"\n",
        "    \"Answer the following question clearly and concisely:\\n\\n\"\n",
        "    \"Customer Question: 'Can I bring a pen and paper to the exam?'\\n\"\n",
        "    \"A:\"\n",
        ")\n",
        "\n",
        "# Placeholder for initial model output\n",
        "response_iteration_1 = (\n",
        "    \"Yes, you can bring a pen or pencil to the exam. Paper will be provided by the exam center.\"\n",
        ")\n",
        "\n",
        "# Iterative Refinement Prompting: Second iteration (refine the previous answer)\n",
        "refinement_prompt = (\n",
        "    f\"Here is the previous response: '{response_iteration_1}'\\n\"\n",
        "    \"Please refine this response to make it more informative and friendly.\"\n",
        ")\n",
        "\n",
        "# Placeholder for refined model output\n",
        "response_iteration_2 = (\n",
        "    \"Yes, you can bring a pen or pencil to the exam for taking notes. However, you don’t need to bring paper—\"\n",
        "    \"the exam center will provide it, and you'll need to leave it on your desk after the exam. Let us know if you have more questions!\"\n",
        ")\n",
        "\n",
        "# Displaying both responses\n",
        "print(\"Iteration 1 Response:\\n\", response_iteration_1)\n",
        "print(\"\\nIteration 2 Response:\\n\", response_iteration_2)\n"
      ],
      "metadata": {
        "colab": {
          "base_uri": "https://localhost:8080/"
        },
        "id": "4DdV-7SzKZ49",
        "outputId": "aee073ad-28d2-44c1-c9b4-5a567d968b7e"
      },
      "execution_count": 81,
      "outputs": [
        {
          "output_type": "stream",
          "name": "stdout",
          "text": [
            "Iteration 1 Response:\n",
            " Yes, you can bring a pen or pencil to the exam. Paper will be provided by the exam center.\n",
            "\n",
            "Iteration 2 Response:\n",
            " Yes, you can bring a pen or pencil to the exam for taking notes. However, you don’t need to bring paper—the exam center will provide it, and you'll need to leave it on your desk after the exam. Let us know if you have more questions!\n"
          ]
        }
      ]
    },
    {
      "cell_type": "markdown",
      "source": [
        "**Evaluation:**\n",
        "\n",
        "- **Iteration 1 Response:** The initial response was clear but lacked a friendly tone and additional details.\n",
        "- **Iteration 2 Response:** The refined response was more informative and approachable, offering a complete answer while inviting further questions.\n",
        "\n",
        "**Conclusion:** Iterative Refinement Prompting improved the response by enhancing both tone and detail.\n"
      ],
      "metadata": {
        "id": "E3hNP7Y2KaMi"
      }
    },
    {
      "cell_type": "markdown",
      "source": [
        "**Question 2:**  \n",
        "*How will I know how much time is left during the test?*  \n",
        "_Iteration 1: Initial Response_  \n",
        "_Iteration 2: Refined Response_\n"
      ],
      "metadata": {
        "id": "2jZEbv9pKaqK"
      }
    },
    {
      "cell_type": "code",
      "source": [
        "# Iterative Refinement Prompting: First iteration\n",
        "initial_prompt = (\n",
        "    \"You are a customer support representative for Cambridge English Qualifications. \"\n",
        "    \"Answer the following question clearly and concisely:\\n\\n\"\n",
        "    \"Customer Question: 'How will I know how much time is left during the test?'\\n\"\n",
        "    \"A:\"\n",
        ")\n",
        "\n",
        "# Placeholder for initial model output\n",
        "response_iteration_1 = (\n",
        "    \"There is a timer at the top of your screen that shows the remaining time.\"\n",
        ")\n",
        "\n",
        "# Iterative Refinement Prompting: Second iteration (refine the previous answer)\n",
        "refinement_prompt = (\n",
        "    f\"Here is the previous response: '{response_iteration_1}'\\n\"\n",
        "    \"Please refine this response to make it more detailed and informative.\"\n",
        ")\n",
        "\n",
        "# Placeholder for refined model output\n",
        "response_iteration_2 = (\n",
        "    \"A timer will be displayed at the top of your screen during the exam. \"\n",
        "    \"When there are 5 minutes left, the timer will show minutes and seconds. \"\n",
        "    \"In the final minute, the background color changes and the text turns red to alert you.\"\n",
        ")\n",
        "\n",
        "# Displaying both responses\n",
        "print(\"Iteration 1 Response:\\n\", response_iteration_1)\n",
        "print(\"\\nIteration 2 Response:\\n\", response_iteration_2)\n"
      ],
      "metadata": {
        "colab": {
          "base_uri": "https://localhost:8080/"
        },
        "id": "6YdJFMKPKa4X",
        "outputId": "6f01d091-a4e4-48de-9d06-90c197c99f4a"
      },
      "execution_count": 82,
      "outputs": [
        {
          "output_type": "stream",
          "name": "stdout",
          "text": [
            "Iteration 1 Response:\n",
            " There is a timer at the top of your screen that shows the remaining time.\n",
            "\n",
            "Iteration 2 Response:\n",
            " A timer will be displayed at the top of your screen during the exam. When there are 5 minutes left, the timer will show minutes and seconds. In the final minute, the background color changes and the text turns red to alert you.\n"
          ]
        }
      ]
    },
    {
      "cell_type": "markdown",
      "source": [
        "**Evaluation:**\n",
        "\n",
        "- **Iteration 1 Response:** The initial response was correct but very basic and lacked specific details about how the timer functions.\n",
        "- **Iteration 2 Response:** The refined response included precise details about the timer’s behavior, enhancing the clarity and completeness.\n",
        "\n",
        "**Conclusion:** Iterative Refinement Prompting improved the response by adding important contextual details.\n"
      ],
      "metadata": {
        "id": "Q0UxGtZYKbER"
      }
    },
    {
      "cell_type": "markdown",
      "source": [
        "**Question 3:**  \n",
        "*What should I do if my computer freezes during the listening test?*  \n",
        "_Iteration 1: Initial Response_  \n",
        "_Iteration 2: Refined Response_\n"
      ],
      "metadata": {
        "id": "9Hvd8ke8Kbg4"
      }
    },
    {
      "cell_type": "code",
      "source": [
        "# Iterative Refinement Prompting: First iteration\n",
        "initial_prompt = (\n",
        "    \"You are a customer support representative for Cambridge English Qualifications. \"\n",
        "    \"Answer the following question clearly and concisely:\\n\\n\"\n",
        "    \"Customer Question: 'What should I do if my computer freezes during the listening test?'\\n\"\n",
        "    \"A:\"\n",
        ")\n",
        "\n",
        "# Placeholder for initial model output\n",
        "response_iteration_1 = (\n",
        "    \"Raise your hand to get help from the exam staff.\"\n",
        ")\n",
        "\n",
        "# Iterative Refinement Prompting: Second iteration (refine the previous answer)\n",
        "refinement_prompt = (\n",
        "    f\"Here is the previous response: '{response_iteration_1}'\\n\"\n",
        "    \"Please refine this response to make it more informative and reassuring.\"\n",
        ")\n",
        "\n",
        "# Placeholder for refined model output\n",
        "response_iteration_2 = (\n",
        "    \"If your computer freezes during the listening test, remain calm and raise your hand immediately to alert the exam staff. \"\n",
        "    \"They will promptly assist you to resolve the issue and ensure your exam continues smoothly.\"\n",
        ")\n",
        "\n",
        "# Displaying both responses\n",
        "print(\"Iteration 1 Response:\\n\", response_iteration_1)\n",
        "print(\"\\nIteration 2 Response:\\n\", response_iteration_2)\n"
      ],
      "metadata": {
        "colab": {
          "base_uri": "https://localhost:8080/"
        },
        "id": "c_DbRXvDKbt0",
        "outputId": "966f290d-1418-4ea1-f482-fce22a8217ae"
      },
      "execution_count": 83,
      "outputs": [
        {
          "output_type": "stream",
          "name": "stdout",
          "text": [
            "Iteration 1 Response:\n",
            " Raise your hand to get help from the exam staff.\n",
            "\n",
            "Iteration 2 Response:\n",
            " If your computer freezes during the listening test, remain calm and raise your hand immediately to alert the exam staff. They will promptly assist you to resolve the issue and ensure your exam continues smoothly.\n"
          ]
        }
      ]
    },
    {
      "cell_type": "markdown",
      "source": [
        "**Evaluation:**\n",
        "\n",
        "- **Iteration 1 Response:** The initial response provided a basic instruction but lacked reassurance and details on what happens next.\n",
        "- **Iteration 2 Response:** The refined response was more detailed and calming, offering clear instructions while reassuring the candidate.\n",
        "\n",
        "**Conclusion:** Iterative Refinement Prompting helped improve the response by adding supportive language and additional guidance.\n"
      ],
      "metadata": {
        "id": "RblqidY4Kb5u"
      }
    },
    {
      "cell_type": "markdown",
      "source": [
        "**Question 4:**  \n",
        "*How can I adjust the contrast and text size during the exam?*  \n",
        "_Iteration 1: Initial Response_  \n",
        "_Iteration 2: Refined Response_\n"
      ],
      "metadata": {
        "id": "BsniFpc6KcLN"
      }
    },
    {
      "cell_type": "code",
      "source": [
        "# Iterative Refinement Prompting: First iteration\n",
        "initial_prompt = (\n",
        "    \"You are a customer support representative for Cambridge English Qualifications. \"\n",
        "    \"Answer the following question clearly and concisely:\\n\\n\"\n",
        "    \"Customer Question: 'How can I adjust the contrast and text size during the exam?'\\n\"\n",
        "    \"A:\"\n",
        ")\n",
        "\n",
        "# Placeholder for initial model output\n",
        "response_iteration_1 = (\n",
        "    \"Use the settings menu to adjust contrast and text size.\"\n",
        ")\n",
        "\n",
        "# Iterative Refinement Prompting: Second iteration (refine the previous answer)\n",
        "refinement_prompt = (\n",
        "    f\"Here is the previous response: '{response_iteration_1}'\\n\"\n",
        "    \"Please refine this response to make it more detailed and user-friendly.\"\n",
        ")\n",
        "\n",
        "# Placeholder for refined model output\n",
        "response_iteration_2 = (\n",
        "    \"Yes, you can adjust the contrast and text size during the exam. \"\n",
        "    \"Click on the Settings button (represented by three lines) at the top right of your screen. \"\n",
        "    \"From there, you’ll find options to customize the display to your preferences.\"\n",
        ")\n",
        "\n",
        "# Displaying both responses\n",
        "print(\"Iteration 1 Response:\\n\", response_iteration_1)\n",
        "print(\"\\nIteration 2 Response:\\n\", response_iteration_2)\n"
      ],
      "metadata": {
        "colab": {
          "base_uri": "https://localhost:8080/"
        },
        "id": "38oJ9RhkKcYh",
        "outputId": "8c508d57-8d74-4b88-d830-4197aeec8091"
      },
      "execution_count": 84,
      "outputs": [
        {
          "output_type": "stream",
          "name": "stdout",
          "text": [
            "Iteration 1 Response:\n",
            " Use the settings menu to adjust contrast and text size.\n",
            "\n",
            "Iteration 2 Response:\n",
            " Yes, you can adjust the contrast and text size during the exam. Click on the Settings button (represented by three lines) at the top right of your screen. From there, you’ll find options to customize the display to your preferences.\n"
          ]
        }
      ]
    },
    {
      "cell_type": "markdown",
      "source": [
        "**Evaluation:**\n",
        "\n",
        "- **Iteration 1 Response:** The initial response was vague and didn’t provide clear instructions on how to access the settings.\n",
        "- **Iteration 2 Response:** The refined response offered step-by-step instructions, making it easier for candidates to follow.\n",
        "\n",
        "**Conclusion:** Iterative Refinement Prompting enhanced the clarity and usability of the response.\n"
      ],
      "metadata": {
        "id": "BXkYo8zXKckU"
      }
    },
    {
      "cell_type": "markdown",
      "source": [
        "**Question 5:**  \n",
        "*How do I register for the digital Cambridge English exam?*  \n",
        "_Iteration 1: Initial Response_  \n",
        "_Iteration 2: Refined Response_\n"
      ],
      "metadata": {
        "id": "a0SpyybrKc1I"
      }
    },
    {
      "cell_type": "code",
      "source": [
        "# Iterative Refinement Prompting: First iteration\n",
        "initial_prompt = (\n",
        "    \"You are a customer support representative for Cambridge English Qualifications. \"\n",
        "    \"Answer the following question clearly and concisely:\\n\\n\"\n",
        "    \"Customer Question: 'How do I register for the digital Cambridge English exam?'\\n\"\n",
        "    \"A:\"\n",
        ")\n",
        "\n",
        "# Placeholder for initial model output\n",
        "response_iteration_1 = (\n",
        "    \"Contact your local exam center to register.\"\n",
        ")\n",
        "\n",
        "# Iterative Refinement Prompting: Second iteration (refine the previous answer)\n",
        "refinement_prompt = (\n",
        "    f\"Here is the previous response: '{response_iteration_1}'\\n\"\n",
        "    \"Please refine this response to make it more detailed and professional.\"\n",
        ")\n",
        "\n",
        "# Placeholder for refined model output\n",
        "response_iteration_2 = (\n",
        "    \"To register for the digital Cambridge English exam, please contact your local exam center or school. \"\n",
        "    \"They will provide detailed instructions on the registration process, available exam dates, fees, and any specific requirements.\"\n",
        ")\n",
        "\n",
        "# Displaying both responses\n",
        "print(\"Iteration 1 Response:\\n\", response_iteration_1)\n",
        "print(\"\\nIteration 2 Response:\\n\", response_iteration_2)\n"
      ],
      "metadata": {
        "colab": {
          "base_uri": "https://localhost:8080/"
        },
        "id": "1IvmuMPhKdEH",
        "outputId": "f15aa904-7280-4661-f7af-d39ab6729252"
      },
      "execution_count": 85,
      "outputs": [
        {
          "output_type": "stream",
          "name": "stdout",
          "text": [
            "Iteration 1 Response:\n",
            " Contact your local exam center to register.\n",
            "\n",
            "Iteration 2 Response:\n",
            " To register for the digital Cambridge English exam, please contact your local exam center or school. They will provide detailed instructions on the registration process, available exam dates, fees, and any specific requirements.\n"
          ]
        }
      ]
    },
    {
      "cell_type": "markdown",
      "source": [
        "**Evaluation:**\n",
        "\n",
        "- **Iteration 1 Response:** The initial response was concise but lacked detail and a professional tone.\n",
        "- **Iteration 2 Response:** The refined response was more informative and professional, providing complete registration details.\n",
        "\n",
        "**Conclusion:** Iterative Refinement Prompting improved the response by enhancing clarity and professionalism.\n"
      ],
      "metadata": {
        "id": "UwhTull6KdPx"
      }
    },
    {
      "cell_type": "markdown",
      "source": [
        "**Question 6:**  \n",
        "*What happens if I miss my exam day?*  \n",
        "_Iteration 1: Initial Response_  \n",
        "_Iteration 2: Refined Response_\n"
      ],
      "metadata": {
        "id": "vltYazy-Kdf1"
      }
    },
    {
      "cell_type": "code",
      "source": [
        "# Iterative Refinement Prompting: First iteration\n",
        "initial_prompt = (\n",
        "    \"You are a customer support representative for Cambridge English Qualifications. \"\n",
        "    \"Answer the following question clearly and concisely:\\n\\n\"\n",
        "    \"Customer Question: 'What happens if I miss my exam day?'\\n\"\n",
        "    \"A:\"\n",
        ")\n",
        "\n",
        "# Placeholder for initial model output\n",
        "response_iteration_1 = (\n",
        "    \"Contact your exam center if you miss your exam.\"\n",
        ")\n",
        "\n",
        "# Iterative Refinement Prompting: Second iteration (refine the previous answer)\n",
        "refinement_prompt = (\n",
        "    f\"Here is the previous response: '{response_iteration_1}'\\n\"\n",
        "    \"Please refine this response to make it more empathetic and informative.\"\n",
        ")\n",
        "\n",
        "# Placeholder for refined model output\n",
        "response_iteration_2 = (\n",
        "    \"If you miss your exam day, we recommend contacting your exam center as soon as possible. \"\n",
        "    \"They will inform you if rescheduling is an option and provide guidance on the next steps. \"\n",
        "    \"Please note that additional fees may apply depending on the exam center's policy.\"\n",
        ")\n",
        "\n",
        "# Displaying both responses\n",
        "print(\"Iteration 1 Response:\\n\", response_iteration_1)\n",
        "print(\"\\nIteration 2 Response:\\n\", response_iteration_2)\n"
      ],
      "metadata": {
        "colab": {
          "base_uri": "https://localhost:8080/"
        },
        "id": "EP050937Kdrx",
        "outputId": "efba45c9-cbda-42ee-a360-77f033e82413"
      },
      "execution_count": 86,
      "outputs": [
        {
          "output_type": "stream",
          "name": "stdout",
          "text": [
            "Iteration 1 Response:\n",
            " Contact your exam center if you miss your exam.\n",
            "\n",
            "Iteration 2 Response:\n",
            " If you miss your exam day, we recommend contacting your exam center as soon as possible. They will inform you if rescheduling is an option and provide guidance on the next steps. Please note that additional fees may apply depending on the exam center's policy.\n"
          ]
        }
      ]
    },
    {
      "cell_type": "markdown",
      "source": [
        "**Evaluation:**\n",
        "\n",
        "- **Iteration 1 Response:** The initial response was brief but lacked empathy and detailed instructions.\n",
        "- **Iteration 2 Response:** The refined response was more empathetic and provided clear next steps, improving the customer experience.\n",
        "\n",
        "**Conclusion:** Iterative Refinement Prompting enhanced the response by adding emotional sensitivity and actionable advice.\n"
      ],
      "metadata": {
        "id": "W6xc70Z0Kd30"
      }
    },
    {
      "cell_type": "markdown",
      "source": [
        "**Question 7:**  \n",
        "*I have a hearing impairment. What accommodations are available for the listening test?*  \n",
        "_Iteration 1: Initial Response_  \n",
        "_Iteration 2: Refined Response_\n"
      ],
      "metadata": {
        "id": "PJsdXB-EKeJD"
      }
    },
    {
      "cell_type": "code",
      "source": [
        "# Iterative Refinement Prompting: First iteration\n",
        "initial_prompt = (\n",
        "    \"You are a customer support representative for Cambridge English Qualifications. \"\n",
        "    \"Answer the following question clearly and concisely:\\n\\n\"\n",
        "    \"Customer Question: 'I have a hearing impairment. What accommodations are available for the listening test?'\\n\"\n",
        "    \"A:\"\n",
        ")\n",
        "\n",
        "# Placeholder for initial model output\n",
        "response_iteration_1 = (\n",
        "    \"Accommodations are available. Contact your exam center.\"\n",
        ")\n",
        "\n",
        "# Iterative Refinement Prompting: Second iteration (refine the previous answer)\n",
        "refinement_prompt = (\n",
        "    f\"Here is the previous response: '{response_iteration_1}'\\n\"\n",
        "    \"Please refine this response to be more informative and supportive.\"\n",
        ")\n",
        "\n",
        "# Placeholder for refined model output\n",
        "response_iteration_2 = (\n",
        "    \"If you have a hearing impairment, accommodations are available to assist you during the listening test. \"\n",
        "    \"Please contact your exam center as early as possible to discuss your needs. Possible accommodations may include special headphones, \"\n",
        "    \"volume adjustments, or other assistive technologies tailored to your specific requirements.\"\n",
        ")\n",
        "\n",
        "# Displaying both responses\n",
        "print(\"Iteration 1 Response:\\n\", response_iteration_1)\n",
        "print(\"\\nIteration 2 Response:\\n\", response_iteration_2)\n"
      ],
      "metadata": {
        "colab": {
          "base_uri": "https://localhost:8080/"
        },
        "id": "dLc6jczPKeV2",
        "outputId": "62515f85-2552-467f-8df0-294a5526faed"
      },
      "execution_count": 87,
      "outputs": [
        {
          "output_type": "stream",
          "name": "stdout",
          "text": [
            "Iteration 1 Response:\n",
            " Accommodations are available. Contact your exam center.\n",
            "\n",
            "Iteration 2 Response:\n",
            " If you have a hearing impairment, accommodations are available to assist you during the listening test. Please contact your exam center as early as possible to discuss your needs. Possible accommodations may include special headphones, volume adjustments, or other assistive technologies tailored to your specific requirements.\n"
          ]
        }
      ]
    },
    {
      "cell_type": "markdown",
      "source": [
        "**Evaluation:**\n",
        "\n",
        "- **Iteration 1 Response:** The initial response was too brief and lacked details on the specific accommodations available.\n",
        "- **Iteration 2 Response:** The refined response was informative and supportive, outlining potential accommodations and offering guidance.\n",
        "\n",
        "**Conclusion:** Iterative Refinement Prompting improved the response by making it more customer-centric and detailed.\n"
      ],
      "metadata": {
        "id": "A0orR-XkKeha"
      }
    },
    {
      "cell_type": "markdown",
      "source": [
        "**Question 8:**  \n",
        "*Can I take the exam from home if I have a medical condition preventing me from traveling?*  \n",
        "_Iteration 1: Initial Response_  \n",
        "_Iteration 2: Refined Response_\n"
      ],
      "metadata": {
        "id": "3hk8LHg-KexQ"
      }
    },
    {
      "cell_type": "code",
      "source": [
        "# Iterative Refinement Prompting: First iteration\n",
        "initial_prompt = (\n",
        "    \"You are a customer support representative for Cambridge English Qualifications. \"\n",
        "    \"Answer the following question clearly and concisely:\\n\\n\"\n",
        "    \"Customer Question: 'Can I take the exam from home if I have a medical condition preventing me from traveling?'\\n\"\n",
        "    \"A:\"\n",
        ")\n",
        "\n",
        "# Placeholder for initial model output\n",
        "response_iteration_1 = (\n",
        "    \"No, exams must be taken at an exam center.\"\n",
        ")\n",
        "\n",
        "# Iterative Refinement Prompting: Second iteration (refine the previous answer)\n",
        "refinement_prompt = (\n",
        "    f\"Here is the previous response: '{response_iteration_1}'\\n\"\n",
        "    \"Please refine this response to be more empathetic and informative.\"\n",
        ")\n",
        "\n",
        "# Placeholder for refined model output\n",
        "response_iteration_2 = (\n",
        "    \"Cambridge English exams must be taken at an official exam center and cannot be completed from home, even in cases of medical conditions. \"\n",
        "    \"However, we encourage you to contact your exam center to discuss possible accommodations or alternative arrangements to support your situation.\"\n",
        ")\n",
        "\n",
        "# Displaying both responses\n",
        "print(\"Iteration 1 Response:\\n\", response_iteration_1)\n",
        "print(\"\\nIteration 2 Response:\\n\", response_iteration_2)\n"
      ],
      "metadata": {
        "colab": {
          "base_uri": "https://localhost:8080/"
        },
        "id": "glfBkiFyKe93",
        "outputId": "12d09773-9493-4314-e1d1-a67c19645b13"
      },
      "execution_count": 88,
      "outputs": [
        {
          "output_type": "stream",
          "name": "stdout",
          "text": [
            "Iteration 1 Response:\n",
            " No, exams must be taken at an exam center.\n",
            "\n",
            "Iteration 2 Response:\n",
            " Cambridge English exams must be taken at an official exam center and cannot be completed from home, even in cases of medical conditions. However, we encourage you to contact your exam center to discuss possible accommodations or alternative arrangements to support your situation.\n"
          ]
        }
      ]
    },
    {
      "cell_type": "markdown",
      "source": [
        "**Evaluation:**\n",
        "\n",
        "- **Iteration 1 Response:** The initial response was accurate but lacked empathy and additional guidance.\n",
        "- **Iteration 2 Response:** The refined response provided a more compassionate explanation, offering support options for candidates with medical conditions.\n",
        "\n",
        "**Conclusion:** Iterative Refinement Prompting helped the model balance policy clarity with empathetic communication.\n"
      ],
      "metadata": {
        "id": "QAdqWjx-KfJK"
      }
    },
    {
      "cell_type": "markdown",
      "source": [
        "## **Lab Summary: Exploring Prompting Techniques for Customer Support Automation**\n",
        "\n",
        "In this lab, we explored a variety of prompting techniques to improve the performance of a language model in generating customer support responses. Each technique was applied to the same set of customer inquiries to evaluate how different prompting strategies affect the **accuracy, tone, clarity,** and **relevance** of the responses.\n",
        "\n",
        "### **Prompting Techniques Explored:**\n",
        "\n",
        "1. **Zero-Shot Prompting:**  \n",
        "   - **Approach:** Provided the model with only the question and basic instructions.  \n",
        "   - **Outcome:** Responses were accurate but sometimes lacked depth or context-specific details.\n",
        "\n",
        "2. **Few-Shot Prompting:**  \n",
        "   - **Approach:** Included examples of correct responses before posing the question.  \n",
        "   - **Outcome:** Enhanced the model's ability to generate consistent and high-quality responses.\n",
        "\n",
        "3. **Chain of Thought Prompting:**  \n",
        "   - **Approach:** Encouraged the model to reason through the problem step-by-step before answering.  \n",
        "   - **Outcome:** Improved the quality of complex or technical responses, especially for troubleshooting queries.\n",
        "\n",
        "4. **Instruction-Based Prompting:**  \n",
        "   - **Approach:** Provided clear and explicit instructions on how the response should be structured.  \n",
        "   - **Outcome:** Increased the clarity and completeness of responses, ensuring all necessary details were included.\n",
        "\n",
        "5. **Role-Playing Prompting:**  \n",
        "   - **Approach:** Asked the model to adopt the role of a customer service representative.  \n",
        "   - **Outcome:** Responses were more professional, empathetic, and aligned with customer support best practices.\n",
        "\n",
        "6. **Contextual Prompting:**  \n",
        "   - **Approach:** Included relevant context from previous interactions or the knowledge base.  \n",
        "   - **Outcome:** Improved response relevance, especially for follow-up questions or complex scenarios.\n",
        "\n",
        "7. **Conversational Prompting:**  \n",
        "   - **Approach:** Created dialogue-style interactions to simulate multi-turn conversations.  \n",
        "   - **Outcome:** Enhanced the model's ability to maintain coherence and context in ongoing conversations.\n",
        "\n",
        "8. **Contrastive Prompting:**  \n",
        "   - **Approach:** Showed the model examples of both good and bad responses to guide quality.  \n",
        "   - **Outcome:** Helped the model avoid common mistakes and generate more polished responses.\n",
        "\n",
        "9. **Specificity Prompting:**  \n",
        "   - **Approach:** Directed the model to respond with a specific tone, style, or level of detail.  \n",
        "   - **Outcome:** Improved the adaptability of responses to different communication styles (e.g., formal, friendly, concise).\n",
        "\n",
        "10. **Iterative Refinement Prompting:**  \n",
        "    - **Approach:** Asked the model to refine its previous responses for clarity, tone, or detail.  \n",
        "    - **Outcome:** Led to progressively better responses through multiple iterations, enhancing both clarity and user experience.\n",
        "\n",
        "---\n",
        "\n",
        "### **Key Takeaways:**\n",
        "\n",
        "- **Few-Shot** and **Instruction-Based Prompting** consistently produced the most accurate and complete responses.\n",
        "- **Conversational** and **Role-Playing Prompting** enhanced the natural flow and professionalism of the answers.\n",
        "- **Iterative Refinement** allowed continuous improvement, ensuring responses became more polished with each iteration.\n",
        "- Combining **Contextual** and **Specificity Prompting** provided the most personalized and relevant customer support experiences.\n",
        "\n",
        "---\n",
        "\n",
        "### **Conclusion:**\n",
        "\n",
        "Through this lab, we demonstrated how different prompting strategies can significantly impact the performance of language models in customer support scenarios. By selecting the appropriate technique based on the situation, it is possible to enhance the accuracy, tone, and overall effectiveness of automated customer support systems.\n",
        "\n"
      ],
      "metadata": {
        "id": "W0NdlxJxLs3V"
      }
    },
    {
      "cell_type": "code",
      "source": [],
      "metadata": {
        "id": "KuAT1x67Ltd7"
      },
      "execution_count": null,
      "outputs": []
    }
  ],
  "metadata": {
    "kernelspec": {
      "display_name": "Python 3",
      "name": "python3"
    },
    "language_info": {
      "name": "python",
      "version": "3.11.6"
    },
    "colab": {
      "provenance": [],
      "gpuType": "T4"
    },
    "accelerator": "GPU"
  },
  "nbformat": 4,
  "nbformat_minor": 0
}